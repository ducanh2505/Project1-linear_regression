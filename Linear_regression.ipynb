{
 "cells": [
  {
   "cell_type": "markdown",
   "metadata": {},
   "source": [
    "# Báo Cáo Đồ Án Toán Ứng Dụng Và Thống kê"
   ]
  },
  {
   "cell_type": "code",
   "execution_count": 2,
   "metadata": {},
   "outputs": [
    {
     "name": "stderr",
     "output_type": "stream",
     "text": [
      "C:\\Users\\Admin\\anaconda3\\lib\\site-packages\\ipykernel_launcher.py:7: FutureWarning: pandas.util.testing is deprecated. Use the functions in the public API at pandas.testing instead.\n",
      "  import sys\n"
     ]
    }
   ],
   "source": [
    "# Importing necessary libraries\n",
    "import numpy as np\n",
    "import pandas as pd\n",
    "import matplotlib.pyplot as plt\n",
    "import seaborn as sns\n",
    "\n",
    "import pandas.util.testing as tm\n",
    "import sys\n",
    "%matplotlib inline\n",
    "sns.set()"
   ]
  },
  {
   "cell_type": "markdown",
   "metadata": {},
   "source": [
    "# Data Overview\n"
   ]
  },
  {
   "cell_type": "markdown",
   "metadata": {},
   "source": [
    "Cho tập dữ liệu về một trang mua bán xe hơi cũ. Tập dữu liệu sẽ gồm 2 phần: X sẽ gồm các thông tin về xe, Phần Y là giá mua bán xe."
   ]
  },
  {
   "cell_type": "markdown",
   "metadata": {},
   "source": [
    "### Dữ liệu trong Phần X được mô tả như sau:"
   ]
  },
  {
   "cell_type": "code",
   "execution_count": 3,
   "metadata": {},
   "outputs": [
    {
     "data": {
      "text/html": [
       "<div>\n",
       "<style scoped>\n",
       "    .dataframe tbody tr th:only-of-type {\n",
       "        vertical-align: middle;\n",
       "    }\n",
       "\n",
       "    .dataframe tbody tr th {\n",
       "        vertical-align: top;\n",
       "    }\n",
       "\n",
       "    .dataframe thead th {\n",
       "        text-align: right;\n",
       "    }\n",
       "</style>\n",
       "<table border=\"1\" class=\"dataframe\">\n",
       "  <thead>\n",
       "    <tr style=\"text-align: right;\">\n",
       "      <th></th>\n",
       "      <th>id</th>\n",
       "      <th>manufacturer</th>\n",
       "      <th>model</th>\n",
       "      <th>transmission</th>\n",
       "      <th>color</th>\n",
       "      <th>odometer</th>\n",
       "      <th>year</th>\n",
       "      <th>engineFuel</th>\n",
       "      <th>engineType</th>\n",
       "      <th>engineCapacity</th>\n",
       "      <th>...</th>\n",
       "      <th>feature_0</th>\n",
       "      <th>feature_1</th>\n",
       "      <th>feature_2</th>\n",
       "      <th>feature_3</th>\n",
       "      <th>feature_4</th>\n",
       "      <th>feature_5</th>\n",
       "      <th>feature_6</th>\n",
       "      <th>feature_7</th>\n",
       "      <th>feature_8</th>\n",
       "      <th>feature_9</th>\n",
       "    </tr>\n",
       "  </thead>\n",
       "  <tbody>\n",
       "    <tr>\n",
       "      <th>0</th>\n",
       "      <td>1</td>\n",
       "      <td>Hyundai</td>\n",
       "      <td>i40</td>\n",
       "      <td>automatic</td>\n",
       "      <td>red</td>\n",
       "      <td>48000</td>\n",
       "      <td>2014</td>\n",
       "      <td>gasoline</td>\n",
       "      <td>gasoline</td>\n",
       "      <td>2.0</td>\n",
       "      <td>...</td>\n",
       "      <td>False</td>\n",
       "      <td>True</td>\n",
       "      <td>False</td>\n",
       "      <td>False</td>\n",
       "      <td>False</td>\n",
       "      <td>True</td>\n",
       "      <td>False</td>\n",
       "      <td>False</td>\n",
       "      <td>True</td>\n",
       "      <td>True</td>\n",
       "    </tr>\n",
       "    <tr>\n",
       "      <th>1</th>\n",
       "      <td>2</td>\n",
       "      <td>Mitsubishi</td>\n",
       "      <td>Carisma</td>\n",
       "      <td>mechanical</td>\n",
       "      <td>green</td>\n",
       "      <td>320000</td>\n",
       "      <td>2000</td>\n",
       "      <td>diesel</td>\n",
       "      <td>diesel</td>\n",
       "      <td>1.9</td>\n",
       "      <td>...</td>\n",
       "      <td>False</td>\n",
       "      <td>True</td>\n",
       "      <td>False</td>\n",
       "      <td>False</td>\n",
       "      <td>False</td>\n",
       "      <td>False</td>\n",
       "      <td>False</td>\n",
       "      <td>False</td>\n",
       "      <td>False</td>\n",
       "      <td>False</td>\n",
       "    </tr>\n",
       "    <tr>\n",
       "      <th>2</th>\n",
       "      <td>3</td>\n",
       "      <td>Volkswagen</td>\n",
       "      <td>T5</td>\n",
       "      <td>mechanical</td>\n",
       "      <td>white</td>\n",
       "      <td>164000</td>\n",
       "      <td>2011</td>\n",
       "      <td>diesel</td>\n",
       "      <td>diesel</td>\n",
       "      <td>2.0</td>\n",
       "      <td>...</td>\n",
       "      <td>False</td>\n",
       "      <td>True</td>\n",
       "      <td>False</td>\n",
       "      <td>True</td>\n",
       "      <td>False</td>\n",
       "      <td>False</td>\n",
       "      <td>True</td>\n",
       "      <td>True</td>\n",
       "      <td>True</td>\n",
       "      <td>False</td>\n",
       "    </tr>\n",
       "    <tr>\n",
       "      <th>3</th>\n",
       "      <td>4</td>\n",
       "      <td>Volkswagen</td>\n",
       "      <td>T4 Multivan</td>\n",
       "      <td>mechanical</td>\n",
       "      <td>blue</td>\n",
       "      <td>385672</td>\n",
       "      <td>1998</td>\n",
       "      <td>diesel</td>\n",
       "      <td>diesel</td>\n",
       "      <td>2.5</td>\n",
       "      <td>...</td>\n",
       "      <td>False</td>\n",
       "      <td>True</td>\n",
       "      <td>True</td>\n",
       "      <td>False</td>\n",
       "      <td>False</td>\n",
       "      <td>False</td>\n",
       "      <td>False</td>\n",
       "      <td>False</td>\n",
       "      <td>True</td>\n",
       "      <td>True</td>\n",
       "    </tr>\n",
       "    <tr>\n",
       "      <th>4</th>\n",
       "      <td>5</td>\n",
       "      <td>Toyota</td>\n",
       "      <td>Camry</td>\n",
       "      <td>automatic</td>\n",
       "      <td>black</td>\n",
       "      <td>215652</td>\n",
       "      <td>2005</td>\n",
       "      <td>gasoline</td>\n",
       "      <td>gasoline</td>\n",
       "      <td>2.4</td>\n",
       "      <td>...</td>\n",
       "      <td>False</td>\n",
       "      <td>False</td>\n",
       "      <td>False</td>\n",
       "      <td>False</td>\n",
       "      <td>False</td>\n",
       "      <td>False</td>\n",
       "      <td>False</td>\n",
       "      <td>False</td>\n",
       "      <td>False</td>\n",
       "      <td>True</td>\n",
       "    </tr>\n",
       "  </tbody>\n",
       "</table>\n",
       "<p>5 rows × 23 columns</p>\n",
       "</div>"
      ],
      "text/plain": [
       "   id manufacturer        model transmission  color  odometer  year  \\\n",
       "0   1      Hyundai          i40    automatic    red     48000  2014   \n",
       "1   2   Mitsubishi      Carisma   mechanical  green    320000  2000   \n",
       "2   3   Volkswagen           T5   mechanical  white    164000  2011   \n",
       "3   4   Volkswagen  T4 Multivan   mechanical   blue    385672  1998   \n",
       "4   5       Toyota        Camry    automatic  black    215652  2005   \n",
       "\n",
       "  engineFuel engineType  engineCapacity  ... feature_0 feature_1  feature_2  \\\n",
       "0   gasoline   gasoline             2.0  ...     False      True      False   \n",
       "1     diesel     diesel             1.9  ...     False      True      False   \n",
       "2     diesel     diesel             2.0  ...     False      True      False   \n",
       "3     diesel     diesel             2.5  ...     False      True       True   \n",
       "4   gasoline   gasoline             2.4  ...     False     False      False   \n",
       "\n",
       "   feature_3  feature_4  feature_5  feature_6  feature_7  feature_8  feature_9  \n",
       "0      False      False       True      False      False       True       True  \n",
       "1      False      False      False      False      False      False      False  \n",
       "2       True      False      False       True       True       True      False  \n",
       "3      False      False      False      False      False       True       True  \n",
       "4      False      False      False      False      False      False       True  \n",
       "\n",
       "[5 rows x 23 columns]"
      ]
     },
     "execution_count": 3,
     "metadata": {},
     "output_type": "execute_result"
    }
   ],
   "source": [
    "df_X = pd.read_csv(\"X_train.csv\")\n",
    "df_X.head()"
   ]
  },
  {
   "cell_type": "code",
   "execution_count": 4,
   "metadata": {},
   "outputs": [
    {
     "name": "stdout",
     "output_type": "stream",
     "text": [
      "<class 'pandas.core.frame.DataFrame'>\n",
      "RangeIndex: 30000 entries, 0 to 29999\n",
      "Data columns (total 23 columns):\n",
      " #   Column          Non-Null Count  Dtype  \n",
      "---  ------          --------------  -----  \n",
      " 0   id              30000 non-null  int64  \n",
      " 1   manufacturer    30000 non-null  object \n",
      " 2   model           30000 non-null  object \n",
      " 3   transmission    30000 non-null  object \n",
      " 4   color           30000 non-null  object \n",
      " 5   odometer        30000 non-null  int64  \n",
      " 6   year            30000 non-null  int64  \n",
      " 7   engineFuel      30000 non-null  object \n",
      " 8   engineType      30000 non-null  object \n",
      " 9   engineCapacity  29991 non-null  float64\n",
      " 10  bodyType        30000 non-null  object \n",
      " 11  drivetrain      30000 non-null  object \n",
      " 12  photos          30000 non-null  int64  \n",
      " 13  feature_0       30000 non-null  bool   \n",
      " 14  feature_1       30000 non-null  bool   \n",
      " 15  feature_2       30000 non-null  bool   \n",
      " 16  feature_3       30000 non-null  bool   \n",
      " 17  feature_4       30000 non-null  bool   \n",
      " 18  feature_5       30000 non-null  bool   \n",
      " 19  feature_6       30000 non-null  bool   \n",
      " 20  feature_7       30000 non-null  bool   \n",
      " 21  feature_8       30000 non-null  bool   \n",
      " 22  feature_9       30000 non-null  bool   \n",
      "dtypes: bool(10), float64(1), int64(4), object(8)\n",
      "memory usage: 3.3+ MB\n"
     ]
    }
   ],
   "source": [
    "df_X.info()"
   ]
  },
  {
   "cell_type": "markdown",
   "metadata": {},
   "source": [
    "X gồm  30,000 dòng tương ứng với thông tin của 30,000 xe được ghi lại thông qua các giao dịch và 23 cột tương ứng với 23 thuộc tính của của xe "
   ]
  },
  {
   "cell_type": "markdown",
   "metadata": {},
   "source": [
    "| Thuộc tính              | Kiểu dữ liệu | Ý nghĩa                                  |\n",
    "|:------------------------|:------------:|:----------------------------------------:|\n",
    "|  manufacturer           |  integer     |    Mã số định danh                       |\n",
    "|  model                  |  category    |    Tên nhà sản xuất xe hơi               |\n",
    "|  transmission           |  category    |    Tên mẫu xe                            |\n",
    "|  color                  |  category    |    Loại hộp số                           |\n",
    "|  odmeter                |  integer     |    Màu xe                                |\n",
    "|  year                   |  integer     |    Số km mà xe đã đi                     |\n",
    "|  engineFuel             |  category    |    Năm sản xuất                          |\n",
    "|  engineType             |  category    |    Loại nhiên liệu động cơ               |\n",
    "|  engineCapacity         |  float       |    Dung tích động cơ tính bằng lít       |\n",
    "|  bodyType               |  category    |    Dạng thân xe                          |\n",
    "|  driventrain            |  integer     |    Loại hệ thống dẫn động                |\n",
    "|  photos                 |  integer     |    Số lượng hình ảnh được chụp về xe     |\n",
    "|  feature0,..., feature9 |  boolean     |    Các đặc trưng khác của xe             |\n",
    "| ======================= | ============ | =======================================: |"
   ]
  },
  {
   "cell_type": "markdown",
   "metadata": {},
   "source": [
    "### Dũ liệu trong phần Y được mô tả như sau:\n"
   ]
  },
  {
   "cell_type": "code",
   "execution_count": 5,
   "metadata": {},
   "outputs": [
    {
     "data": {
      "text/html": [
       "<div>\n",
       "<style scoped>\n",
       "    .dataframe tbody tr th:only-of-type {\n",
       "        vertical-align: middle;\n",
       "    }\n",
       "\n",
       "    .dataframe tbody tr th {\n",
       "        vertical-align: top;\n",
       "    }\n",
       "\n",
       "    .dataframe thead th {\n",
       "        text-align: right;\n",
       "    }\n",
       "</style>\n",
       "<table border=\"1\" class=\"dataframe\">\n",
       "  <thead>\n",
       "    <tr style=\"text-align: right;\">\n",
       "      <th></th>\n",
       "      <th>id</th>\n",
       "      <th>price</th>\n",
       "    </tr>\n",
       "  </thead>\n",
       "  <tbody>\n",
       "    <tr>\n",
       "      <th>0</th>\n",
       "      <td>1</td>\n",
       "      <td>15500.0</td>\n",
       "    </tr>\n",
       "    <tr>\n",
       "      <th>1</th>\n",
       "      <td>2</td>\n",
       "      <td>2800.0</td>\n",
       "    </tr>\n",
       "    <tr>\n",
       "      <th>2</th>\n",
       "      <td>3</td>\n",
       "      <td>16700.0</td>\n",
       "    </tr>\n",
       "    <tr>\n",
       "      <th>3</th>\n",
       "      <td>4</td>\n",
       "      <td>11000.0</td>\n",
       "    </tr>\n",
       "    <tr>\n",
       "      <th>4</th>\n",
       "      <td>5</td>\n",
       "      <td>6800.0</td>\n",
       "    </tr>\n",
       "  </tbody>\n",
       "</table>\n",
       "</div>"
      ],
      "text/plain": [
       "   id    price\n",
       "0   1  15500.0\n",
       "1   2   2800.0\n",
       "2   3  16700.0\n",
       "3   4  11000.0\n",
       "4   5   6800.0"
      ]
     },
     "execution_count": 5,
     "metadata": {},
     "output_type": "execute_result"
    }
   ],
   "source": [
    "df_Y = pd.read_csv(\"Y_train.csv\")\n",
    "df_Y.head()"
   ]
  },
  {
   "cell_type": "markdown",
   "metadata": {},
   "source": [
    "- id: mã số định danh\n",
    "- price: giá xe tính theo USD"
   ]
  },
  {
   "cell_type": "markdown",
   "metadata": {},
   "source": [
    "$\\implies$ Nối 2 tập X,Y thành một tập dữ liệu thống nhất (df) nhằm mục đích phân tích dữ liệu "
   ]
  },
  {
   "cell_type": "code",
   "execution_count": 6,
   "metadata": {},
   "outputs": [
    {
     "data": {
      "text/html": [
       "<div>\n",
       "<style scoped>\n",
       "    .dataframe tbody tr th:only-of-type {\n",
       "        vertical-align: middle;\n",
       "    }\n",
       "\n",
       "    .dataframe tbody tr th {\n",
       "        vertical-align: top;\n",
       "    }\n",
       "\n",
       "    .dataframe thead th {\n",
       "        text-align: right;\n",
       "    }\n",
       "</style>\n",
       "<table border=\"1\" class=\"dataframe\">\n",
       "  <thead>\n",
       "    <tr style=\"text-align: right;\">\n",
       "      <th></th>\n",
       "      <th>manufacturer</th>\n",
       "      <th>model</th>\n",
       "      <th>transmission</th>\n",
       "      <th>color</th>\n",
       "      <th>odometer</th>\n",
       "      <th>year</th>\n",
       "      <th>engineFuel</th>\n",
       "      <th>engineType</th>\n",
       "      <th>engineCapacity</th>\n",
       "      <th>bodyType</th>\n",
       "      <th>...</th>\n",
       "      <th>feature_1</th>\n",
       "      <th>feature_2</th>\n",
       "      <th>feature_3</th>\n",
       "      <th>feature_4</th>\n",
       "      <th>feature_5</th>\n",
       "      <th>feature_6</th>\n",
       "      <th>feature_7</th>\n",
       "      <th>feature_8</th>\n",
       "      <th>feature_9</th>\n",
       "      <th>price</th>\n",
       "    </tr>\n",
       "    <tr>\n",
       "      <th>id</th>\n",
       "      <th></th>\n",
       "      <th></th>\n",
       "      <th></th>\n",
       "      <th></th>\n",
       "      <th></th>\n",
       "      <th></th>\n",
       "      <th></th>\n",
       "      <th></th>\n",
       "      <th></th>\n",
       "      <th></th>\n",
       "      <th></th>\n",
       "      <th></th>\n",
       "      <th></th>\n",
       "      <th></th>\n",
       "      <th></th>\n",
       "      <th></th>\n",
       "      <th></th>\n",
       "      <th></th>\n",
       "      <th></th>\n",
       "      <th></th>\n",
       "      <th></th>\n",
       "    </tr>\n",
       "  </thead>\n",
       "  <tbody>\n",
       "    <tr>\n",
       "      <th>1</th>\n",
       "      <td>Hyundai</td>\n",
       "      <td>i40</td>\n",
       "      <td>automatic</td>\n",
       "      <td>red</td>\n",
       "      <td>48000</td>\n",
       "      <td>2014</td>\n",
       "      <td>gasoline</td>\n",
       "      <td>gasoline</td>\n",
       "      <td>2.0</td>\n",
       "      <td>sedan</td>\n",
       "      <td>...</td>\n",
       "      <td>True</td>\n",
       "      <td>False</td>\n",
       "      <td>False</td>\n",
       "      <td>False</td>\n",
       "      <td>True</td>\n",
       "      <td>False</td>\n",
       "      <td>False</td>\n",
       "      <td>True</td>\n",
       "      <td>True</td>\n",
       "      <td>15500.0</td>\n",
       "    </tr>\n",
       "    <tr>\n",
       "      <th>2</th>\n",
       "      <td>Mitsubishi</td>\n",
       "      <td>Carisma</td>\n",
       "      <td>mechanical</td>\n",
       "      <td>green</td>\n",
       "      <td>320000</td>\n",
       "      <td>2000</td>\n",
       "      <td>diesel</td>\n",
       "      <td>diesel</td>\n",
       "      <td>1.9</td>\n",
       "      <td>hatchback</td>\n",
       "      <td>...</td>\n",
       "      <td>True</td>\n",
       "      <td>False</td>\n",
       "      <td>False</td>\n",
       "      <td>False</td>\n",
       "      <td>False</td>\n",
       "      <td>False</td>\n",
       "      <td>False</td>\n",
       "      <td>False</td>\n",
       "      <td>False</td>\n",
       "      <td>2800.0</td>\n",
       "    </tr>\n",
       "    <tr>\n",
       "      <th>3</th>\n",
       "      <td>Volkswagen</td>\n",
       "      <td>T5</td>\n",
       "      <td>mechanical</td>\n",
       "      <td>white</td>\n",
       "      <td>164000</td>\n",
       "      <td>2011</td>\n",
       "      <td>diesel</td>\n",
       "      <td>diesel</td>\n",
       "      <td>2.0</td>\n",
       "      <td>minibus</td>\n",
       "      <td>...</td>\n",
       "      <td>True</td>\n",
       "      <td>False</td>\n",
       "      <td>True</td>\n",
       "      <td>False</td>\n",
       "      <td>False</td>\n",
       "      <td>True</td>\n",
       "      <td>True</td>\n",
       "      <td>True</td>\n",
       "      <td>False</td>\n",
       "      <td>16700.0</td>\n",
       "    </tr>\n",
       "    <tr>\n",
       "      <th>4</th>\n",
       "      <td>Volkswagen</td>\n",
       "      <td>T4 Multivan</td>\n",
       "      <td>mechanical</td>\n",
       "      <td>blue</td>\n",
       "      <td>385672</td>\n",
       "      <td>1998</td>\n",
       "      <td>diesel</td>\n",
       "      <td>diesel</td>\n",
       "      <td>2.5</td>\n",
       "      <td>minibus</td>\n",
       "      <td>...</td>\n",
       "      <td>True</td>\n",
       "      <td>True</td>\n",
       "      <td>False</td>\n",
       "      <td>False</td>\n",
       "      <td>False</td>\n",
       "      <td>False</td>\n",
       "      <td>False</td>\n",
       "      <td>True</td>\n",
       "      <td>True</td>\n",
       "      <td>11000.0</td>\n",
       "    </tr>\n",
       "    <tr>\n",
       "      <th>5</th>\n",
       "      <td>Toyota</td>\n",
       "      <td>Camry</td>\n",
       "      <td>automatic</td>\n",
       "      <td>black</td>\n",
       "      <td>215652</td>\n",
       "      <td>2005</td>\n",
       "      <td>gasoline</td>\n",
       "      <td>gasoline</td>\n",
       "      <td>2.4</td>\n",
       "      <td>sedan</td>\n",
       "      <td>...</td>\n",
       "      <td>False</td>\n",
       "      <td>False</td>\n",
       "      <td>False</td>\n",
       "      <td>False</td>\n",
       "      <td>False</td>\n",
       "      <td>False</td>\n",
       "      <td>False</td>\n",
       "      <td>False</td>\n",
       "      <td>True</td>\n",
       "      <td>6800.0</td>\n",
       "    </tr>\n",
       "  </tbody>\n",
       "</table>\n",
       "<p>5 rows × 23 columns</p>\n",
       "</div>"
      ],
      "text/plain": [
       "   manufacturer        model transmission  color  odometer  year engineFuel  \\\n",
       "id                                                                            \n",
       "1       Hyundai          i40    automatic    red     48000  2014   gasoline   \n",
       "2    Mitsubishi      Carisma   mechanical  green    320000  2000     diesel   \n",
       "3    Volkswagen           T5   mechanical  white    164000  2011     diesel   \n",
       "4    Volkswagen  T4 Multivan   mechanical   blue    385672  1998     diesel   \n",
       "5        Toyota        Camry    automatic  black    215652  2005   gasoline   \n",
       "\n",
       "   engineType  engineCapacity   bodyType  ... feature_1  feature_2  feature_3  \\\n",
       "id                                        ...                                   \n",
       "1    gasoline             2.0      sedan  ...      True      False      False   \n",
       "2      diesel             1.9  hatchback  ...      True      False      False   \n",
       "3      diesel             2.0    minibus  ...      True      False       True   \n",
       "4      diesel             2.5    minibus  ...      True       True      False   \n",
       "5    gasoline             2.4      sedan  ...     False      False      False   \n",
       "\n",
       "    feature_4  feature_5  feature_6  feature_7  feature_8  feature_9    price  \n",
       "id                                                                             \n",
       "1       False       True      False      False       True       True  15500.0  \n",
       "2       False      False      False      False      False      False   2800.0  \n",
       "3       False      False       True       True       True      False  16700.0  \n",
       "4       False      False      False      False       True       True  11000.0  \n",
       "5       False      False      False      False      False       True   6800.0  \n",
       "\n",
       "[5 rows x 23 columns]"
      ]
     },
     "execution_count": 6,
     "metadata": {},
     "output_type": "execute_result"
    }
   ],
   "source": [
    "df = df_X.set_index('id').join(df_Y.set_index('id')) # nối 2 tập dữ liệu df_X và df_Y thành một tập dữ liệu chung thông qua thuộc tính ID\n",
    "df.head()"
   ]
  },
  {
   "cell_type": "markdown",
   "metadata": {},
   "source": [
    "Trên đây là 5 mẫu dữ liệu của tập dữ liệu **df** bao gồm cả 2 phần thuộc tính (X) và giá xe (Y) đã được đọc từ file X_train.csv và file y_train.csv"
   ]
  },
  {
   "cell_type": "markdown",
   "metadata": {},
   "source": [
    "# Data Preprocessing "
   ]
  },
  {
   "cell_type": "markdown",
   "metadata": {},
   "source": [
    "### 1. Check null values"
   ]
  },
  {
   "cell_type": "code",
   "execution_count": 7,
   "metadata": {},
   "outputs": [
    {
     "data": {
      "text/plain": [
       "manufacturer      0\n",
       "model             0\n",
       "transmission      0\n",
       "color             0\n",
       "odometer          0\n",
       "year              0\n",
       "engineFuel        0\n",
       "engineType        0\n",
       "engineCapacity    9\n",
       "bodyType          0\n",
       "drivetrain        0\n",
       "photos            0\n",
       "feature_0         0\n",
       "feature_1         0\n",
       "feature_2         0\n",
       "feature_3         0\n",
       "feature_4         0\n",
       "feature_5         0\n",
       "feature_6         0\n",
       "feature_7         0\n",
       "feature_8         0\n",
       "feature_9         0\n",
       "price             0\n",
       "dtype: int64"
      ]
     },
     "execution_count": 7,
     "metadata": {},
     "output_type": "execute_result"
    }
   ],
   "source": [
    "df.isnull().sum() # hàm xác định số lượng trường dữ liệu bị thiếu ở mỗi cột"
   ]
  },
  {
   "cell_type": "markdown",
   "metadata": {},
   "source": [
    "Đa số các thuộc tính đều khộng bị **Missing data** trừ cột **engineCapacity** bị thiếu dữ liệu ở 9 dòng"
   ]
  },
  {
   "cell_type": "code",
   "execution_count": 8,
   "metadata": {},
   "outputs": [],
   "source": [
    "df['engineCapacity'].fillna(df['engineCapacity'].median(),inplace = True)\n"
   ]
  },
  {
   "cell_type": "markdown",
   "metadata": {},
   "source": [
    "Vì số lượng dữ liệu bị thiếu là rất nhỏ nên ta thay thế các giá trị bị thiếu trong cột **engineCapacity** bằng giá trị Median của những mẫu dữ liệu đang có\n"
   ]
  },
  {
   "cell_type": "code",
   "execution_count": 9,
   "metadata": {},
   "outputs": [
    {
     "data": {
      "text/plain": [
       "manufacturer      0\n",
       "model             0\n",
       "transmission      0\n",
       "color             0\n",
       "odometer          0\n",
       "year              0\n",
       "engineFuel        0\n",
       "engineType        0\n",
       "engineCapacity    0\n",
       "bodyType          0\n",
       "drivetrain        0\n",
       "photos            0\n",
       "feature_0         0\n",
       "feature_1         0\n",
       "feature_2         0\n",
       "feature_3         0\n",
       "feature_4         0\n",
       "feature_5         0\n",
       "feature_6         0\n",
       "feature_7         0\n",
       "feature_8         0\n",
       "feature_9         0\n",
       "price             0\n",
       "dtype: int64"
      ]
     },
     "execution_count": 9,
     "metadata": {},
     "output_type": "execute_result"
    }
   ],
   "source": [
    "df.isnull().sum()"
   ]
  },
  {
   "cell_type": "markdown",
   "metadata": {},
   "source": [
    "### 2. Check duplicate values\n"
   ]
  },
  {
   "cell_type": "code",
   "execution_count": 10,
   "metadata": {},
   "outputs": [
    {
     "data": {
      "text/plain": [
       "25"
      ]
     },
     "execution_count": 10,
     "metadata": {},
     "output_type": "execute_result"
    }
   ],
   "source": [
    "df.duplicated().sum()"
   ]
  },
  {
   "cell_type": "markdown",
   "metadata": {},
   "source": [
    "$\\implies$ trong tập dữ liệu này có 25 trường dữ liệu bị trùng lắp nhau\n"
   ]
  },
  {
   "cell_type": "code",
   "execution_count": 11,
   "metadata": {},
   "outputs": [
    {
     "data": {
      "text/html": [
       "<div>\n",
       "<style scoped>\n",
       "    .dataframe tbody tr th:only-of-type {\n",
       "        vertical-align: middle;\n",
       "    }\n",
       "\n",
       "    .dataframe tbody tr th {\n",
       "        vertical-align: top;\n",
       "    }\n",
       "\n",
       "    .dataframe thead th {\n",
       "        text-align: right;\n",
       "    }\n",
       "</style>\n",
       "<table border=\"1\" class=\"dataframe\">\n",
       "  <thead>\n",
       "    <tr style=\"text-align: right;\">\n",
       "      <th></th>\n",
       "      <th>manufacturer</th>\n",
       "      <th>model</th>\n",
       "      <th>transmission</th>\n",
       "      <th>color</th>\n",
       "      <th>odometer</th>\n",
       "      <th>year</th>\n",
       "      <th>engineFuel</th>\n",
       "      <th>engineType</th>\n",
       "      <th>engineCapacity</th>\n",
       "      <th>bodyType</th>\n",
       "      <th>...</th>\n",
       "      <th>feature_1</th>\n",
       "      <th>feature_2</th>\n",
       "      <th>feature_3</th>\n",
       "      <th>feature_4</th>\n",
       "      <th>feature_5</th>\n",
       "      <th>feature_6</th>\n",
       "      <th>feature_7</th>\n",
       "      <th>feature_8</th>\n",
       "      <th>feature_9</th>\n",
       "      <th>price</th>\n",
       "    </tr>\n",
       "    <tr>\n",
       "      <th>id</th>\n",
       "      <th></th>\n",
       "      <th></th>\n",
       "      <th></th>\n",
       "      <th></th>\n",
       "      <th></th>\n",
       "      <th></th>\n",
       "      <th></th>\n",
       "      <th></th>\n",
       "      <th></th>\n",
       "      <th></th>\n",
       "      <th></th>\n",
       "      <th></th>\n",
       "      <th></th>\n",
       "      <th></th>\n",
       "      <th></th>\n",
       "      <th></th>\n",
       "      <th></th>\n",
       "      <th></th>\n",
       "      <th></th>\n",
       "      <th></th>\n",
       "      <th></th>\n",
       "    </tr>\n",
       "  </thead>\n",
       "  <tbody>\n",
       "    <tr>\n",
       "      <th>4242</th>\n",
       "      <td>Skoda</td>\n",
       "      <td>Octavia</td>\n",
       "      <td>mechanical</td>\n",
       "      <td>grey</td>\n",
       "      <td>159000</td>\n",
       "      <td>2009</td>\n",
       "      <td>gasoline</td>\n",
       "      <td>gasoline</td>\n",
       "      <td>1.8</td>\n",
       "      <td>universal</td>\n",
       "      <td>...</td>\n",
       "      <td>False</td>\n",
       "      <td>False</td>\n",
       "      <td>False</td>\n",
       "      <td>False</td>\n",
       "      <td>False</td>\n",
       "      <td>False</td>\n",
       "      <td>False</td>\n",
       "      <td>False</td>\n",
       "      <td>False</td>\n",
       "      <td>8000.0</td>\n",
       "    </tr>\n",
       "    <tr>\n",
       "      <th>7808</th>\n",
       "      <td>Renault</td>\n",
       "      <td>19</td>\n",
       "      <td>mechanical</td>\n",
       "      <td>blue</td>\n",
       "      <td>99999</td>\n",
       "      <td>1992</td>\n",
       "      <td>gasoline</td>\n",
       "      <td>gasoline</td>\n",
       "      <td>1.7</td>\n",
       "      <td>sedan</td>\n",
       "      <td>...</td>\n",
       "      <td>False</td>\n",
       "      <td>False</td>\n",
       "      <td>False</td>\n",
       "      <td>False</td>\n",
       "      <td>False</td>\n",
       "      <td>False</td>\n",
       "      <td>False</td>\n",
       "      <td>False</td>\n",
       "      <td>False</td>\n",
       "      <td>10.0</td>\n",
       "    </tr>\n",
       "    <tr>\n",
       "      <th>9005</th>\n",
       "      <td>Volkswagen</td>\n",
       "      <td>Golf</td>\n",
       "      <td>mechanical</td>\n",
       "      <td>grey</td>\n",
       "      <td>149000</td>\n",
       "      <td>2015</td>\n",
       "      <td>diesel</td>\n",
       "      <td>diesel</td>\n",
       "      <td>1.6</td>\n",
       "      <td>universal</td>\n",
       "      <td>...</td>\n",
       "      <td>True</td>\n",
       "      <td>False</td>\n",
       "      <td>False</td>\n",
       "      <td>False</td>\n",
       "      <td>True</td>\n",
       "      <td>True</td>\n",
       "      <td>False</td>\n",
       "      <td>True</td>\n",
       "      <td>True</td>\n",
       "      <td>12600.0</td>\n",
       "    </tr>\n",
       "    <tr>\n",
       "      <th>9343</th>\n",
       "      <td>Renault</td>\n",
       "      <td>Fluence</td>\n",
       "      <td>mechanical</td>\n",
       "      <td>black</td>\n",
       "      <td>167817</td>\n",
       "      <td>2011</td>\n",
       "      <td>diesel</td>\n",
       "      <td>diesel</td>\n",
       "      <td>1.5</td>\n",
       "      <td>sedan</td>\n",
       "      <td>...</td>\n",
       "      <td>True</td>\n",
       "      <td>False</td>\n",
       "      <td>False</td>\n",
       "      <td>False</td>\n",
       "      <td>False</td>\n",
       "      <td>False</td>\n",
       "      <td>False</td>\n",
       "      <td>True</td>\n",
       "      <td>True</td>\n",
       "      <td>8500.0</td>\n",
       "    </tr>\n",
       "    <tr>\n",
       "      <th>10191</th>\n",
       "      <td>Hyundai</td>\n",
       "      <td>Atos</td>\n",
       "      <td>mechanical</td>\n",
       "      <td>silver</td>\n",
       "      <td>150000</td>\n",
       "      <td>2004</td>\n",
       "      <td>gasoline</td>\n",
       "      <td>gasoline</td>\n",
       "      <td>1.1</td>\n",
       "      <td>hatchback</td>\n",
       "      <td>...</td>\n",
       "      <td>False</td>\n",
       "      <td>False</td>\n",
       "      <td>False</td>\n",
       "      <td>False</td>\n",
       "      <td>False</td>\n",
       "      <td>False</td>\n",
       "      <td>False</td>\n",
       "      <td>False</td>\n",
       "      <td>False</td>\n",
       "      <td>3300.0</td>\n",
       "    </tr>\n",
       "    <tr>\n",
       "      <th>12817</th>\n",
       "      <td>Citroen</td>\n",
       "      <td>Xantia</td>\n",
       "      <td>mechanical</td>\n",
       "      <td>silver</td>\n",
       "      <td>520000</td>\n",
       "      <td>1998</td>\n",
       "      <td>diesel</td>\n",
       "      <td>diesel</td>\n",
       "      <td>2.1</td>\n",
       "      <td>universal</td>\n",
       "      <td>...</td>\n",
       "      <td>True</td>\n",
       "      <td>False</td>\n",
       "      <td>False</td>\n",
       "      <td>False</td>\n",
       "      <td>False</td>\n",
       "      <td>False</td>\n",
       "      <td>False</td>\n",
       "      <td>False</td>\n",
       "      <td>False</td>\n",
       "      <td>1000.0</td>\n",
       "    </tr>\n",
       "    <tr>\n",
       "      <th>13213</th>\n",
       "      <td>Volvo</td>\n",
       "      <td>850</td>\n",
       "      <td>mechanical</td>\n",
       "      <td>blue</td>\n",
       "      <td>300000</td>\n",
       "      <td>1994</td>\n",
       "      <td>diesel</td>\n",
       "      <td>diesel</td>\n",
       "      <td>2.0</td>\n",
       "      <td>sedan</td>\n",
       "      <td>...</td>\n",
       "      <td>True</td>\n",
       "      <td>False</td>\n",
       "      <td>False</td>\n",
       "      <td>True</td>\n",
       "      <td>True</td>\n",
       "      <td>False</td>\n",
       "      <td>False</td>\n",
       "      <td>True</td>\n",
       "      <td>True</td>\n",
       "      <td>2350.0</td>\n",
       "    </tr>\n",
       "    <tr>\n",
       "      <th>14585</th>\n",
       "      <td>Audi</td>\n",
       "      <td>A4</td>\n",
       "      <td>mechanical</td>\n",
       "      <td>blue</td>\n",
       "      <td>325000</td>\n",
       "      <td>2002</td>\n",
       "      <td>diesel</td>\n",
       "      <td>diesel</td>\n",
       "      <td>2.5</td>\n",
       "      <td>universal</td>\n",
       "      <td>...</td>\n",
       "      <td>False</td>\n",
       "      <td>False</td>\n",
       "      <td>False</td>\n",
       "      <td>False</td>\n",
       "      <td>False</td>\n",
       "      <td>False</td>\n",
       "      <td>False</td>\n",
       "      <td>False</td>\n",
       "      <td>False</td>\n",
       "      <td>5650.0</td>\n",
       "    </tr>\n",
       "    <tr>\n",
       "      <th>14847</th>\n",
       "      <td>Daewoo</td>\n",
       "      <td>Matiz</td>\n",
       "      <td>mechanical</td>\n",
       "      <td>other</td>\n",
       "      <td>221000</td>\n",
       "      <td>2006</td>\n",
       "      <td>gasoline</td>\n",
       "      <td>gasoline</td>\n",
       "      <td>1.0</td>\n",
       "      <td>hatchback</td>\n",
       "      <td>...</td>\n",
       "      <td>False</td>\n",
       "      <td>False</td>\n",
       "      <td>False</td>\n",
       "      <td>False</td>\n",
       "      <td>False</td>\n",
       "      <td>False</td>\n",
       "      <td>False</td>\n",
       "      <td>False</td>\n",
       "      <td>False</td>\n",
       "      <td>950.0</td>\n",
       "    </tr>\n",
       "    <tr>\n",
       "      <th>15470</th>\n",
       "      <td>Peugeot</td>\n",
       "      <td>307</td>\n",
       "      <td>automatic</td>\n",
       "      <td>red</td>\n",
       "      <td>268481</td>\n",
       "      <td>2001</td>\n",
       "      <td>gasoline</td>\n",
       "      <td>gasoline</td>\n",
       "      <td>2.0</td>\n",
       "      <td>hatchback</td>\n",
       "      <td>...</td>\n",
       "      <td>False</td>\n",
       "      <td>True</td>\n",
       "      <td>True</td>\n",
       "      <td>False</td>\n",
       "      <td>True</td>\n",
       "      <td>False</td>\n",
       "      <td>False</td>\n",
       "      <td>True</td>\n",
       "      <td>False</td>\n",
       "      <td>3100.0</td>\n",
       "    </tr>\n",
       "    <tr>\n",
       "      <th>17506</th>\n",
       "      <td>Volkswagen</td>\n",
       "      <td>Passat</td>\n",
       "      <td>mechanical</td>\n",
       "      <td>black</td>\n",
       "      <td>157000</td>\n",
       "      <td>2008</td>\n",
       "      <td>gasoline</td>\n",
       "      <td>gasoline</td>\n",
       "      <td>1.8</td>\n",
       "      <td>sedan</td>\n",
       "      <td>...</td>\n",
       "      <td>True</td>\n",
       "      <td>True</td>\n",
       "      <td>True</td>\n",
       "      <td>True</td>\n",
       "      <td>True</td>\n",
       "      <td>False</td>\n",
       "      <td>True</td>\n",
       "      <td>True</td>\n",
       "      <td>True</td>\n",
       "      <td>7300.0</td>\n",
       "    </tr>\n",
       "    <tr>\n",
       "      <th>22210</th>\n",
       "      <td>Mazda</td>\n",
       "      <td>CX-7</td>\n",
       "      <td>automatic</td>\n",
       "      <td>white</td>\n",
       "      <td>83200</td>\n",
       "      <td>2009</td>\n",
       "      <td>gasoline</td>\n",
       "      <td>gasoline</td>\n",
       "      <td>2.3</td>\n",
       "      <td>suv</td>\n",
       "      <td>...</td>\n",
       "      <td>True</td>\n",
       "      <td>True</td>\n",
       "      <td>False</td>\n",
       "      <td>False</td>\n",
       "      <td>True</td>\n",
       "      <td>True</td>\n",
       "      <td>False</td>\n",
       "      <td>True</td>\n",
       "      <td>True</td>\n",
       "      <td>10950.0</td>\n",
       "    </tr>\n",
       "    <tr>\n",
       "      <th>24732</th>\n",
       "      <td>Mitsubishi</td>\n",
       "      <td>Pajero</td>\n",
       "      <td>automatic</td>\n",
       "      <td>green</td>\n",
       "      <td>300000</td>\n",
       "      <td>2000</td>\n",
       "      <td>gasoline</td>\n",
       "      <td>gasoline</td>\n",
       "      <td>3.5</td>\n",
       "      <td>suv</td>\n",
       "      <td>...</td>\n",
       "      <td>False</td>\n",
       "      <td>False</td>\n",
       "      <td>False</td>\n",
       "      <td>False</td>\n",
       "      <td>False</td>\n",
       "      <td>False</td>\n",
       "      <td>False</td>\n",
       "      <td>False</td>\n",
       "      <td>False</td>\n",
       "      <td>7700.0</td>\n",
       "    </tr>\n",
       "    <tr>\n",
       "      <th>24805</th>\n",
       "      <td>Toyota</td>\n",
       "      <td>HiAce</td>\n",
       "      <td>mechanical</td>\n",
       "      <td>brown</td>\n",
       "      <td>200000</td>\n",
       "      <td>1989</td>\n",
       "      <td>diesel</td>\n",
       "      <td>diesel</td>\n",
       "      <td>2.4</td>\n",
       "      <td>minibus</td>\n",
       "      <td>...</td>\n",
       "      <td>False</td>\n",
       "      <td>False</td>\n",
       "      <td>False</td>\n",
       "      <td>False</td>\n",
       "      <td>False</td>\n",
       "      <td>False</td>\n",
       "      <td>False</td>\n",
       "      <td>False</td>\n",
       "      <td>False</td>\n",
       "      <td>2300.0</td>\n",
       "    </tr>\n",
       "    <tr>\n",
       "      <th>25622</th>\n",
       "      <td>Ford</td>\n",
       "      <td>Scorpio</td>\n",
       "      <td>mechanical</td>\n",
       "      <td>yellow</td>\n",
       "      <td>55555</td>\n",
       "      <td>1995</td>\n",
       "      <td>gasoline</td>\n",
       "      <td>gasoline</td>\n",
       "      <td>2.0</td>\n",
       "      <td>liftback</td>\n",
       "      <td>...</td>\n",
       "      <td>False</td>\n",
       "      <td>False</td>\n",
       "      <td>False</td>\n",
       "      <td>False</td>\n",
       "      <td>False</td>\n",
       "      <td>False</td>\n",
       "      <td>False</td>\n",
       "      <td>False</td>\n",
       "      <td>False</td>\n",
       "      <td>600.0</td>\n",
       "    </tr>\n",
       "    <tr>\n",
       "      <th>25999</th>\n",
       "      <td>Volkswagen</td>\n",
       "      <td>Passat</td>\n",
       "      <td>mechanical</td>\n",
       "      <td>black</td>\n",
       "      <td>324000</td>\n",
       "      <td>2004</td>\n",
       "      <td>diesel</td>\n",
       "      <td>diesel</td>\n",
       "      <td>1.9</td>\n",
       "      <td>sedan</td>\n",
       "      <td>...</td>\n",
       "      <td>True</td>\n",
       "      <td>False</td>\n",
       "      <td>False</td>\n",
       "      <td>False</td>\n",
       "      <td>True</td>\n",
       "      <td>False</td>\n",
       "      <td>False</td>\n",
       "      <td>True</td>\n",
       "      <td>True</td>\n",
       "      <td>4800.0</td>\n",
       "    </tr>\n",
       "    <tr>\n",
       "      <th>26023</th>\n",
       "      <td>Volkswagen</td>\n",
       "      <td>Passat</td>\n",
       "      <td>mechanical</td>\n",
       "      <td>white</td>\n",
       "      <td>348000</td>\n",
       "      <td>1993</td>\n",
       "      <td>diesel</td>\n",
       "      <td>diesel</td>\n",
       "      <td>1.9</td>\n",
       "      <td>sedan</td>\n",
       "      <td>...</td>\n",
       "      <td>False</td>\n",
       "      <td>False</td>\n",
       "      <td>False</td>\n",
       "      <td>False</td>\n",
       "      <td>False</td>\n",
       "      <td>False</td>\n",
       "      <td>False</td>\n",
       "      <td>False</td>\n",
       "      <td>False</td>\n",
       "      <td>1200.0</td>\n",
       "    </tr>\n",
       "    <tr>\n",
       "      <th>26296</th>\n",
       "      <td>Peugeot</td>\n",
       "      <td>605</td>\n",
       "      <td>mechanical</td>\n",
       "      <td>grey</td>\n",
       "      <td>358000</td>\n",
       "      <td>1998</td>\n",
       "      <td>diesel</td>\n",
       "      <td>diesel</td>\n",
       "      <td>2.5</td>\n",
       "      <td>sedan</td>\n",
       "      <td>...</td>\n",
       "      <td>True</td>\n",
       "      <td>False</td>\n",
       "      <td>False</td>\n",
       "      <td>False</td>\n",
       "      <td>False</td>\n",
       "      <td>False</td>\n",
       "      <td>True</td>\n",
       "      <td>True</td>\n",
       "      <td>True</td>\n",
       "      <td>2200.0</td>\n",
       "    </tr>\n",
       "    <tr>\n",
       "      <th>26483</th>\n",
       "      <td>Ford</td>\n",
       "      <td>Mondeo</td>\n",
       "      <td>mechanical</td>\n",
       "      <td>green</td>\n",
       "      <td>380000</td>\n",
       "      <td>1998</td>\n",
       "      <td>diesel</td>\n",
       "      <td>diesel</td>\n",
       "      <td>1.8</td>\n",
       "      <td>universal</td>\n",
       "      <td>...</td>\n",
       "      <td>False</td>\n",
       "      <td>False</td>\n",
       "      <td>False</td>\n",
       "      <td>False</td>\n",
       "      <td>True</td>\n",
       "      <td>False</td>\n",
       "      <td>False</td>\n",
       "      <td>True</td>\n",
       "      <td>True</td>\n",
       "      <td>1350.0</td>\n",
       "    </tr>\n",
       "    <tr>\n",
       "      <th>26862</th>\n",
       "      <td>Mitsubishi</td>\n",
       "      <td>Carisma</td>\n",
       "      <td>mechanical</td>\n",
       "      <td>silver</td>\n",
       "      <td>300000</td>\n",
       "      <td>1997</td>\n",
       "      <td>diesel</td>\n",
       "      <td>diesel</td>\n",
       "      <td>1.9</td>\n",
       "      <td>sedan</td>\n",
       "      <td>...</td>\n",
       "      <td>False</td>\n",
       "      <td>False</td>\n",
       "      <td>False</td>\n",
       "      <td>False</td>\n",
       "      <td>False</td>\n",
       "      <td>False</td>\n",
       "      <td>False</td>\n",
       "      <td>False</td>\n",
       "      <td>False</td>\n",
       "      <td>1000.0</td>\n",
       "    </tr>\n",
       "    <tr>\n",
       "      <th>27622</th>\n",
       "      <td>Mazda</td>\n",
       "      <td>3</td>\n",
       "      <td>mechanical</td>\n",
       "      <td>black</td>\n",
       "      <td>17500</td>\n",
       "      <td>2014</td>\n",
       "      <td>gasoline</td>\n",
       "      <td>gasoline</td>\n",
       "      <td>1.6</td>\n",
       "      <td>sedan</td>\n",
       "      <td>...</td>\n",
       "      <td>True</td>\n",
       "      <td>False</td>\n",
       "      <td>False</td>\n",
       "      <td>False</td>\n",
       "      <td>True</td>\n",
       "      <td>False</td>\n",
       "      <td>False</td>\n",
       "      <td>True</td>\n",
       "      <td>True</td>\n",
       "      <td>17000.0</td>\n",
       "    </tr>\n",
       "    <tr>\n",
       "      <th>28240</th>\n",
       "      <td>Volkswagen</td>\n",
       "      <td>Touareg</td>\n",
       "      <td>automatic</td>\n",
       "      <td>grey</td>\n",
       "      <td>337400</td>\n",
       "      <td>2008</td>\n",
       "      <td>diesel</td>\n",
       "      <td>diesel</td>\n",
       "      <td>2.5</td>\n",
       "      <td>suv</td>\n",
       "      <td>...</td>\n",
       "      <td>True</td>\n",
       "      <td>True</td>\n",
       "      <td>False</td>\n",
       "      <td>False</td>\n",
       "      <td>True</td>\n",
       "      <td>False</td>\n",
       "      <td>False</td>\n",
       "      <td>True</td>\n",
       "      <td>True</td>\n",
       "      <td>10400.0</td>\n",
       "    </tr>\n",
       "    <tr>\n",
       "      <th>28258</th>\n",
       "      <td>Citroen</td>\n",
       "      <td>C5</td>\n",
       "      <td>mechanical</td>\n",
       "      <td>grey</td>\n",
       "      <td>365000</td>\n",
       "      <td>2001</td>\n",
       "      <td>diesel</td>\n",
       "      <td>diesel</td>\n",
       "      <td>2.0</td>\n",
       "      <td>universal</td>\n",
       "      <td>...</td>\n",
       "      <td>True</td>\n",
       "      <td>False</td>\n",
       "      <td>False</td>\n",
       "      <td>False</td>\n",
       "      <td>True</td>\n",
       "      <td>False</td>\n",
       "      <td>False</td>\n",
       "      <td>True</td>\n",
       "      <td>True</td>\n",
       "      <td>4100.0</td>\n",
       "    </tr>\n",
       "    <tr>\n",
       "      <th>28403</th>\n",
       "      <td>Mitsubishi</td>\n",
       "      <td>Lancer</td>\n",
       "      <td>automatic</td>\n",
       "      <td>black</td>\n",
       "      <td>250000</td>\n",
       "      <td>2003</td>\n",
       "      <td>gasoline</td>\n",
       "      <td>gasoline</td>\n",
       "      <td>2.0</td>\n",
       "      <td>sedan</td>\n",
       "      <td>...</td>\n",
       "      <td>True</td>\n",
       "      <td>False</td>\n",
       "      <td>False</td>\n",
       "      <td>False</td>\n",
       "      <td>False</td>\n",
       "      <td>False</td>\n",
       "      <td>False</td>\n",
       "      <td>False</td>\n",
       "      <td>False</td>\n",
       "      <td>2500.0</td>\n",
       "    </tr>\n",
       "    <tr>\n",
       "      <th>28569</th>\n",
       "      <td>Toyota</td>\n",
       "      <td>Venza</td>\n",
       "      <td>automatic</td>\n",
       "      <td>brown</td>\n",
       "      <td>151874</td>\n",
       "      <td>2011</td>\n",
       "      <td>gasoline</td>\n",
       "      <td>gasoline</td>\n",
       "      <td>2.7</td>\n",
       "      <td>suv</td>\n",
       "      <td>...</td>\n",
       "      <td>True</td>\n",
       "      <td>True</td>\n",
       "      <td>True</td>\n",
       "      <td>True</td>\n",
       "      <td>True</td>\n",
       "      <td>True</td>\n",
       "      <td>True</td>\n",
       "      <td>True</td>\n",
       "      <td>True</td>\n",
       "      <td>17500.0</td>\n",
       "    </tr>\n",
       "  </tbody>\n",
       "</table>\n",
       "<p>25 rows × 23 columns</p>\n",
       "</div>"
      ],
      "text/plain": [
       "      manufacturer    model transmission   color  odometer  year engineFuel  \\\n",
       "id                                                                            \n",
       "4242         Skoda  Octavia   mechanical    grey    159000  2009   gasoline   \n",
       "7808       Renault       19   mechanical    blue     99999  1992   gasoline   \n",
       "9005    Volkswagen     Golf   mechanical    grey    149000  2015     diesel   \n",
       "9343       Renault  Fluence   mechanical   black    167817  2011     diesel   \n",
       "10191      Hyundai     Atos   mechanical  silver    150000  2004   gasoline   \n",
       "12817      Citroen   Xantia   mechanical  silver    520000  1998     diesel   \n",
       "13213        Volvo      850   mechanical    blue    300000  1994     diesel   \n",
       "14585         Audi       A4   mechanical    blue    325000  2002     diesel   \n",
       "14847       Daewoo    Matiz   mechanical   other    221000  2006   gasoline   \n",
       "15470      Peugeot      307    automatic     red    268481  2001   gasoline   \n",
       "17506   Volkswagen   Passat   mechanical   black    157000  2008   gasoline   \n",
       "22210        Mazda     CX-7    automatic   white     83200  2009   gasoline   \n",
       "24732   Mitsubishi   Pajero    automatic   green    300000  2000   gasoline   \n",
       "24805       Toyota    HiAce   mechanical   brown    200000  1989     diesel   \n",
       "25622         Ford  Scorpio   mechanical  yellow     55555  1995   gasoline   \n",
       "25999   Volkswagen   Passat   mechanical   black    324000  2004     diesel   \n",
       "26023   Volkswagen   Passat   mechanical   white    348000  1993     diesel   \n",
       "26296      Peugeot      605   mechanical    grey    358000  1998     diesel   \n",
       "26483         Ford   Mondeo   mechanical   green    380000  1998     diesel   \n",
       "26862   Mitsubishi  Carisma   mechanical  silver    300000  1997     diesel   \n",
       "27622        Mazda        3   mechanical   black     17500  2014   gasoline   \n",
       "28240   Volkswagen  Touareg    automatic    grey    337400  2008     diesel   \n",
       "28258      Citroen       C5   mechanical    grey    365000  2001     diesel   \n",
       "28403   Mitsubishi   Lancer    automatic   black    250000  2003   gasoline   \n",
       "28569       Toyota    Venza    automatic   brown    151874  2011   gasoline   \n",
       "\n",
       "      engineType  engineCapacity   bodyType  ... feature_1  feature_2  \\\n",
       "id                                           ...                        \n",
       "4242    gasoline             1.8  universal  ...     False      False   \n",
       "7808    gasoline             1.7      sedan  ...     False      False   \n",
       "9005      diesel             1.6  universal  ...      True      False   \n",
       "9343      diesel             1.5      sedan  ...      True      False   \n",
       "10191   gasoline             1.1  hatchback  ...     False      False   \n",
       "12817     diesel             2.1  universal  ...      True      False   \n",
       "13213     diesel             2.0      sedan  ...      True      False   \n",
       "14585     diesel             2.5  universal  ...     False      False   \n",
       "14847   gasoline             1.0  hatchback  ...     False      False   \n",
       "15470   gasoline             2.0  hatchback  ...     False       True   \n",
       "17506   gasoline             1.8      sedan  ...      True       True   \n",
       "22210   gasoline             2.3        suv  ...      True       True   \n",
       "24732   gasoline             3.5        suv  ...     False      False   \n",
       "24805     diesel             2.4    minibus  ...     False      False   \n",
       "25622   gasoline             2.0   liftback  ...     False      False   \n",
       "25999     diesel             1.9      sedan  ...      True      False   \n",
       "26023     diesel             1.9      sedan  ...     False      False   \n",
       "26296     diesel             2.5      sedan  ...      True      False   \n",
       "26483     diesel             1.8  universal  ...     False      False   \n",
       "26862     diesel             1.9      sedan  ...     False      False   \n",
       "27622   gasoline             1.6      sedan  ...      True      False   \n",
       "28240     diesel             2.5        suv  ...      True       True   \n",
       "28258     diesel             2.0  universal  ...      True      False   \n",
       "28403   gasoline             2.0      sedan  ...      True      False   \n",
       "28569   gasoline             2.7        suv  ...      True       True   \n",
       "\n",
       "       feature_3  feature_4  feature_5  feature_6  feature_7  feature_8  \\\n",
       "id                                                                        \n",
       "4242       False      False      False      False      False      False   \n",
       "7808       False      False      False      False      False      False   \n",
       "9005       False      False       True       True      False       True   \n",
       "9343       False      False      False      False      False       True   \n",
       "10191      False      False      False      False      False      False   \n",
       "12817      False      False      False      False      False      False   \n",
       "13213      False       True       True      False      False       True   \n",
       "14585      False      False      False      False      False      False   \n",
       "14847      False      False      False      False      False      False   \n",
       "15470       True      False       True      False      False       True   \n",
       "17506       True       True       True      False       True       True   \n",
       "22210      False      False       True       True      False       True   \n",
       "24732      False      False      False      False      False      False   \n",
       "24805      False      False      False      False      False      False   \n",
       "25622      False      False      False      False      False      False   \n",
       "25999      False      False       True      False      False       True   \n",
       "26023      False      False      False      False      False      False   \n",
       "26296      False      False      False      False       True       True   \n",
       "26483      False      False       True      False      False       True   \n",
       "26862      False      False      False      False      False      False   \n",
       "27622      False      False       True      False      False       True   \n",
       "28240      False      False       True      False      False       True   \n",
       "28258      False      False       True      False      False       True   \n",
       "28403      False      False      False      False      False      False   \n",
       "28569       True       True       True       True       True       True   \n",
       "\n",
       "       feature_9    price  \n",
       "id                         \n",
       "4242       False   8000.0  \n",
       "7808       False     10.0  \n",
       "9005        True  12600.0  \n",
       "9343        True   8500.0  \n",
       "10191      False   3300.0  \n",
       "12817      False   1000.0  \n",
       "13213       True   2350.0  \n",
       "14585      False   5650.0  \n",
       "14847      False    950.0  \n",
       "15470      False   3100.0  \n",
       "17506       True   7300.0  \n",
       "22210       True  10950.0  \n",
       "24732      False   7700.0  \n",
       "24805      False   2300.0  \n",
       "25622      False    600.0  \n",
       "25999       True   4800.0  \n",
       "26023      False   1200.0  \n",
       "26296       True   2200.0  \n",
       "26483       True   1350.0  \n",
       "26862      False   1000.0  \n",
       "27622       True  17000.0  \n",
       "28240       True  10400.0  \n",
       "28258       True   4100.0  \n",
       "28403      False   2500.0  \n",
       "28569       True  17500.0  \n",
       "\n",
       "[25 rows x 23 columns]"
      ]
     },
     "execution_count": 11,
     "metadata": {},
     "output_type": "execute_result"
    }
   ],
   "source": [
    "duplicated_df = df[df.duplicated()]\n",
    "duplicated_df"
   ]
  },
  {
   "cell_type": "markdown",
   "metadata": {},
   "source": [
    "Bảng dữ liệu ở trên là danh sách 25 hàng dữ liệu bị trùng lắp (đã loại bỏ hàng dữ liệu mà đã suất hiện trước đó) "
   ]
  },
  {
   "cell_type": "markdown",
   "metadata": {},
   "source": [
    "$\\implies$ Ta tiến hành xóa các hàng dữ liệu này"
   ]
  },
  {
   "cell_type": "code",
   "execution_count": 12,
   "metadata": {},
   "outputs": [
    {
     "data": {
      "text/html": [
       "<div>\n",
       "<style scoped>\n",
       "    .dataframe tbody tr th:only-of-type {\n",
       "        vertical-align: middle;\n",
       "    }\n",
       "\n",
       "    .dataframe tbody tr th {\n",
       "        vertical-align: top;\n",
       "    }\n",
       "\n",
       "    .dataframe thead th {\n",
       "        text-align: right;\n",
       "    }\n",
       "</style>\n",
       "<table border=\"1\" class=\"dataframe\">\n",
       "  <thead>\n",
       "    <tr style=\"text-align: right;\">\n",
       "      <th></th>\n",
       "      <th>manufacturer</th>\n",
       "      <th>model</th>\n",
       "      <th>transmission</th>\n",
       "      <th>color</th>\n",
       "      <th>odometer</th>\n",
       "      <th>year</th>\n",
       "      <th>engineFuel</th>\n",
       "      <th>engineType</th>\n",
       "      <th>engineCapacity</th>\n",
       "      <th>bodyType</th>\n",
       "      <th>...</th>\n",
       "      <th>feature_1</th>\n",
       "      <th>feature_2</th>\n",
       "      <th>feature_3</th>\n",
       "      <th>feature_4</th>\n",
       "      <th>feature_5</th>\n",
       "      <th>feature_6</th>\n",
       "      <th>feature_7</th>\n",
       "      <th>feature_8</th>\n",
       "      <th>feature_9</th>\n",
       "      <th>price</th>\n",
       "    </tr>\n",
       "  </thead>\n",
       "  <tbody>\n",
       "    <tr>\n",
       "      <th>0</th>\n",
       "      <td>Hyundai</td>\n",
       "      <td>i40</td>\n",
       "      <td>automatic</td>\n",
       "      <td>red</td>\n",
       "      <td>48000</td>\n",
       "      <td>2014</td>\n",
       "      <td>gasoline</td>\n",
       "      <td>gasoline</td>\n",
       "      <td>2.0</td>\n",
       "      <td>sedan</td>\n",
       "      <td>...</td>\n",
       "      <td>True</td>\n",
       "      <td>False</td>\n",
       "      <td>False</td>\n",
       "      <td>False</td>\n",
       "      <td>True</td>\n",
       "      <td>False</td>\n",
       "      <td>False</td>\n",
       "      <td>True</td>\n",
       "      <td>True</td>\n",
       "      <td>15500.0</td>\n",
       "    </tr>\n",
       "    <tr>\n",
       "      <th>1</th>\n",
       "      <td>Mitsubishi</td>\n",
       "      <td>Carisma</td>\n",
       "      <td>mechanical</td>\n",
       "      <td>green</td>\n",
       "      <td>320000</td>\n",
       "      <td>2000</td>\n",
       "      <td>diesel</td>\n",
       "      <td>diesel</td>\n",
       "      <td>1.9</td>\n",
       "      <td>hatchback</td>\n",
       "      <td>...</td>\n",
       "      <td>True</td>\n",
       "      <td>False</td>\n",
       "      <td>False</td>\n",
       "      <td>False</td>\n",
       "      <td>False</td>\n",
       "      <td>False</td>\n",
       "      <td>False</td>\n",
       "      <td>False</td>\n",
       "      <td>False</td>\n",
       "      <td>2800.0</td>\n",
       "    </tr>\n",
       "    <tr>\n",
       "      <th>2</th>\n",
       "      <td>Volkswagen</td>\n",
       "      <td>T5</td>\n",
       "      <td>mechanical</td>\n",
       "      <td>white</td>\n",
       "      <td>164000</td>\n",
       "      <td>2011</td>\n",
       "      <td>diesel</td>\n",
       "      <td>diesel</td>\n",
       "      <td>2.0</td>\n",
       "      <td>minibus</td>\n",
       "      <td>...</td>\n",
       "      <td>True</td>\n",
       "      <td>False</td>\n",
       "      <td>True</td>\n",
       "      <td>False</td>\n",
       "      <td>False</td>\n",
       "      <td>True</td>\n",
       "      <td>True</td>\n",
       "      <td>True</td>\n",
       "      <td>False</td>\n",
       "      <td>16700.0</td>\n",
       "    </tr>\n",
       "    <tr>\n",
       "      <th>3</th>\n",
       "      <td>Volkswagen</td>\n",
       "      <td>T4 Multivan</td>\n",
       "      <td>mechanical</td>\n",
       "      <td>blue</td>\n",
       "      <td>385672</td>\n",
       "      <td>1998</td>\n",
       "      <td>diesel</td>\n",
       "      <td>diesel</td>\n",
       "      <td>2.5</td>\n",
       "      <td>minibus</td>\n",
       "      <td>...</td>\n",
       "      <td>True</td>\n",
       "      <td>True</td>\n",
       "      <td>False</td>\n",
       "      <td>False</td>\n",
       "      <td>False</td>\n",
       "      <td>False</td>\n",
       "      <td>False</td>\n",
       "      <td>True</td>\n",
       "      <td>True</td>\n",
       "      <td>11000.0</td>\n",
       "    </tr>\n",
       "    <tr>\n",
       "      <th>4</th>\n",
       "      <td>Toyota</td>\n",
       "      <td>Camry</td>\n",
       "      <td>automatic</td>\n",
       "      <td>black</td>\n",
       "      <td>215652</td>\n",
       "      <td>2005</td>\n",
       "      <td>gasoline</td>\n",
       "      <td>gasoline</td>\n",
       "      <td>2.4</td>\n",
       "      <td>sedan</td>\n",
       "      <td>...</td>\n",
       "      <td>False</td>\n",
       "      <td>False</td>\n",
       "      <td>False</td>\n",
       "      <td>False</td>\n",
       "      <td>False</td>\n",
       "      <td>False</td>\n",
       "      <td>False</td>\n",
       "      <td>False</td>\n",
       "      <td>True</td>\n",
       "      <td>6800.0</td>\n",
       "    </tr>\n",
       "    <tr>\n",
       "      <th>...</th>\n",
       "      <td>...</td>\n",
       "      <td>...</td>\n",
       "      <td>...</td>\n",
       "      <td>...</td>\n",
       "      <td>...</td>\n",
       "      <td>...</td>\n",
       "      <td>...</td>\n",
       "      <td>...</td>\n",
       "      <td>...</td>\n",
       "      <td>...</td>\n",
       "      <td>...</td>\n",
       "      <td>...</td>\n",
       "      <td>...</td>\n",
       "      <td>...</td>\n",
       "      <td>...</td>\n",
       "      <td>...</td>\n",
       "      <td>...</td>\n",
       "      <td>...</td>\n",
       "      <td>...</td>\n",
       "      <td>...</td>\n",
       "      <td>...</td>\n",
       "    </tr>\n",
       "    <tr>\n",
       "      <th>29970</th>\n",
       "      <td>Acura</td>\n",
       "      <td>TSX</td>\n",
       "      <td>automatic</td>\n",
       "      <td>black</td>\n",
       "      <td>252000</td>\n",
       "      <td>2008</td>\n",
       "      <td>gasoline</td>\n",
       "      <td>gasoline</td>\n",
       "      <td>2.4</td>\n",
       "      <td>sedan</td>\n",
       "      <td>...</td>\n",
       "      <td>True</td>\n",
       "      <td>True</td>\n",
       "      <td>False</td>\n",
       "      <td>True</td>\n",
       "      <td>True</td>\n",
       "      <td>False</td>\n",
       "      <td>True</td>\n",
       "      <td>True</td>\n",
       "      <td>True</td>\n",
       "      <td>9500.0</td>\n",
       "    </tr>\n",
       "    <tr>\n",
       "      <th>29971</th>\n",
       "      <td>Ford</td>\n",
       "      <td>Mondeo</td>\n",
       "      <td>mechanical</td>\n",
       "      <td>red</td>\n",
       "      <td>290000</td>\n",
       "      <td>1997</td>\n",
       "      <td>gasoline</td>\n",
       "      <td>gasoline</td>\n",
       "      <td>1.8</td>\n",
       "      <td>sedan</td>\n",
       "      <td>...</td>\n",
       "      <td>False</td>\n",
       "      <td>False</td>\n",
       "      <td>False</td>\n",
       "      <td>False</td>\n",
       "      <td>False</td>\n",
       "      <td>False</td>\n",
       "      <td>False</td>\n",
       "      <td>False</td>\n",
       "      <td>False</td>\n",
       "      <td>1750.0</td>\n",
       "    </tr>\n",
       "    <tr>\n",
       "      <th>29972</th>\n",
       "      <td>Mitsubishi</td>\n",
       "      <td>Galant</td>\n",
       "      <td>mechanical</td>\n",
       "      <td>grey</td>\n",
       "      <td>250000</td>\n",
       "      <td>1993</td>\n",
       "      <td>gasoline</td>\n",
       "      <td>gasoline</td>\n",
       "      <td>2.0</td>\n",
       "      <td>hatchback</td>\n",
       "      <td>...</td>\n",
       "      <td>False</td>\n",
       "      <td>False</td>\n",
       "      <td>False</td>\n",
       "      <td>False</td>\n",
       "      <td>False</td>\n",
       "      <td>False</td>\n",
       "      <td>False</td>\n",
       "      <td>False</td>\n",
       "      <td>True</td>\n",
       "      <td>1400.0</td>\n",
       "    </tr>\n",
       "    <tr>\n",
       "      <th>29973</th>\n",
       "      <td>Opel</td>\n",
       "      <td>Astra</td>\n",
       "      <td>mechanical</td>\n",
       "      <td>silver</td>\n",
       "      <td>267000</td>\n",
       "      <td>2002</td>\n",
       "      <td>diesel</td>\n",
       "      <td>diesel</td>\n",
       "      <td>1.7</td>\n",
       "      <td>universal</td>\n",
       "      <td>...</td>\n",
       "      <td>True</td>\n",
       "      <td>False</td>\n",
       "      <td>False</td>\n",
       "      <td>False</td>\n",
       "      <td>False</td>\n",
       "      <td>False</td>\n",
       "      <td>False</td>\n",
       "      <td>False</td>\n",
       "      <td>True</td>\n",
       "      <td>3700.0</td>\n",
       "    </tr>\n",
       "    <tr>\n",
       "      <th>29974</th>\n",
       "      <td>Volkswagen</td>\n",
       "      <td>Jetta</td>\n",
       "      <td>mechanical</td>\n",
       "      <td>silver</td>\n",
       "      <td>360000</td>\n",
       "      <td>1990</td>\n",
       "      <td>gasoline</td>\n",
       "      <td>gasoline</td>\n",
       "      <td>1.3</td>\n",
       "      <td>sedan</td>\n",
       "      <td>...</td>\n",
       "      <td>False</td>\n",
       "      <td>False</td>\n",
       "      <td>False</td>\n",
       "      <td>False</td>\n",
       "      <td>False</td>\n",
       "      <td>False</td>\n",
       "      <td>False</td>\n",
       "      <td>False</td>\n",
       "      <td>False</td>\n",
       "      <td>1100.0</td>\n",
       "    </tr>\n",
       "  </tbody>\n",
       "</table>\n",
       "<p>29975 rows × 23 columns</p>\n",
       "</div>"
      ],
      "text/plain": [
       "      manufacturer        model transmission   color  odometer  year  \\\n",
       "0          Hyundai          i40    automatic     red     48000  2014   \n",
       "1       Mitsubishi      Carisma   mechanical   green    320000  2000   \n",
       "2       Volkswagen           T5   mechanical   white    164000  2011   \n",
       "3       Volkswagen  T4 Multivan   mechanical    blue    385672  1998   \n",
       "4           Toyota        Camry    automatic   black    215652  2005   \n",
       "...            ...          ...          ...     ...       ...   ...   \n",
       "29970        Acura          TSX    automatic   black    252000  2008   \n",
       "29971         Ford       Mondeo   mechanical     red    290000  1997   \n",
       "29972   Mitsubishi       Galant   mechanical    grey    250000  1993   \n",
       "29973         Opel        Astra   mechanical  silver    267000  2002   \n",
       "29974   Volkswagen        Jetta   mechanical  silver    360000  1990   \n",
       "\n",
       "      engineFuel engineType  engineCapacity   bodyType  ... feature_1  \\\n",
       "0       gasoline   gasoline             2.0      sedan  ...      True   \n",
       "1         diesel     diesel             1.9  hatchback  ...      True   \n",
       "2         diesel     diesel             2.0    minibus  ...      True   \n",
       "3         diesel     diesel             2.5    minibus  ...      True   \n",
       "4       gasoline   gasoline             2.4      sedan  ...     False   \n",
       "...          ...        ...             ...        ...  ...       ...   \n",
       "29970   gasoline   gasoline             2.4      sedan  ...      True   \n",
       "29971   gasoline   gasoline             1.8      sedan  ...     False   \n",
       "29972   gasoline   gasoline             2.0  hatchback  ...     False   \n",
       "29973     diesel     diesel             1.7  universal  ...      True   \n",
       "29974   gasoline   gasoline             1.3      sedan  ...     False   \n",
       "\n",
       "       feature_2  feature_3  feature_4  feature_5  feature_6  feature_7  \\\n",
       "0          False      False      False       True      False      False   \n",
       "1          False      False      False      False      False      False   \n",
       "2          False       True      False      False       True       True   \n",
       "3           True      False      False      False      False      False   \n",
       "4          False      False      False      False      False      False   \n",
       "...          ...        ...        ...        ...        ...        ...   \n",
       "29970       True      False       True       True      False       True   \n",
       "29971      False      False      False      False      False      False   \n",
       "29972      False      False      False      False      False      False   \n",
       "29973      False      False      False      False      False      False   \n",
       "29974      False      False      False      False      False      False   \n",
       "\n",
       "       feature_8  feature_9    price  \n",
       "0           True       True  15500.0  \n",
       "1          False      False   2800.0  \n",
       "2           True      False  16700.0  \n",
       "3           True       True  11000.0  \n",
       "4          False       True   6800.0  \n",
       "...          ...        ...      ...  \n",
       "29970       True       True   9500.0  \n",
       "29971      False      False   1750.0  \n",
       "29972      False       True   1400.0  \n",
       "29973      False       True   3700.0  \n",
       "29974      False      False   1100.0  \n",
       "\n",
       "[29975 rows x 23 columns]"
      ]
     },
     "execution_count": 12,
     "metadata": {},
     "output_type": "execute_result"
    }
   ],
   "source": [
    "df.drop_duplicates(inplace=True,ignore_index=True)\n",
    "df"
   ]
  },
  {
   "cell_type": "markdown",
   "metadata": {},
   "source": [
    "# Data visualization"
   ]
  },
  {
   "cell_type": "markdown",
   "metadata": {},
   "source": [
    "### 1. price "
   ]
  },
  {
   "cell_type": "markdown",
   "metadata": {},
   "source": [
    "* thống kê cơ bản"
   ]
  },
  {
   "cell_type": "code",
   "execution_count": 13,
   "metadata": {},
   "outputs": [
    {
     "data": {
      "text/html": [
       "<div>\n",
       "<style scoped>\n",
       "    .dataframe tbody tr th:only-of-type {\n",
       "        vertical-align: middle;\n",
       "    }\n",
       "\n",
       "    .dataframe tbody tr th {\n",
       "        vertical-align: top;\n",
       "    }\n",
       "\n",
       "    .dataframe thead th {\n",
       "        text-align: right;\n",
       "    }\n",
       "</style>\n",
       "<table border=\"1\" class=\"dataframe\">\n",
       "  <thead>\n",
       "    <tr style=\"text-align: right;\">\n",
       "      <th></th>\n",
       "      <th>price</th>\n",
       "    </tr>\n",
       "  </thead>\n",
       "  <tbody>\n",
       "    <tr>\n",
       "      <th>count</th>\n",
       "      <td>29975.000000</td>\n",
       "    </tr>\n",
       "    <tr>\n",
       "      <th>mean</th>\n",
       "      <td>6600.751320</td>\n",
       "    </tr>\n",
       "    <tr>\n",
       "      <th>std</th>\n",
       "      <td>6097.033735</td>\n",
       "    </tr>\n",
       "    <tr>\n",
       "      <th>min</th>\n",
       "      <td>1.000000</td>\n",
       "    </tr>\n",
       "    <tr>\n",
       "      <th>25%</th>\n",
       "      <td>2300.000000</td>\n",
       "    </tr>\n",
       "    <tr>\n",
       "      <th>50%</th>\n",
       "      <td>4900.000000</td>\n",
       "    </tr>\n",
       "    <tr>\n",
       "      <th>75%</th>\n",
       "      <td>8999.000000</td>\n",
       "    </tr>\n",
       "    <tr>\n",
       "      <th>max</th>\n",
       "      <td>50000.000000</td>\n",
       "    </tr>\n",
       "  </tbody>\n",
       "</table>\n",
       "</div>"
      ],
      "text/plain": [
       "              price\n",
       "count  29975.000000\n",
       "mean    6600.751320\n",
       "std     6097.033735\n",
       "min        1.000000\n",
       "25%     2300.000000\n",
       "50%     4900.000000\n",
       "75%     8999.000000\n",
       "max    50000.000000"
      ]
     },
     "execution_count": 13,
     "metadata": {},
     "output_type": "execute_result"
    }
   ],
   "source": [
    "df[['price']].describe()"
   ]
  },
  {
   "cell_type": "code",
   "execution_count": 14,
   "metadata": {},
   "outputs": [
    {
     "data": {
      "text/plain": [
       "<matplotlib.axes._subplots.AxesSubplot at 0x249bfbdff48>"
      ]
     },
     "execution_count": 14,
     "metadata": {},
     "output_type": "execute_result"
    },
    {
     "data": {
      "image/png": "[encoded data removed]",
      "text/plain": [
       "<Figure size 432x288 with 1 Axes>"
      ]
     },
     "metadata": {},
     "output_type": "display_data"
    }
   ],
   "source": [
    "sns.boxplot(df['price'])"
   ]
  },
  {
   "cell_type": "markdown",
   "metadata": {},
   "source": [
    "Theo dữ liệu thống thì ta thấy giá trị nhỏ nhất ở cột là là 1(USD), điều khá là vô lý khi đây là dữ liệu mua bán xe."
   ]
  },
  {
   "cell_type": "code",
   "execution_count": 15,
   "metadata": {},
   "outputs": [
    {
     "data": {
      "text/html": [
       "<div>\n",
       "<style scoped>\n",
       "    .dataframe tbody tr th:only-of-type {\n",
       "        vertical-align: middle;\n",
       "    }\n",
       "\n",
       "    .dataframe tbody tr th {\n",
       "        vertical-align: top;\n",
       "    }\n",
       "\n",
       "    .dataframe thead th {\n",
       "        text-align: right;\n",
       "    }\n",
       "</style>\n",
       "<table border=\"1\" class=\"dataframe\">\n",
       "  <thead>\n",
       "    <tr style=\"text-align: right;\">\n",
       "      <th></th>\n",
       "      <th>manufacturer</th>\n",
       "      <th>model</th>\n",
       "      <th>transmission</th>\n",
       "      <th>color</th>\n",
       "      <th>odometer</th>\n",
       "      <th>year</th>\n",
       "      <th>engineFuel</th>\n",
       "      <th>engineType</th>\n",
       "      <th>engineCapacity</th>\n",
       "      <th>bodyType</th>\n",
       "      <th>...</th>\n",
       "      <th>feature_1</th>\n",
       "      <th>feature_2</th>\n",
       "      <th>feature_3</th>\n",
       "      <th>feature_4</th>\n",
       "      <th>feature_5</th>\n",
       "      <th>feature_6</th>\n",
       "      <th>feature_7</th>\n",
       "      <th>feature_8</th>\n",
       "      <th>feature_9</th>\n",
       "      <th>price</th>\n",
       "    </tr>\n",
       "  </thead>\n",
       "  <tbody>\n",
       "    <tr>\n",
       "      <th>5691</th>\n",
       "      <td>Mercedes-Benz</td>\n",
       "      <td>T1</td>\n",
       "      <td>mechanical</td>\n",
       "      <td>white</td>\n",
       "      <td>450000</td>\n",
       "      <td>1990</td>\n",
       "      <td>diesel</td>\n",
       "      <td>diesel</td>\n",
       "      <td>2.9</td>\n",
       "      <td>van</td>\n",
       "      <td>...</td>\n",
       "      <td>False</td>\n",
       "      <td>False</td>\n",
       "      <td>False</td>\n",
       "      <td>False</td>\n",
       "      <td>False</td>\n",
       "      <td>False</td>\n",
       "      <td>False</td>\n",
       "      <td>False</td>\n",
       "      <td>False</td>\n",
       "      <td>1.42</td>\n",
       "    </tr>\n",
       "    <tr>\n",
       "      <th>6073</th>\n",
       "      <td>Renault</td>\n",
       "      <td>19</td>\n",
       "      <td>mechanical</td>\n",
       "      <td>blue</td>\n",
       "      <td>99999</td>\n",
       "      <td>1992</td>\n",
       "      <td>gasoline</td>\n",
       "      <td>gasoline</td>\n",
       "      <td>1.7</td>\n",
       "      <td>sedan</td>\n",
       "      <td>...</td>\n",
       "      <td>False</td>\n",
       "      <td>False</td>\n",
       "      <td>False</td>\n",
       "      <td>False</td>\n",
       "      <td>False</td>\n",
       "      <td>False</td>\n",
       "      <td>False</td>\n",
       "      <td>False</td>\n",
       "      <td>False</td>\n",
       "      <td>10.00</td>\n",
       "    </tr>\n",
       "    <tr>\n",
       "      <th>15792</th>\n",
       "      <td>Mazda</td>\n",
       "      <td>626</td>\n",
       "      <td>mechanical</td>\n",
       "      <td>black</td>\n",
       "      <td>300000</td>\n",
       "      <td>1987</td>\n",
       "      <td>gasoline</td>\n",
       "      <td>gasoline</td>\n",
       "      <td>2.0</td>\n",
       "      <td>coupe</td>\n",
       "      <td>...</td>\n",
       "      <td>False</td>\n",
       "      <td>False</td>\n",
       "      <td>False</td>\n",
       "      <td>False</td>\n",
       "      <td>False</td>\n",
       "      <td>False</td>\n",
       "      <td>False</td>\n",
       "      <td>False</td>\n",
       "      <td>True</td>\n",
       "      <td>1.00</td>\n",
       "    </tr>\n",
       "    <tr>\n",
       "      <th>17141</th>\n",
       "      <td>Volkswagen</td>\n",
       "      <td>T4 Caravelle</td>\n",
       "      <td>mechanical</td>\n",
       "      <td>white</td>\n",
       "      <td>1</td>\n",
       "      <td>1995</td>\n",
       "      <td>diesel</td>\n",
       "      <td>diesel</td>\n",
       "      <td>2.4</td>\n",
       "      <td>minibus</td>\n",
       "      <td>...</td>\n",
       "      <td>False</td>\n",
       "      <td>False</td>\n",
       "      <td>False</td>\n",
       "      <td>False</td>\n",
       "      <td>False</td>\n",
       "      <td>False</td>\n",
       "      <td>False</td>\n",
       "      <td>False</td>\n",
       "      <td>False</td>\n",
       "      <td>1.00</td>\n",
       "    </tr>\n",
       "  </tbody>\n",
       "</table>\n",
       "<p>4 rows × 23 columns</p>\n",
       "</div>"
      ],
      "text/plain": [
       "        manufacturer         model transmission  color  odometer  year  \\\n",
       "5691   Mercedes-Benz            T1   mechanical  white    450000  1990   \n",
       "6073         Renault            19   mechanical   blue     99999  1992   \n",
       "15792          Mazda           626   mechanical  black    300000  1987   \n",
       "17141     Volkswagen  T4 Caravelle   mechanical  white         1  1995   \n",
       "\n",
       "      engineFuel engineType  engineCapacity bodyType  ... feature_1  \\\n",
       "5691      diesel     diesel             2.9      van  ...     False   \n",
       "6073    gasoline   gasoline             1.7    sedan  ...     False   \n",
       "15792   gasoline   gasoline             2.0    coupe  ...     False   \n",
       "17141     diesel     diesel             2.4  minibus  ...     False   \n",
       "\n",
       "       feature_2  feature_3  feature_4  feature_5  feature_6  feature_7  \\\n",
       "5691       False      False      False      False      False      False   \n",
       "6073       False      False      False      False      False      False   \n",
       "15792      False      False      False      False      False      False   \n",
       "17141      False      False      False      False      False      False   \n",
       "\n",
       "       feature_8  feature_9  price  \n",
       "5691       False      False   1.42  \n",
       "6073       False      False  10.00  \n",
       "15792      False       True   1.00  \n",
       "17141      False      False   1.00  \n",
       "\n",
       "[4 rows x 23 columns]"
      ]
     },
     "execution_count": 15,
     "metadata": {},
     "output_type": "execute_result"
    }
   ],
   "source": [
    "df[df['price']<=10]"
   ]
  },
  {
   "cell_type": "markdown",
   "metadata": {},
   "source": [
    "Có vẻ đây là những điểm dữ liệu nhiễu, ta sẽ loại khỏi tập dữ liệu"
   ]
  },
  {
   "cell_type": "code",
   "execution_count": 16,
   "metadata": {},
   "outputs": [
    {
     "data": {
      "text/html": [
       "<div>\n",
       "<style scoped>\n",
       "    .dataframe tbody tr th:only-of-type {\n",
       "        vertical-align: middle;\n",
       "    }\n",
       "\n",
       "    .dataframe tbody tr th {\n",
       "        vertical-align: top;\n",
       "    }\n",
       "\n",
       "    .dataframe thead th {\n",
       "        text-align: right;\n",
       "    }\n",
       "</style>\n",
       "<table border=\"1\" class=\"dataframe\">\n",
       "  <thead>\n",
       "    <tr style=\"text-align: right;\">\n",
       "      <th></th>\n",
       "      <th>manufacturer</th>\n",
       "      <th>model</th>\n",
       "      <th>transmission</th>\n",
       "      <th>color</th>\n",
       "      <th>odometer</th>\n",
       "      <th>year</th>\n",
       "      <th>engineFuel</th>\n",
       "      <th>engineType</th>\n",
       "      <th>engineCapacity</th>\n",
       "      <th>bodyType</th>\n",
       "      <th>...</th>\n",
       "      <th>feature_1</th>\n",
       "      <th>feature_2</th>\n",
       "      <th>feature_3</th>\n",
       "      <th>feature_4</th>\n",
       "      <th>feature_5</th>\n",
       "      <th>feature_6</th>\n",
       "      <th>feature_7</th>\n",
       "      <th>feature_8</th>\n",
       "      <th>feature_9</th>\n",
       "      <th>price</th>\n",
       "    </tr>\n",
       "  </thead>\n",
       "  <tbody>\n",
       "    <tr>\n",
       "      <th>0</th>\n",
       "      <td>Hyundai</td>\n",
       "      <td>i40</td>\n",
       "      <td>automatic</td>\n",
       "      <td>red</td>\n",
       "      <td>48000</td>\n",
       "      <td>2014</td>\n",
       "      <td>gasoline</td>\n",
       "      <td>gasoline</td>\n",
       "      <td>2.0</td>\n",
       "      <td>sedan</td>\n",
       "      <td>...</td>\n",
       "      <td>True</td>\n",
       "      <td>False</td>\n",
       "      <td>False</td>\n",
       "      <td>False</td>\n",
       "      <td>True</td>\n",
       "      <td>False</td>\n",
       "      <td>False</td>\n",
       "      <td>True</td>\n",
       "      <td>True</td>\n",
       "      <td>15500.0</td>\n",
       "    </tr>\n",
       "    <tr>\n",
       "      <th>1</th>\n",
       "      <td>Mitsubishi</td>\n",
       "      <td>Carisma</td>\n",
       "      <td>mechanical</td>\n",
       "      <td>green</td>\n",
       "      <td>320000</td>\n",
       "      <td>2000</td>\n",
       "      <td>diesel</td>\n",
       "      <td>diesel</td>\n",
       "      <td>1.9</td>\n",
       "      <td>hatchback</td>\n",
       "      <td>...</td>\n",
       "      <td>True</td>\n",
       "      <td>False</td>\n",
       "      <td>False</td>\n",
       "      <td>False</td>\n",
       "      <td>False</td>\n",
       "      <td>False</td>\n",
       "      <td>False</td>\n",
       "      <td>False</td>\n",
       "      <td>False</td>\n",
       "      <td>2800.0</td>\n",
       "    </tr>\n",
       "    <tr>\n",
       "      <th>2</th>\n",
       "      <td>Volkswagen</td>\n",
       "      <td>T5</td>\n",
       "      <td>mechanical</td>\n",
       "      <td>white</td>\n",
       "      <td>164000</td>\n",
       "      <td>2011</td>\n",
       "      <td>diesel</td>\n",
       "      <td>diesel</td>\n",
       "      <td>2.0</td>\n",
       "      <td>minibus</td>\n",
       "      <td>...</td>\n",
       "      <td>True</td>\n",
       "      <td>False</td>\n",
       "      <td>True</td>\n",
       "      <td>False</td>\n",
       "      <td>False</td>\n",
       "      <td>True</td>\n",
       "      <td>True</td>\n",
       "      <td>True</td>\n",
       "      <td>False</td>\n",
       "      <td>16700.0</td>\n",
       "    </tr>\n",
       "    <tr>\n",
       "      <th>3</th>\n",
       "      <td>Volkswagen</td>\n",
       "      <td>T4 Multivan</td>\n",
       "      <td>mechanical</td>\n",
       "      <td>blue</td>\n",
       "      <td>385672</td>\n",
       "      <td>1998</td>\n",
       "      <td>diesel</td>\n",
       "      <td>diesel</td>\n",
       "      <td>2.5</td>\n",
       "      <td>minibus</td>\n",
       "      <td>...</td>\n",
       "      <td>True</td>\n",
       "      <td>True</td>\n",
       "      <td>False</td>\n",
       "      <td>False</td>\n",
       "      <td>False</td>\n",
       "      <td>False</td>\n",
       "      <td>False</td>\n",
       "      <td>True</td>\n",
       "      <td>True</td>\n",
       "      <td>11000.0</td>\n",
       "    </tr>\n",
       "    <tr>\n",
       "      <th>4</th>\n",
       "      <td>Toyota</td>\n",
       "      <td>Camry</td>\n",
       "      <td>automatic</td>\n",
       "      <td>black</td>\n",
       "      <td>215652</td>\n",
       "      <td>2005</td>\n",
       "      <td>gasoline</td>\n",
       "      <td>gasoline</td>\n",
       "      <td>2.4</td>\n",
       "      <td>sedan</td>\n",
       "      <td>...</td>\n",
       "      <td>False</td>\n",
       "      <td>False</td>\n",
       "      <td>False</td>\n",
       "      <td>False</td>\n",
       "      <td>False</td>\n",
       "      <td>False</td>\n",
       "      <td>False</td>\n",
       "      <td>False</td>\n",
       "      <td>True</td>\n",
       "      <td>6800.0</td>\n",
       "    </tr>\n",
       "    <tr>\n",
       "      <th>...</th>\n",
       "      <td>...</td>\n",
       "      <td>...</td>\n",
       "      <td>...</td>\n",
       "      <td>...</td>\n",
       "      <td>...</td>\n",
       "      <td>...</td>\n",
       "      <td>...</td>\n",
       "      <td>...</td>\n",
       "      <td>...</td>\n",
       "      <td>...</td>\n",
       "      <td>...</td>\n",
       "      <td>...</td>\n",
       "      <td>...</td>\n",
       "      <td>...</td>\n",
       "      <td>...</td>\n",
       "      <td>...</td>\n",
       "      <td>...</td>\n",
       "      <td>...</td>\n",
       "      <td>...</td>\n",
       "      <td>...</td>\n",
       "      <td>...</td>\n",
       "    </tr>\n",
       "    <tr>\n",
       "      <th>29966</th>\n",
       "      <td>Acura</td>\n",
       "      <td>TSX</td>\n",
       "      <td>automatic</td>\n",
       "      <td>black</td>\n",
       "      <td>252000</td>\n",
       "      <td>2008</td>\n",
       "      <td>gasoline</td>\n",
       "      <td>gasoline</td>\n",
       "      <td>2.4</td>\n",
       "      <td>sedan</td>\n",
       "      <td>...</td>\n",
       "      <td>True</td>\n",
       "      <td>True</td>\n",
       "      <td>False</td>\n",
       "      <td>True</td>\n",
       "      <td>True</td>\n",
       "      <td>False</td>\n",
       "      <td>True</td>\n",
       "      <td>True</td>\n",
       "      <td>True</td>\n",
       "      <td>9500.0</td>\n",
       "    </tr>\n",
       "    <tr>\n",
       "      <th>29967</th>\n",
       "      <td>Ford</td>\n",
       "      <td>Mondeo</td>\n",
       "      <td>mechanical</td>\n",
       "      <td>red</td>\n",
       "      <td>290000</td>\n",
       "      <td>1997</td>\n",
       "      <td>gasoline</td>\n",
       "      <td>gasoline</td>\n",
       "      <td>1.8</td>\n",
       "      <td>sedan</td>\n",
       "      <td>...</td>\n",
       "      <td>False</td>\n",
       "      <td>False</td>\n",
       "      <td>False</td>\n",
       "      <td>False</td>\n",
       "      <td>False</td>\n",
       "      <td>False</td>\n",
       "      <td>False</td>\n",
       "      <td>False</td>\n",
       "      <td>False</td>\n",
       "      <td>1750.0</td>\n",
       "    </tr>\n",
       "    <tr>\n",
       "      <th>29968</th>\n",
       "      <td>Mitsubishi</td>\n",
       "      <td>Galant</td>\n",
       "      <td>mechanical</td>\n",
       "      <td>grey</td>\n",
       "      <td>250000</td>\n",
       "      <td>1993</td>\n",
       "      <td>gasoline</td>\n",
       "      <td>gasoline</td>\n",
       "      <td>2.0</td>\n",
       "      <td>hatchback</td>\n",
       "      <td>...</td>\n",
       "      <td>False</td>\n",
       "      <td>False</td>\n",
       "      <td>False</td>\n",
       "      <td>False</td>\n",
       "      <td>False</td>\n",
       "      <td>False</td>\n",
       "      <td>False</td>\n",
       "      <td>False</td>\n",
       "      <td>True</td>\n",
       "      <td>1400.0</td>\n",
       "    </tr>\n",
       "    <tr>\n",
       "      <th>29969</th>\n",
       "      <td>Opel</td>\n",
       "      <td>Astra</td>\n",
       "      <td>mechanical</td>\n",
       "      <td>silver</td>\n",
       "      <td>267000</td>\n",
       "      <td>2002</td>\n",
       "      <td>diesel</td>\n",
       "      <td>diesel</td>\n",
       "      <td>1.7</td>\n",
       "      <td>universal</td>\n",
       "      <td>...</td>\n",
       "      <td>True</td>\n",
       "      <td>False</td>\n",
       "      <td>False</td>\n",
       "      <td>False</td>\n",
       "      <td>False</td>\n",
       "      <td>False</td>\n",
       "      <td>False</td>\n",
       "      <td>False</td>\n",
       "      <td>True</td>\n",
       "      <td>3700.0</td>\n",
       "    </tr>\n",
       "    <tr>\n",
       "      <th>29970</th>\n",
       "      <td>Volkswagen</td>\n",
       "      <td>Jetta</td>\n",
       "      <td>mechanical</td>\n",
       "      <td>silver</td>\n",
       "      <td>360000</td>\n",
       "      <td>1990</td>\n",
       "      <td>gasoline</td>\n",
       "      <td>gasoline</td>\n",
       "      <td>1.3</td>\n",
       "      <td>sedan</td>\n",
       "      <td>...</td>\n",
       "      <td>False</td>\n",
       "      <td>False</td>\n",
       "      <td>False</td>\n",
       "      <td>False</td>\n",
       "      <td>False</td>\n",
       "      <td>False</td>\n",
       "      <td>False</td>\n",
       "      <td>False</td>\n",
       "      <td>False</td>\n",
       "      <td>1100.0</td>\n",
       "    </tr>\n",
       "  </tbody>\n",
       "</table>\n",
       "<p>29971 rows × 23 columns</p>\n",
       "</div>"
      ],
      "text/plain": [
       "      manufacturer        model transmission   color  odometer  year  \\\n",
       "0          Hyundai          i40    automatic     red     48000  2014   \n",
       "1       Mitsubishi      Carisma   mechanical   green    320000  2000   \n",
       "2       Volkswagen           T5   mechanical   white    164000  2011   \n",
       "3       Volkswagen  T4 Multivan   mechanical    blue    385672  1998   \n",
       "4           Toyota        Camry    automatic   black    215652  2005   \n",
       "...            ...          ...          ...     ...       ...   ...   \n",
       "29966        Acura          TSX    automatic   black    252000  2008   \n",
       "29967         Ford       Mondeo   mechanical     red    290000  1997   \n",
       "29968   Mitsubishi       Galant   mechanical    grey    250000  1993   \n",
       "29969         Opel        Astra   mechanical  silver    267000  2002   \n",
       "29970   Volkswagen        Jetta   mechanical  silver    360000  1990   \n",
       "\n",
       "      engineFuel engineType  engineCapacity   bodyType  ... feature_1  \\\n",
       "0       gasoline   gasoline             2.0      sedan  ...      True   \n",
       "1         diesel     diesel             1.9  hatchback  ...      True   \n",
       "2         diesel     diesel             2.0    minibus  ...      True   \n",
       "3         diesel     diesel             2.5    minibus  ...      True   \n",
       "4       gasoline   gasoline             2.4      sedan  ...     False   \n",
       "...          ...        ...             ...        ...  ...       ...   \n",
       "29966   gasoline   gasoline             2.4      sedan  ...      True   \n",
       "29967   gasoline   gasoline             1.8      sedan  ...     False   \n",
       "29968   gasoline   gasoline             2.0  hatchback  ...     False   \n",
       "29969     diesel     diesel             1.7  universal  ...      True   \n",
       "29970   gasoline   gasoline             1.3      sedan  ...     False   \n",
       "\n",
       "       feature_2  feature_3  feature_4  feature_5  feature_6  feature_7  \\\n",
       "0          False      False      False       True      False      False   \n",
       "1          False      False      False      False      False      False   \n",
       "2          False       True      False      False       True       True   \n",
       "3           True      False      False      False      False      False   \n",
       "4          False      False      False      False      False      False   \n",
       "...          ...        ...        ...        ...        ...        ...   \n",
       "29966       True      False       True       True      False       True   \n",
       "29967      False      False      False      False      False      False   \n",
       "29968      False      False      False      False      False      False   \n",
       "29969      False      False      False      False      False      False   \n",
       "29970      False      False      False      False      False      False   \n",
       "\n",
       "       feature_8  feature_9    price  \n",
       "0           True       True  15500.0  \n",
       "1          False      False   2800.0  \n",
       "2           True      False  16700.0  \n",
       "3           True       True  11000.0  \n",
       "4          False       True   6800.0  \n",
       "...          ...        ...      ...  \n",
       "29966       True       True   9500.0  \n",
       "29967      False      False   1750.0  \n",
       "29968      False       True   1400.0  \n",
       "29969      False       True   3700.0  \n",
       "29970      False      False   1100.0  \n",
       "\n",
       "[29971 rows x 23 columns]"
      ]
     },
     "execution_count": 16,
     "metadata": {},
     "output_type": "execute_result"
    }
   ],
   "source": [
    "indexs = df[ df.price <= 10 ].index\n",
    "df.drop(indexs,axis = 0,inplace = True)\n",
    "df.reset_index(drop=True,inplace=True)\n",
    "df"
   ]
  },
  {
   "cell_type": "code",
   "execution_count": 17,
   "metadata": {},
   "outputs": [
    {
     "data": {
      "text/plain": [
       "<matplotlib.axes._subplots.AxesSubplot at 0x249bfb84108>"
      ]
     },
     "execution_count": 17,
     "metadata": {},
     "output_type": "execute_result"
    },
    {
     "data": {
      "image/png": "[encoded data removed]",
      "text/plain": [
       "<Figure size 432x288 with 1 Axes>"
      ]
     },
     "metadata": {},
     "output_type": "display_data"
    }
   ],
   "source": [
    "sns.boxplot(df['price'])"
   ]
  },
  {
   "cell_type": "code",
   "execution_count": 18,
   "metadata": {},
   "outputs": [
    {
     "data": {
      "text/html": [
       "<div>\n",
       "<style scoped>\n",
       "    .dataframe tbody tr th:only-of-type {\n",
       "        vertical-align: middle;\n",
       "    }\n",
       "\n",
       "    .dataframe tbody tr th {\n",
       "        vertical-align: top;\n",
       "    }\n",
       "\n",
       "    .dataframe thead th {\n",
       "        text-align: right;\n",
       "    }\n",
       "</style>\n",
       "<table border=\"1\" class=\"dataframe\">\n",
       "  <thead>\n",
       "    <tr style=\"text-align: right;\">\n",
       "      <th></th>\n",
       "      <th>price</th>\n",
       "    </tr>\n",
       "  </thead>\n",
       "  <tbody>\n",
       "    <tr>\n",
       "      <th>count</th>\n",
       "      <td>29971.000000</td>\n",
       "    </tr>\n",
       "    <tr>\n",
       "      <th>mean</th>\n",
       "      <td>6601.631824</td>\n",
       "    </tr>\n",
       "    <tr>\n",
       "      <th>std</th>\n",
       "      <td>6096.964149</td>\n",
       "    </tr>\n",
       "    <tr>\n",
       "      <th>min</th>\n",
       "      <td>100.000000</td>\n",
       "    </tr>\n",
       "    <tr>\n",
       "      <th>25%</th>\n",
       "      <td>2300.000000</td>\n",
       "    </tr>\n",
       "    <tr>\n",
       "      <th>50%</th>\n",
       "      <td>4900.000000</td>\n",
       "    </tr>\n",
       "    <tr>\n",
       "      <th>75%</th>\n",
       "      <td>8999.000000</td>\n",
       "    </tr>\n",
       "    <tr>\n",
       "      <th>max</th>\n",
       "      <td>50000.000000</td>\n",
       "    </tr>\n",
       "  </tbody>\n",
       "</table>\n",
       "</div>"
      ],
      "text/plain": [
       "              price\n",
       "count  29971.000000\n",
       "mean    6601.631824\n",
       "std     6096.964149\n",
       "min      100.000000\n",
       "25%     2300.000000\n",
       "50%     4900.000000\n",
       "75%     8999.000000\n",
       "max    50000.000000"
      ]
     },
     "execution_count": 18,
     "metadata": {},
     "output_type": "execute_result"
    }
   ],
   "source": [
    "df[['price']].describe()"
   ]
  },
  {
   "cell_type": "markdown",
   "metadata": {},
   "source": [
    "* kiểm tra phân bố của các giá trị"
   ]
  },
  {
   "cell_type": "code",
   "execution_count": 19,
   "metadata": {},
   "outputs": [
    {
     "data": {
      "text/plain": [
       "<matplotlib.axes._subplots.AxesSubplot at 0x249bfc0a4c8>"
      ]
     },
     "execution_count": 19,
     "metadata": {},
     "output_type": "execute_result"
    },
    {
     "data": {
      "image/png": "[encoded data removed]",
      "text/plain": [
       "<Figure size 1080x576 with 1 Axes>"
      ]
     },
     "metadata": {},
     "output_type": "display_data"
    }
   ],
   "source": [
    "f, ax = plt.subplots(figsize=(15,8))\n",
    "sns.distplot(df['price'])"
   ]
  },
  {
   "cell_type": "markdown",
   "metadata": {},
   "source": [
    "$\\implies$ từ biểu đồ historgram ta nhận thấy được rằng class price của tập dữ liệu khá lệch "
   ]
  },
  {
   "cell_type": "markdown",
   "metadata": {},
   "source": [
    "kiểm tra lại với hàm của thư viện pandas ta có thể thấy được độ lệch cũng khá lớn (TODO: tìm hiểu để hiểu rõ độ skew và kurt là gì ? )\n"
   ]
  },
  {
   "cell_type": "code",
   "execution_count": 20,
   "metadata": {},
   "outputs": [
    {
     "name": "stdout",
     "output_type": "stream",
     "text": [
      "2.174618513167536\n",
      "7.31112336868377\n"
     ]
    }
   ],
   "source": [
    "print(df['price'].skew())\n",
    "print(df['price'].kurt())"
   ]
  },
  {
   "cell_type": "markdown",
   "metadata": {},
   "source": [
    "Ta biến đổi giá trị của cột này bằng các biến đổi khác nhau như log-transform, root squared tansform và box cox transform để xem thử có cải thiện được tình trạng dữ liệu bị lệch hay không "
   ]
  },
  {
   "cell_type": "markdown",
   "metadata": {},
   "source": [
    "##### a) log transform"
   ]
  },
  {
   "cell_type": "code",
   "execution_count": 21,
   "metadata": {},
   "outputs": [
    {
     "data": {
      "text/html": [
       "<div>\n",
       "<style scoped>\n",
       "    .dataframe tbody tr th:only-of-type {\n",
       "        vertical-align: middle;\n",
       "    }\n",
       "\n",
       "    .dataframe tbody tr th {\n",
       "        vertical-align: top;\n",
       "    }\n",
       "\n",
       "    .dataframe thead th {\n",
       "        text-align: right;\n",
       "    }\n",
       "</style>\n",
       "<table border=\"1\" class=\"dataframe\">\n",
       "  <thead>\n",
       "    <tr style=\"text-align: right;\">\n",
       "      <th></th>\n",
       "      <th>0</th>\n",
       "    </tr>\n",
       "  </thead>\n",
       "  <tbody>\n",
       "    <tr>\n",
       "      <th>0</th>\n",
       "      <td>9.648660</td>\n",
       "    </tr>\n",
       "    <tr>\n",
       "      <th>1</th>\n",
       "      <td>7.937732</td>\n",
       "    </tr>\n",
       "    <tr>\n",
       "      <th>2</th>\n",
       "      <td>9.723224</td>\n",
       "    </tr>\n",
       "    <tr>\n",
       "      <th>3</th>\n",
       "      <td>9.305741</td>\n",
       "    </tr>\n",
       "    <tr>\n",
       "      <th>4</th>\n",
       "      <td>8.824825</td>\n",
       "    </tr>\n",
       "    <tr>\n",
       "      <th>...</th>\n",
       "      <td>...</td>\n",
       "    </tr>\n",
       "    <tr>\n",
       "      <th>29966</th>\n",
       "      <td>9.159152</td>\n",
       "    </tr>\n",
       "    <tr>\n",
       "      <th>29967</th>\n",
       "      <td>7.467942</td>\n",
       "    </tr>\n",
       "    <tr>\n",
       "      <th>29968</th>\n",
       "      <td>7.244942</td>\n",
       "    </tr>\n",
       "    <tr>\n",
       "      <th>29969</th>\n",
       "      <td>8.216358</td>\n",
       "    </tr>\n",
       "    <tr>\n",
       "      <th>29970</th>\n",
       "      <td>7.003974</td>\n",
       "    </tr>\n",
       "  </tbody>\n",
       "</table>\n",
       "<p>29971 rows × 1 columns</p>\n",
       "</div>"
      ],
      "text/plain": [
       "              0\n",
       "0      9.648660\n",
       "1      7.937732\n",
       "2      9.723224\n",
       "3      9.305741\n",
       "4      8.824825\n",
       "...         ...\n",
       "29966  9.159152\n",
       "29967  7.467942\n",
       "29968  7.244942\n",
       "29969  8.216358\n",
       "29970  7.003974\n",
       "\n",
       "[29971 rows x 1 columns]"
      ]
     },
     "execution_count": 21,
     "metadata": {},
     "output_type": "execute_result"
    }
   ],
   "source": [
    "price_df = pd.DataFrame(np.log1p(df['price'].values))\n",
    "price_df"
   ]
  },
  {
   "cell_type": "code",
   "execution_count": 22,
   "metadata": {},
   "outputs": [
    {
     "data": {
      "text/plain": [
       "<matplotlib.axes._subplots.AxesSubplot at 0x249bfd162c8>"
      ]
     },
     "execution_count": 22,
     "metadata": {},
     "output_type": "execute_result"
    },
    {
     "data": {
      "image/png": "[encoded data removed]",
      "text/plain": [
       "<Figure size 1080x576 with 1 Axes>"
      ]
     },
     "metadata": {},
     "output_type": "display_data"
    }
   ],
   "source": [
    "f, ax = plt.subplots(figsize=(15,8))\n",
    "sns.distplot(price_df)"
   ]
  },
  {
   "cell_type": "markdown",
   "metadata": {},
   "source": [
    "có vẻ đã cải thiện được chút ít"
   ]
  },
  {
   "cell_type": "code",
   "execution_count": 23,
   "metadata": {},
   "outputs": [
    {
     "name": "stdout",
     "output_type": "stream",
     "text": [
      "1.1551874717926056\n",
      "2.1175947824847547\n"
     ]
    }
   ],
   "source": [
    "print(np.log1p(df['price'].skew()))\n",
    "print(np.log1p(df['price'].kurt()))"
   ]
  },
  {
   "cell_type": "markdown",
   "metadata": {},
   "source": [
    "$\\implies$ có cải thiện nhưng vẫn còn khá lệch"
   ]
  },
  {
   "cell_type": "markdown",
   "metadata": {},
   "source": [
    "##### b) root squared  transform"
   ]
  },
  {
   "cell_type": "code",
   "execution_count": 24,
   "metadata": {},
   "outputs": [
    {
     "data": {
      "text/html": [
       "<div>\n",
       "<style scoped>\n",
       "    .dataframe tbody tr th:only-of-type {\n",
       "        vertical-align: middle;\n",
       "    }\n",
       "\n",
       "    .dataframe tbody tr th {\n",
       "        vertical-align: top;\n",
       "    }\n",
       "\n",
       "    .dataframe thead th {\n",
       "        text-align: right;\n",
       "    }\n",
       "</style>\n",
       "<table border=\"1\" class=\"dataframe\">\n",
       "  <thead>\n",
       "    <tr style=\"text-align: right;\">\n",
       "      <th></th>\n",
       "      <th>0</th>\n",
       "    </tr>\n",
       "  </thead>\n",
       "  <tbody>\n",
       "    <tr>\n",
       "      <th>0</th>\n",
       "      <td>124.498996</td>\n",
       "    </tr>\n",
       "    <tr>\n",
       "      <th>1</th>\n",
       "      <td>52.915026</td>\n",
       "    </tr>\n",
       "    <tr>\n",
       "      <th>2</th>\n",
       "      <td>129.228480</td>\n",
       "    </tr>\n",
       "    <tr>\n",
       "      <th>3</th>\n",
       "      <td>104.880885</td>\n",
       "    </tr>\n",
       "    <tr>\n",
       "      <th>4</th>\n",
       "      <td>82.462113</td>\n",
       "    </tr>\n",
       "    <tr>\n",
       "      <th>...</th>\n",
       "      <td>...</td>\n",
       "    </tr>\n",
       "    <tr>\n",
       "      <th>29966</th>\n",
       "      <td>97.467943</td>\n",
       "    </tr>\n",
       "    <tr>\n",
       "      <th>29967</th>\n",
       "      <td>41.833001</td>\n",
       "    </tr>\n",
       "    <tr>\n",
       "      <th>29968</th>\n",
       "      <td>37.416574</td>\n",
       "    </tr>\n",
       "    <tr>\n",
       "      <th>29969</th>\n",
       "      <td>60.827625</td>\n",
       "    </tr>\n",
       "    <tr>\n",
       "      <th>29970</th>\n",
       "      <td>33.166248</td>\n",
       "    </tr>\n",
       "  </tbody>\n",
       "</table>\n",
       "<p>29971 rows × 1 columns</p>\n",
       "</div>"
      ],
      "text/plain": [
       "                0\n",
       "0      124.498996\n",
       "1       52.915026\n",
       "2      129.228480\n",
       "3      104.880885\n",
       "4       82.462113\n",
       "...           ...\n",
       "29966   97.467943\n",
       "29967   41.833001\n",
       "29968   37.416574\n",
       "29969   60.827625\n",
       "29970   33.166248\n",
       "\n",
       "[29971 rows x 1 columns]"
      ]
     },
     "execution_count": 24,
     "metadata": {},
     "output_type": "execute_result"
    }
   ],
   "source": [
    "price_df = pd.DataFrame(np.sqrt(df['price'].values))\n",
    "price_df"
   ]
  },
  {
   "cell_type": "code",
   "execution_count": 25,
   "metadata": {},
   "outputs": [
    {
     "data": {
      "text/plain": [
       "<matplotlib.axes._subplots.AxesSubplot at 0x249c003a988>"
      ]
     },
     "execution_count": 25,
     "metadata": {},
     "output_type": "execute_result"
    },
    {
     "data": {
      "image/png": "[encoded data removed]",
      "text/plain": [
       "<Figure size 1080x576 with 1 Axes>"
      ]
     },
     "metadata": {},
     "output_type": "display_data"
    }
   ],
   "source": [
    "f, ax = plt.subplots(figsize=(15,8))\n",
    "sns.distplot(price_df)"
   ]
  },
  {
   "cell_type": "code",
   "execution_count": 26,
   "metadata": {},
   "outputs": [
    {
     "name": "stdout",
     "output_type": "stream",
     "text": [
      "0.7645352759996838\n",
      "0.7022228330277138\n"
     ]
    }
   ],
   "source": [
    "print(price_df[0].skew())\n",
    "print(price_df[0].kurt())"
   ]
  },
  {
   "cell_type": "markdown",
   "metadata": {},
   "source": [
    "$\\implies$ "
   ]
  },
  {
   "cell_type": "markdown",
   "metadata": {},
   "source": [
    "##### c) box cox transform"
   ]
  },
  {
   "cell_type": "code",
   "execution_count": 27,
   "metadata": {},
   "outputs": [],
   "source": [
    "from scipy import stats\n",
    "price_df ,max_log = stats.boxcox(df_Y['price'])[:2]\n",
    "price_df = pd.DataFrame(price_df)"
   ]
  },
  {
   "cell_type": "code",
   "execution_count": 28,
   "metadata": {},
   "outputs": [
    {
     "data": {
      "text/plain": [
       "<matplotlib.axes._subplots.AxesSubplot at 0x249c070db08>"
      ]
     },
     "execution_count": 28,
     "metadata": {},
     "output_type": "execute_result"
    },
    {
     "data": {
      "image/png": "[encoded data removed]",
      "text/plain": [
       "<Figure size 1080x576 with 1 Axes>"
      ]
     },
     "metadata": {},
     "output_type": "display_data"
    }
   ],
   "source": [
    "f, ax = plt.subplots(figsize=(15,8))\n",
    "sns.distplot(price_df)"
   ]
  },
  {
   "cell_type": "code",
   "execution_count": 29,
   "metadata": {},
   "outputs": [
    {
     "name": "stdout",
     "output_type": "stream",
     "text": [
      "-0.019823150666023612\n",
      "-0.3349213142505807\n"
     ]
    }
   ],
   "source": [
    "print(price_df[0].skew())\n",
    "print(price_df[0].kurt())"
   ]
  },
  {
   "cell_type": "markdown",
   "metadata": {},
   "source": [
    "$\\implies$ phép biến đổi này cho kết quả tốt nhất"
   ]
  },
  {
   "cell_type": "markdown",
   "metadata": {},
   "source": [
    "### 2. Manufacturer "
   ]
  },
  {
   "cell_type": "markdown",
   "metadata": {},
   "source": [
    "Đây là cốt chứa thông tin của nhà sản xuất của các xe, ta sẽ khảo sát về phân bố và ảnh hưởng của thuộc tính này với giá của xe"
   ]
  },
  {
   "cell_type": "code",
   "execution_count": 30,
   "metadata": {},
   "outputs": [
    {
     "data": {
      "text/plain": [
       "array(['Hyundai', 'Mitsubishi', 'Volkswagen', 'Toyota', 'Chery', 'Opel',\n",
       "       'Audi', 'Nissan', 'Dodge', 'Kia', 'Fiat', 'Ford', 'Mercedes-Benz',\n",
       "       'Renault', 'Seat', 'Mazda', 'Peugeot', 'BMW', 'Chrysler',\n",
       "       'Chevrolet', 'Citroen', 'Skoda', 'Lifan', 'Cadillac', 'Subaru',\n",
       "       'Land Rover', 'Jeep', 'Volvo', 'Infiniti', 'Honda', 'Lexus',\n",
       "       'Lancia', 'Jaguar', 'Buick', 'Suzuki', 'SsangYong', 'Rover',\n",
       "       'Pontiac', 'Iveco', 'Acura', 'Porsche', 'Lincoln', 'Daewoo',\n",
       "       'Dacia', 'Saab', 'Mini', 'LADA', 'Great Wall', 'Alfa Romeo',\n",
       "       'Geely'], dtype=object)"
      ]
     },
     "execution_count": 30,
     "metadata": {},
     "output_type": "execute_result"
    }
   ],
   "source": [
    "names = df['manufacturer'].unique() # in ra danh sách các nhà sản xuất\n",
    "names"
   ]
  },
  {
   "cell_type": "code",
   "execution_count": 31,
   "metadata": {},
   "outputs": [
    {
     "name": "stdout",
     "output_type": "stream",
     "text": [
      "Tổng cổng có 50 hãng sản xuất có trong tập dữ liệu này!\n"
     ]
    }
   ],
   "source": [
    "print('Tổng cổng có {} hãng sản xuất có trong tập dữ liệu này!'.format(len(df.manufacturer.unique())))"
   ]
  },
  {
   "cell_type": "code",
   "execution_count": 32,
   "metadata": {},
   "outputs": [
    {
     "data": {
      "image/png": "[encoded data removed]",
      "text/plain": [
       "<Figure size 1296x432 with 1 Axes>"
      ]
     },
     "metadata": {},
     "output_type": "display_data"
    }
   ],
   "source": [
    "var = 'manufacturer'\n",
    "sns.catplot(y='price',x=var,data= df.sort_values('price',ascending=False),kind=\"boxen\",height=6, aspect=3)\n",
    "plt.show\n",
    "plt.xticks(rotation=90);"
   ]
  },
  {
   "cell_type": "code",
   "execution_count": 33,
   "metadata": {},
   "outputs": [
    {
     "data": {
      "text/plain": [
       "<matplotlib.axes._subplots.AxesSubplot at 0x249c2103f08>"
      ]
     },
     "execution_count": 33,
     "metadata": {},
     "output_type": "execute_result"
    },
    {
     "data": {
      "image/png": "[encoded data removed]",
      "text/plain": [
       "<Figure size 1080x432 with 1 Axes>"
      ]
     },
     "metadata": {},
     "output_type": "display_data"
    }
   ],
   "source": [
    "df['manufacturer'].value_counts().plot(kind = 'bar',figsize =(15,6))"
   ]
  },
  {
   "cell_type": "markdown",
   "metadata": {},
   "source": [
    "Theo biểu đồ trên thì có ta thấy được Janguar có phân bố giá xe cao nhất"
   ]
  },
  {
   "cell_type": "markdown",
   "metadata": {},
   "source": [
    "Và mỗi loại nhà sản xuất sẽ có các khoảng phân bố giá khác nhau, nên có lẽ thuộc tính này sẽ giúp ta dự đoán giá tốt hơn"
   ]
  },
  {
   "cell_type": "markdown",
   "metadata": {},
   "source": [
    "#### 2. Model"
   ]
  },
  {
   "cell_type": "markdown",
   "metadata": {},
   "source": [
    "mỗi loại xe lại có các mẫu xe khác nhau, ta sẽ khảo sát thuộc tính mẫu xe của tập dữ liệu"
   ]
  },
  {
   "cell_type": "code",
   "execution_count": 34,
   "metadata": {},
   "outputs": [
    {
     "name": "stdout",
     "output_type": "stream",
     "text": [
      "Tông cổng có 992 mẫu xe trong tập dữ liệu \n"
     ]
    }
   ],
   "source": [
    "print('Tông cổng có {} mẫu xe trong tập dữ liệu '.format(len(df['model'].unique())))"
   ]
  },
  {
   "cell_type": "code",
   "execution_count": 35,
   "metadata": {},
   "outputs": [
    {
     "data": {
      "text/plain": [
       "<matplotlib.axes._subplots.AxesSubplot at 0x249c0a86f48>"
      ]
     },
     "execution_count": 35,
     "metadata": {},
     "output_type": "execute_result"
    },
    {
     "data": {
      "image/png": "[encoded data removed]",
      "text/plain": [
       "<Figure size 1080x432 with 1 Axes>"
      ]
     },
     "metadata": {},
     "output_type": "display_data"
    }
   ],
   "source": [
    "s = df.groupby(\"manufacturer\").model.agg(lambda x:len(x.unique()))\n",
    "s.sort_values(ascending= False).plot(kind=\"bar\",figsize=(15,6))"
   ]
  },
  {
   "cell_type": "code",
   "execution_count": 36,
   "metadata": {},
   "outputs": [],
   "source": [
    "var = 'model'\n",
    "model = df[[var]]\n",
    "model = pd.get_dummies(model)\n",
    "model_names = df[var].value_counts()[df[var].value_counts() <= 10].index.tolist()\n",
    "model_names = ['model_' + model for model in model_names]\n",
    "model.drop(model_names ,axis=1,inplace=True)"
   ]
  },
  {
   "cell_type": "markdown",
   "metadata": {},
   "source": [
    "Tập dữ liệu này có khá nhiều loại model và mỗi loại nhà sản xuất lại có số lượng model khác nhau, có vẻ thuộc tính này sẽ không hiệu quả khi sử dụng để dự đoán giá xe"
   ]
  },
  {
   "cell_type": "code",
   "execution_count": 37,
   "metadata": {},
   "outputs": [],
   "source": [
    "# var = 'model'\n",
    "# sns.catplot(y='price',x=var,data= df.sort_values('price',ascending=False),kind=\"boxen\",height=6, aspect=3)\n",
    "# plt.show\n",
    "# plt.xticks(rotation=90);"
   ]
  },
  {
   "cell_type": "markdown",
   "metadata": {},
   "source": [
    "tuy nhiên mỗi model lại có khoảng phân bố giá khác nhau, vậy để sử dụng thuộc tính này có lẽ ta nên chia các model thành 3 nhóm cao, trung bình và thấp theo mức giá để sử dụng dự đoan giá xe"
   ]
  },
  {
   "cell_type": "code",
   "execution_count": 38,
   "metadata": {},
   "outputs": [
    {
     "data": {
      "text/html": [
       "<div>\n",
       "<style scoped>\n",
       "    .dataframe tbody tr th:only-of-type {\n",
       "        vertical-align: middle;\n",
       "    }\n",
       "\n",
       "    .dataframe tbody tr th {\n",
       "        vertical-align: top;\n",
       "    }\n",
       "\n",
       "    .dataframe thead th {\n",
       "        text-align: right;\n",
       "    }\n",
       "</style>\n",
       "<table border=\"1\" class=\"dataframe\">\n",
       "  <thead>\n",
       "    <tr style=\"text-align: right;\">\n",
       "      <th></th>\n",
       "      <th>price</th>\n",
       "      <th>model</th>\n",
       "    </tr>\n",
       "    <tr>\n",
       "      <th>model</th>\n",
       "      <th></th>\n",
       "      <th></th>\n",
       "    </tr>\n",
       "  </thead>\n",
       "  <tbody>\n",
       "    <tr>\n",
       "      <th>100</th>\n",
       "      <td>1534.993058</td>\n",
       "      <td>100</td>\n",
       "    </tr>\n",
       "    <tr>\n",
       "      <th>1007</th>\n",
       "      <td>4450.000000</td>\n",
       "      <td>1007</td>\n",
       "    </tr>\n",
       "    <tr>\n",
       "      <th>100NX</th>\n",
       "      <td>766.420000</td>\n",
       "      <td>100NX</td>\n",
       "    </tr>\n",
       "    <tr>\n",
       "      <th>106</th>\n",
       "      <td>1408.000000</td>\n",
       "      <td>106</td>\n",
       "    </tr>\n",
       "    <tr>\n",
       "      <th>107</th>\n",
       "      <td>4270.435000</td>\n",
       "      <td>107</td>\n",
       "    </tr>\n",
       "    <tr>\n",
       "      <th>...</th>\n",
       "      <td>...</td>\n",
       "      <td>...</td>\n",
       "    </tr>\n",
       "    <tr>\n",
       "      <th>i30</th>\n",
       "      <td>7822.111111</td>\n",
       "      <td>i30</td>\n",
       "    </tr>\n",
       "    <tr>\n",
       "      <th>i40</th>\n",
       "      <td>13090.954545</td>\n",
       "      <td>i40</td>\n",
       "    </tr>\n",
       "    <tr>\n",
       "      <th>ix20</th>\n",
       "      <td>7200.000000</td>\n",
       "      <td>ix20</td>\n",
       "    </tr>\n",
       "    <tr>\n",
       "      <th>ix35</th>\n",
       "      <td>13151.794118</td>\n",
       "      <td>ix35</td>\n",
       "    </tr>\n",
       "    <tr>\n",
       "      <th>ix55</th>\n",
       "      <td>14999.000000</td>\n",
       "      <td>ix55</td>\n",
       "    </tr>\n",
       "  </tbody>\n",
       "</table>\n",
       "<p>992 rows × 2 columns</p>\n",
       "</div>"
      ],
      "text/plain": [
       "              price  model\n",
       "model                     \n",
       "100     1534.993058    100\n",
       "1007    4450.000000   1007\n",
       "100NX    766.420000  100NX\n",
       "106     1408.000000    106\n",
       "107     4270.435000    107\n",
       "...             ...    ...\n",
       "i30     7822.111111    i30\n",
       "i40    13090.954545    i40\n",
       "ix20    7200.000000   ix20\n",
       "ix35   13151.794118   ix35\n",
       "ix55   14999.000000   ix55\n",
       "\n",
       "[992 rows x 2 columns]"
      ]
     },
     "execution_count": 38,
     "metadata": {},
     "output_type": "execute_result"
    }
   ],
   "source": [
    "model = pd.DataFrame(df.groupby(\"model\").mean()['price'])\n",
    "model['model'] = model.index\n",
    "# model.set_index(map(int,range(992)),inplace=True)\n",
    "model"
   ]
  },
  {
   "cell_type": "code",
   "execution_count": 39,
   "metadata": {},
   "outputs": [
    {
     "data": {
      "text/plain": [
       "<matplotlib.axes._subplots.AxesSubplot at 0x249c2048488>"
      ]
     },
     "execution_count": 39,
     "metadata": {},
     "output_type": "execute_result"
    },
    {
     "data": {
      "image/png": "[encoded data removed]",
      "text/plain": [
       "<Figure size 432x288 with 1 Axes>"
      ]
     },
     "metadata": {},
     "output_type": "display_data"
    }
   ],
   "source": [
    "model['price'].plot(kind='hist')"
   ]
  },
  {
   "cell_type": "markdown",
   "metadata": {},
   "source": [
    "từ biểu đồ trên ta sẽ chia model thành 3 loại từ 0->5,000; 5000->20,000 và từ 20,000->50,000 tương ứng với 3 loại giá tương ứng với các giá trị 1,2 và 3"
   ]
  },
  {
   "cell_type": "code",
   "execution_count": 40,
   "metadata": {},
   "outputs": [
    {
     "data": {
      "text/html": [
       "<div>\n",
       "<style scoped>\n",
       "    .dataframe tbody tr th:only-of-type {\n",
       "        vertical-align: middle;\n",
       "    }\n",
       "\n",
       "    .dataframe tbody tr th {\n",
       "        vertical-align: top;\n",
       "    }\n",
       "\n",
       "    .dataframe thead th {\n",
       "        text-align: right;\n",
       "    }\n",
       "</style>\n",
       "<table border=\"1\" class=\"dataframe\">\n",
       "  <thead>\n",
       "    <tr style=\"text-align: right;\">\n",
       "      <th></th>\n",
       "      <th>price</th>\n",
       "      <th>model</th>\n",
       "      <th>kind</th>\n",
       "    </tr>\n",
       "    <tr>\n",
       "      <th>model</th>\n",
       "      <th></th>\n",
       "      <th></th>\n",
       "      <th></th>\n",
       "    </tr>\n",
       "  </thead>\n",
       "  <tbody>\n",
       "    <tr>\n",
       "      <th>100</th>\n",
       "      <td>1534.993058</td>\n",
       "      <td>100</td>\n",
       "      <td>1</td>\n",
       "    </tr>\n",
       "    <tr>\n",
       "      <th>1007</th>\n",
       "      <td>4450.000000</td>\n",
       "      <td>1007</td>\n",
       "      <td>1</td>\n",
       "    </tr>\n",
       "    <tr>\n",
       "      <th>100NX</th>\n",
       "      <td>766.420000</td>\n",
       "      <td>100NX</td>\n",
       "      <td>1</td>\n",
       "    </tr>\n",
       "    <tr>\n",
       "      <th>106</th>\n",
       "      <td>1408.000000</td>\n",
       "      <td>106</td>\n",
       "      <td>1</td>\n",
       "    </tr>\n",
       "    <tr>\n",
       "      <th>107</th>\n",
       "      <td>4270.435000</td>\n",
       "      <td>107</td>\n",
       "      <td>1</td>\n",
       "    </tr>\n",
       "    <tr>\n",
       "      <th>...</th>\n",
       "      <td>...</td>\n",
       "      <td>...</td>\n",
       "      <td>...</td>\n",
       "    </tr>\n",
       "    <tr>\n",
       "      <th>i30</th>\n",
       "      <td>7822.111111</td>\n",
       "      <td>i30</td>\n",
       "      <td>2</td>\n",
       "    </tr>\n",
       "    <tr>\n",
       "      <th>i40</th>\n",
       "      <td>13090.954545</td>\n",
       "      <td>i40</td>\n",
       "      <td>2</td>\n",
       "    </tr>\n",
       "    <tr>\n",
       "      <th>ix20</th>\n",
       "      <td>7200.000000</td>\n",
       "      <td>ix20</td>\n",
       "      <td>2</td>\n",
       "    </tr>\n",
       "    <tr>\n",
       "      <th>ix35</th>\n",
       "      <td>13151.794118</td>\n",
       "      <td>ix35</td>\n",
       "      <td>2</td>\n",
       "    </tr>\n",
       "    <tr>\n",
       "      <th>ix55</th>\n",
       "      <td>14999.000000</td>\n",
       "      <td>ix55</td>\n",
       "      <td>2</td>\n",
       "    </tr>\n",
       "  </tbody>\n",
       "</table>\n",
       "<p>992 rows × 3 columns</p>\n",
       "</div>"
      ],
      "text/plain": [
       "              price  model  kind\n",
       "model                           \n",
       "100     1534.993058    100     1\n",
       "1007    4450.000000   1007     1\n",
       "100NX    766.420000  100NX     1\n",
       "106     1408.000000    106     1\n",
       "107     4270.435000    107     1\n",
       "...             ...    ...   ...\n",
       "i30     7822.111111    i30     2\n",
       "i40    13090.954545    i40     2\n",
       "ix20    7200.000000   ix20     2\n",
       "ix35   13151.794118   ix35     2\n",
       "ix55   14999.000000   ix55     2\n",
       "\n",
       "[992 rows x 3 columns]"
      ]
     },
     "execution_count": 40,
     "metadata": {},
     "output_type": "execute_result"
    }
   ],
   "source": [
    "models = df.model.copy()\n",
    "def convert(x):\n",
    "    if 0<x<=5000:\n",
    "        return 1\n",
    "    elif 5000<x<=20000:\n",
    "        return 2\n",
    "    else :\n",
    "        return 3    \n",
    "model['kind'] = model.price.apply(convert)\n",
    "model"
   ]
  },
  {
   "cell_type": "code",
   "execution_count": 41,
   "metadata": {},
   "outputs": [
    {
     "data": {
      "text/plain": [
       "0        2\n",
       "1        1\n",
       "2        2\n",
       "3        2\n",
       "4        2\n",
       "        ..\n",
       "29966    2\n",
       "29967    1\n",
       "29968    1\n",
       "29969    1\n",
       "29970    2\n",
       "Name: model, Length: 29971, dtype: int64"
      ]
     },
     "execution_count": 41,
     "metadata": {},
     "output_type": "execute_result"
    }
   ],
   "source": [
    "a = dict(zip(model.model, model.kind))\n",
    "model_hased = df.model.apply(lambda x: a[x])\n",
    "model_hased"
   ]
  },
  {
   "cell_type": "markdown",
   "metadata": {},
   "source": [
    "#### 4. Transmisssion"
   ]
  },
  {
   "cell_type": "markdown",
   "metadata": {},
   "source": [
    "Đây là thuộc tính category thể hiện loại hộp số của xe, tập giá trị của thuộc tính này là :"
   ]
  },
  {
   "cell_type": "code",
   "execution_count": 42,
   "metadata": {},
   "outputs": [
    {
     "data": {
      "text/plain": [
       "array(['automatic', 'mechanical'], dtype=object)"
      ]
     },
     "execution_count": 42,
     "metadata": {},
     "output_type": "execute_result"
    }
   ],
   "source": [
    "df.transmission.unique()"
   ]
  },
  {
   "cell_type": "markdown",
   "metadata": {},
   "source": [
    "Số điểm dữ liệu của mỗi loại hộp số là:"
   ]
  },
  {
   "cell_type": "code",
   "execution_count": 43,
   "metadata": {},
   "outputs": [
    {
     "data": {
      "text/plain": [
       "mechanical    19906\n",
       "automatic     10065\n",
       "Name: transmission, dtype: int64"
      ]
     },
     "execution_count": 43,
     "metadata": {},
     "output_type": "execute_result"
    }
   ],
   "source": [
    "var = 'transmission'\n",
    "df[var].value_counts()"
   ]
  },
  {
   "cell_type": "code",
   "execution_count": 44,
   "metadata": {},
   "outputs": [
    {
     "data": {
      "image/png": "[encoded data removed]",
      "text/plain": [
       "<Figure size 432x288 with 1 Axes>"
      ]
     },
     "metadata": {},
     "output_type": "display_data"
    }
   ],
   "source": [
    "df[var].value_counts().plot(kind = 'bar')\n",
    "plt.xticks(rotation = 0);"
   ]
  },
  {
   "cell_type": "markdown",
   "metadata": {},
   "source": [
    "Phân bô dữ liệu của mỗi loại hộp số theo giá tiền xe:"
   ]
  },
  {
   "cell_type": "code",
   "execution_count": 45,
   "metadata": {},
   "outputs": [
    {
     "data": {
      "text/plain": [
       "<function matplotlib.pyplot.show(*args, **kw)>"
      ]
     },
     "execution_count": 45,
     "metadata": {},
     "output_type": "execute_result"
    },
    {
     "data": {
      "image/png": "[encoded data removed]",
      "text/plain": [
       "<Figure size 1296x432 with 1 Axes>"
      ]
     },
     "metadata": {},
     "output_type": "display_data"
    }
   ],
   "source": [
    "sns.catplot(y='price',x=var,data= df.sort_values('price',ascending=False),kind=\"boxen\",height=6, aspect=3)\n",
    "plt.show"
   ]
  },
  {
   "cell_type": "markdown",
   "metadata": {},
   "source": [
    "Theo biểu đồ trên thì có vẻ hộp số tự động sẽ có giá tiền cao hơn, tuy nhiên miền giá của cả 2 loại khá rộng"
   ]
  },
  {
   "cell_type": "markdown",
   "metadata": {},
   "source": [
    "Tuy nhiên theo biểu đồ thì có vẻ loại hộp số sàn có vẻ có outlier"
   ]
  },
  {
   "cell_type": "code",
   "execution_count": 46,
   "metadata": {},
   "outputs": [
    {
     "data": {
      "text/html": [
       "<div>\n",
       "<style scoped>\n",
       "    .dataframe tbody tr th:only-of-type {\n",
       "        vertical-align: middle;\n",
       "    }\n",
       "\n",
       "    .dataframe tbody tr th {\n",
       "        vertical-align: top;\n",
       "    }\n",
       "\n",
       "    .dataframe thead th {\n",
       "        text-align: right;\n",
       "    }\n",
       "</style>\n",
       "<table border=\"1\" class=\"dataframe\">\n",
       "  <thead>\n",
       "    <tr style=\"text-align: right;\">\n",
       "      <th></th>\n",
       "      <th>manufacturer</th>\n",
       "      <th>model</th>\n",
       "      <th>transmission</th>\n",
       "      <th>color</th>\n",
       "      <th>odometer</th>\n",
       "      <th>year</th>\n",
       "      <th>engineFuel</th>\n",
       "      <th>engineType</th>\n",
       "      <th>engineCapacity</th>\n",
       "      <th>bodyType</th>\n",
       "      <th>...</th>\n",
       "      <th>feature_1</th>\n",
       "      <th>feature_2</th>\n",
       "      <th>feature_3</th>\n",
       "      <th>feature_4</th>\n",
       "      <th>feature_5</th>\n",
       "      <th>feature_6</th>\n",
       "      <th>feature_7</th>\n",
       "      <th>feature_8</th>\n",
       "      <th>feature_9</th>\n",
       "      <th>price</th>\n",
       "    </tr>\n",
       "  </thead>\n",
       "  <tbody>\n",
       "    <tr>\n",
       "      <th>18750</th>\n",
       "      <td>Land Rover</td>\n",
       "      <td>Defender</td>\n",
       "      <td>mechanical</td>\n",
       "      <td>green</td>\n",
       "      <td>30452</td>\n",
       "      <td>2014</td>\n",
       "      <td>diesel</td>\n",
       "      <td>diesel</td>\n",
       "      <td>2.2</td>\n",
       "      <td>suv</td>\n",
       "      <td>...</td>\n",
       "      <td>True</td>\n",
       "      <td>True</td>\n",
       "      <td>False</td>\n",
       "      <td>False</td>\n",
       "      <td>True</td>\n",
       "      <td>False</td>\n",
       "      <td>False</td>\n",
       "      <td>False</td>\n",
       "      <td>False</td>\n",
       "      <td>39900.0</td>\n",
       "    </tr>\n",
       "    <tr>\n",
       "      <th>22274</th>\n",
       "      <td>Mercedes-Benz</td>\n",
       "      <td>Sprinter</td>\n",
       "      <td>mechanical</td>\n",
       "      <td>white</td>\n",
       "      <td>340000</td>\n",
       "      <td>2014</td>\n",
       "      <td>diesel</td>\n",
       "      <td>diesel</td>\n",
       "      <td>2.2</td>\n",
       "      <td>minibus</td>\n",
       "      <td>...</td>\n",
       "      <td>True</td>\n",
       "      <td>True</td>\n",
       "      <td>False</td>\n",
       "      <td>False</td>\n",
       "      <td>False</td>\n",
       "      <td>False</td>\n",
       "      <td>False</td>\n",
       "      <td>True</td>\n",
       "      <td>True</td>\n",
       "      <td>41000.0</td>\n",
       "    </tr>\n",
       "    <tr>\n",
       "      <th>25475</th>\n",
       "      <td>Lexus</td>\n",
       "      <td>NX</td>\n",
       "      <td>mechanical</td>\n",
       "      <td>white</td>\n",
       "      <td>10</td>\n",
       "      <td>2019</td>\n",
       "      <td>gasoline</td>\n",
       "      <td>gasoline</td>\n",
       "      <td>2.0</td>\n",
       "      <td>suv</td>\n",
       "      <td>...</td>\n",
       "      <td>False</td>\n",
       "      <td>False</td>\n",
       "      <td>False</td>\n",
       "      <td>False</td>\n",
       "      <td>False</td>\n",
       "      <td>False</td>\n",
       "      <td>False</td>\n",
       "      <td>False</td>\n",
       "      <td>False</td>\n",
       "      <td>47400.0</td>\n",
       "    </tr>\n",
       "    <tr>\n",
       "      <th>27418</th>\n",
       "      <td>Toyota</td>\n",
       "      <td>Land Cruiser</td>\n",
       "      <td>mechanical</td>\n",
       "      <td>blue</td>\n",
       "      <td>284000</td>\n",
       "      <td>2009</td>\n",
       "      <td>diesel</td>\n",
       "      <td>diesel</td>\n",
       "      <td>4.2</td>\n",
       "      <td>suv</td>\n",
       "      <td>...</td>\n",
       "      <td>False</td>\n",
       "      <td>False</td>\n",
       "      <td>False</td>\n",
       "      <td>True</td>\n",
       "      <td>False</td>\n",
       "      <td>False</td>\n",
       "      <td>False</td>\n",
       "      <td>False</td>\n",
       "      <td>False</td>\n",
       "      <td>36000.0</td>\n",
       "    </tr>\n",
       "  </tbody>\n",
       "</table>\n",
       "<p>4 rows × 23 columns</p>\n",
       "</div>"
      ],
      "text/plain": [
       "        manufacturer         model transmission  color  odometer  year  \\\n",
       "18750     Land Rover      Defender   mechanical  green     30452  2014   \n",
       "22274  Mercedes-Benz      Sprinter   mechanical  white    340000  2014   \n",
       "25475          Lexus            NX   mechanical  white        10  2019   \n",
       "27418         Toyota  Land Cruiser   mechanical   blue    284000  2009   \n",
       "\n",
       "      engineFuel engineType  engineCapacity bodyType  ... feature_1  \\\n",
       "18750     diesel     diesel             2.2      suv  ...      True   \n",
       "22274     diesel     diesel             2.2  minibus  ...      True   \n",
       "25475   gasoline   gasoline             2.0      suv  ...     False   \n",
       "27418     diesel     diesel             4.2      suv  ...     False   \n",
       "\n",
       "       feature_2  feature_3  feature_4  feature_5  feature_6  feature_7  \\\n",
       "18750       True      False      False       True      False      False   \n",
       "22274       True      False      False      False      False      False   \n",
       "25475      False      False      False      False      False      False   \n",
       "27418      False      False       True      False      False      False   \n",
       "\n",
       "       feature_8  feature_9    price  \n",
       "18750      False      False  39900.0  \n",
       "22274       True       True  41000.0  \n",
       "25475      False      False  47400.0  \n",
       "27418      False      False  36000.0  \n",
       "\n",
       "[4 rows x 23 columns]"
      ]
     },
     "execution_count": 46,
     "metadata": {},
     "output_type": "execute_result"
    }
   ],
   "source": [
    " df[(df['transmission'] == 'mechanical') & (df['price'] > 35000)]"
   ]
  },
  {
   "cell_type": "code",
   "execution_count": 47,
   "metadata": {},
   "outputs": [
    {
     "data": {
      "text/html": [
       "<div>\n",
       "<style scoped>\n",
       "    .dataframe tbody tr th:only-of-type {\n",
       "        vertical-align: middle;\n",
       "    }\n",
       "\n",
       "    .dataframe tbody tr th {\n",
       "        vertical-align: top;\n",
       "    }\n",
       "\n",
       "    .dataframe thead th {\n",
       "        text-align: right;\n",
       "    }\n",
       "</style>\n",
       "<table border=\"1\" class=\"dataframe\">\n",
       "  <thead>\n",
       "    <tr style=\"text-align: right;\">\n",
       "      <th></th>\n",
       "      <th>manufacturer</th>\n",
       "      <th>model</th>\n",
       "      <th>transmission</th>\n",
       "      <th>color</th>\n",
       "      <th>odometer</th>\n",
       "      <th>year</th>\n",
       "      <th>engineFuel</th>\n",
       "      <th>engineType</th>\n",
       "      <th>engineCapacity</th>\n",
       "      <th>bodyType</th>\n",
       "      <th>...</th>\n",
       "      <th>feature_1</th>\n",
       "      <th>feature_2</th>\n",
       "      <th>feature_3</th>\n",
       "      <th>feature_4</th>\n",
       "      <th>feature_5</th>\n",
       "      <th>feature_6</th>\n",
       "      <th>feature_7</th>\n",
       "      <th>feature_8</th>\n",
       "      <th>feature_9</th>\n",
       "      <th>price</th>\n",
       "    </tr>\n",
       "  </thead>\n",
       "  <tbody>\n",
       "    <tr>\n",
       "      <th>0</th>\n",
       "      <td>Hyundai</td>\n",
       "      <td>i40</td>\n",
       "      <td>automatic</td>\n",
       "      <td>red</td>\n",
       "      <td>48000</td>\n",
       "      <td>2014</td>\n",
       "      <td>gasoline</td>\n",
       "      <td>gasoline</td>\n",
       "      <td>2.0</td>\n",
       "      <td>sedan</td>\n",
       "      <td>...</td>\n",
       "      <td>True</td>\n",
       "      <td>False</td>\n",
       "      <td>False</td>\n",
       "      <td>False</td>\n",
       "      <td>True</td>\n",
       "      <td>False</td>\n",
       "      <td>False</td>\n",
       "      <td>True</td>\n",
       "      <td>True</td>\n",
       "      <td>15500.0</td>\n",
       "    </tr>\n",
       "    <tr>\n",
       "      <th>1</th>\n",
       "      <td>Mitsubishi</td>\n",
       "      <td>Carisma</td>\n",
       "      <td>mechanical</td>\n",
       "      <td>green</td>\n",
       "      <td>320000</td>\n",
       "      <td>2000</td>\n",
       "      <td>diesel</td>\n",
       "      <td>diesel</td>\n",
       "      <td>1.9</td>\n",
       "      <td>hatchback</td>\n",
       "      <td>...</td>\n",
       "      <td>True</td>\n",
       "      <td>False</td>\n",
       "      <td>False</td>\n",
       "      <td>False</td>\n",
       "      <td>False</td>\n",
       "      <td>False</td>\n",
       "      <td>False</td>\n",
       "      <td>False</td>\n",
       "      <td>False</td>\n",
       "      <td>2800.0</td>\n",
       "    </tr>\n",
       "    <tr>\n",
       "      <th>2</th>\n",
       "      <td>Volkswagen</td>\n",
       "      <td>T5</td>\n",
       "      <td>mechanical</td>\n",
       "      <td>white</td>\n",
       "      <td>164000</td>\n",
       "      <td>2011</td>\n",
       "      <td>diesel</td>\n",
       "      <td>diesel</td>\n",
       "      <td>2.0</td>\n",
       "      <td>minibus</td>\n",
       "      <td>...</td>\n",
       "      <td>True</td>\n",
       "      <td>False</td>\n",
       "      <td>True</td>\n",
       "      <td>False</td>\n",
       "      <td>False</td>\n",
       "      <td>True</td>\n",
       "      <td>True</td>\n",
       "      <td>True</td>\n",
       "      <td>False</td>\n",
       "      <td>16700.0</td>\n",
       "    </tr>\n",
       "    <tr>\n",
       "      <th>3</th>\n",
       "      <td>Volkswagen</td>\n",
       "      <td>T4 Multivan</td>\n",
       "      <td>mechanical</td>\n",
       "      <td>blue</td>\n",
       "      <td>385672</td>\n",
       "      <td>1998</td>\n",
       "      <td>diesel</td>\n",
       "      <td>diesel</td>\n",
       "      <td>2.5</td>\n",
       "      <td>minibus</td>\n",
       "      <td>...</td>\n",
       "      <td>True</td>\n",
       "      <td>True</td>\n",
       "      <td>False</td>\n",
       "      <td>False</td>\n",
       "      <td>False</td>\n",
       "      <td>False</td>\n",
       "      <td>False</td>\n",
       "      <td>True</td>\n",
       "      <td>True</td>\n",
       "      <td>11000.0</td>\n",
       "    </tr>\n",
       "    <tr>\n",
       "      <th>4</th>\n",
       "      <td>Toyota</td>\n",
       "      <td>Camry</td>\n",
       "      <td>automatic</td>\n",
       "      <td>black</td>\n",
       "      <td>215652</td>\n",
       "      <td>2005</td>\n",
       "      <td>gasoline</td>\n",
       "      <td>gasoline</td>\n",
       "      <td>2.4</td>\n",
       "      <td>sedan</td>\n",
       "      <td>...</td>\n",
       "      <td>False</td>\n",
       "      <td>False</td>\n",
       "      <td>False</td>\n",
       "      <td>False</td>\n",
       "      <td>False</td>\n",
       "      <td>False</td>\n",
       "      <td>False</td>\n",
       "      <td>False</td>\n",
       "      <td>True</td>\n",
       "      <td>6800.0</td>\n",
       "    </tr>\n",
       "    <tr>\n",
       "      <th>...</th>\n",
       "      <td>...</td>\n",
       "      <td>...</td>\n",
       "      <td>...</td>\n",
       "      <td>...</td>\n",
       "      <td>...</td>\n",
       "      <td>...</td>\n",
       "      <td>...</td>\n",
       "      <td>...</td>\n",
       "      <td>...</td>\n",
       "      <td>...</td>\n",
       "      <td>...</td>\n",
       "      <td>...</td>\n",
       "      <td>...</td>\n",
       "      <td>...</td>\n",
       "      <td>...</td>\n",
       "      <td>...</td>\n",
       "      <td>...</td>\n",
       "      <td>...</td>\n",
       "      <td>...</td>\n",
       "      <td>...</td>\n",
       "      <td>...</td>\n",
       "    </tr>\n",
       "    <tr>\n",
       "      <th>29962</th>\n",
       "      <td>Acura</td>\n",
       "      <td>TSX</td>\n",
       "      <td>automatic</td>\n",
       "      <td>black</td>\n",
       "      <td>252000</td>\n",
       "      <td>2008</td>\n",
       "      <td>gasoline</td>\n",
       "      <td>gasoline</td>\n",
       "      <td>2.4</td>\n",
       "      <td>sedan</td>\n",
       "      <td>...</td>\n",
       "      <td>True</td>\n",
       "      <td>True</td>\n",
       "      <td>False</td>\n",
       "      <td>True</td>\n",
       "      <td>True</td>\n",
       "      <td>False</td>\n",
       "      <td>True</td>\n",
       "      <td>True</td>\n",
       "      <td>True</td>\n",
       "      <td>9500.0</td>\n",
       "    </tr>\n",
       "    <tr>\n",
       "      <th>29963</th>\n",
       "      <td>Ford</td>\n",
       "      <td>Mondeo</td>\n",
       "      <td>mechanical</td>\n",
       "      <td>red</td>\n",
       "      <td>290000</td>\n",
       "      <td>1997</td>\n",
       "      <td>gasoline</td>\n",
       "      <td>gasoline</td>\n",
       "      <td>1.8</td>\n",
       "      <td>sedan</td>\n",
       "      <td>...</td>\n",
       "      <td>False</td>\n",
       "      <td>False</td>\n",
       "      <td>False</td>\n",
       "      <td>False</td>\n",
       "      <td>False</td>\n",
       "      <td>False</td>\n",
       "      <td>False</td>\n",
       "      <td>False</td>\n",
       "      <td>False</td>\n",
       "      <td>1750.0</td>\n",
       "    </tr>\n",
       "    <tr>\n",
       "      <th>29964</th>\n",
       "      <td>Mitsubishi</td>\n",
       "      <td>Galant</td>\n",
       "      <td>mechanical</td>\n",
       "      <td>grey</td>\n",
       "      <td>250000</td>\n",
       "      <td>1993</td>\n",
       "      <td>gasoline</td>\n",
       "      <td>gasoline</td>\n",
       "      <td>2.0</td>\n",
       "      <td>hatchback</td>\n",
       "      <td>...</td>\n",
       "      <td>False</td>\n",
       "      <td>False</td>\n",
       "      <td>False</td>\n",
       "      <td>False</td>\n",
       "      <td>False</td>\n",
       "      <td>False</td>\n",
       "      <td>False</td>\n",
       "      <td>False</td>\n",
       "      <td>True</td>\n",
       "      <td>1400.0</td>\n",
       "    </tr>\n",
       "    <tr>\n",
       "      <th>29965</th>\n",
       "      <td>Opel</td>\n",
       "      <td>Astra</td>\n",
       "      <td>mechanical</td>\n",
       "      <td>silver</td>\n",
       "      <td>267000</td>\n",
       "      <td>2002</td>\n",
       "      <td>diesel</td>\n",
       "      <td>diesel</td>\n",
       "      <td>1.7</td>\n",
       "      <td>universal</td>\n",
       "      <td>...</td>\n",
       "      <td>True</td>\n",
       "      <td>False</td>\n",
       "      <td>False</td>\n",
       "      <td>False</td>\n",
       "      <td>False</td>\n",
       "      <td>False</td>\n",
       "      <td>False</td>\n",
       "      <td>False</td>\n",
       "      <td>True</td>\n",
       "      <td>3700.0</td>\n",
       "    </tr>\n",
       "    <tr>\n",
       "      <th>29966</th>\n",
       "      <td>Volkswagen</td>\n",
       "      <td>Jetta</td>\n",
       "      <td>mechanical</td>\n",
       "      <td>silver</td>\n",
       "      <td>360000</td>\n",
       "      <td>1990</td>\n",
       "      <td>gasoline</td>\n",
       "      <td>gasoline</td>\n",
       "      <td>1.3</td>\n",
       "      <td>sedan</td>\n",
       "      <td>...</td>\n",
       "      <td>False</td>\n",
       "      <td>False</td>\n",
       "      <td>False</td>\n",
       "      <td>False</td>\n",
       "      <td>False</td>\n",
       "      <td>False</td>\n",
       "      <td>False</td>\n",
       "      <td>False</td>\n",
       "      <td>False</td>\n",
       "      <td>1100.0</td>\n",
       "    </tr>\n",
       "  </tbody>\n",
       "</table>\n",
       "<p>29967 rows × 23 columns</p>\n",
       "</div>"
      ],
      "text/plain": [
       "      manufacturer        model transmission   color  odometer  year  \\\n",
       "0          Hyundai          i40    automatic     red     48000  2014   \n",
       "1       Mitsubishi      Carisma   mechanical   green    320000  2000   \n",
       "2       Volkswagen           T5   mechanical   white    164000  2011   \n",
       "3       Volkswagen  T4 Multivan   mechanical    blue    385672  1998   \n",
       "4           Toyota        Camry    automatic   black    215652  2005   \n",
       "...            ...          ...          ...     ...       ...   ...   \n",
       "29962        Acura          TSX    automatic   black    252000  2008   \n",
       "29963         Ford       Mondeo   mechanical     red    290000  1997   \n",
       "29964   Mitsubishi       Galant   mechanical    grey    250000  1993   \n",
       "29965         Opel        Astra   mechanical  silver    267000  2002   \n",
       "29966   Volkswagen        Jetta   mechanical  silver    360000  1990   \n",
       "\n",
       "      engineFuel engineType  engineCapacity   bodyType  ... feature_1  \\\n",
       "0       gasoline   gasoline             2.0      sedan  ...      True   \n",
       "1         diesel     diesel             1.9  hatchback  ...      True   \n",
       "2         diesel     diesel             2.0    minibus  ...      True   \n",
       "3         diesel     diesel             2.5    minibus  ...      True   \n",
       "4       gasoline   gasoline             2.4      sedan  ...     False   \n",
       "...          ...        ...             ...        ...  ...       ...   \n",
       "29962   gasoline   gasoline             2.4      sedan  ...      True   \n",
       "29963   gasoline   gasoline             1.8      sedan  ...     False   \n",
       "29964   gasoline   gasoline             2.0  hatchback  ...     False   \n",
       "29965     diesel     diesel             1.7  universal  ...      True   \n",
       "29966   gasoline   gasoline             1.3      sedan  ...     False   \n",
       "\n",
       "       feature_2  feature_3  feature_4  feature_5  feature_6  feature_7  \\\n",
       "0          False      False      False       True      False      False   \n",
       "1          False      False      False      False      False      False   \n",
       "2          False       True      False      False       True       True   \n",
       "3           True      False      False      False      False      False   \n",
       "4          False      False      False      False      False      False   \n",
       "...          ...        ...        ...        ...        ...        ...   \n",
       "29962       True      False       True       True      False       True   \n",
       "29963      False      False      False      False      False      False   \n",
       "29964      False      False      False      False      False      False   \n",
       "29965      False      False      False      False      False      False   \n",
       "29966      False      False      False      False      False      False   \n",
       "\n",
       "       feature_8  feature_9    price  \n",
       "0           True       True  15500.0  \n",
       "1          False      False   2800.0  \n",
       "2           True      False  16700.0  \n",
       "3           True       True  11000.0  \n",
       "4          False       True   6800.0  \n",
       "...          ...        ...      ...  \n",
       "29962       True       True   9500.0  \n",
       "29963      False      False   1750.0  \n",
       "29964      False       True   1400.0  \n",
       "29965      False       True   3700.0  \n",
       "29966      False      False   1100.0  \n",
       "\n",
       "[29967 rows x 23 columns]"
      ]
     },
     "execution_count": 47,
     "metadata": {},
     "output_type": "execute_result"
    }
   ],
   "source": [
    "indexs = df[(df['transmission'] == 'mechanical') & (df['price'] > 35000)].index\n",
    "\n",
    "df.drop(indexs,axis = 0,inplace = True)\n",
    "df.reset_index(drop =True,inplace=True)\n",
    "df \n"
   ]
  },
  {
   "cell_type": "markdown",
   "metadata": {},
   "source": [
    "#### 5.color"
   ]
  },
  {
   "cell_type": "code",
   "execution_count": 48,
   "metadata": {},
   "outputs": [
    {
     "data": {
      "text/plain": [
       "black     6110\n",
       "silver    5420\n",
       "blue      4505\n",
       "white     3241\n",
       "grey      2995\n",
       "red       2265\n",
       "green     2032\n",
       "other     2023\n",
       "brown      660\n",
       "violet     371\n",
       "yellow     212\n",
       "orange     133\n",
       "Name: color, dtype: int64"
      ]
     },
     "execution_count": 48,
     "metadata": {},
     "output_type": "execute_result"
    }
   ],
   "source": [
    "var = 'color'\n",
    "df[var].value_counts()"
   ]
  },
  {
   "cell_type": "code",
   "execution_count": 49,
   "metadata": {},
   "outputs": [
    {
     "data": {
      "text/plain": [
       "<function matplotlib.pyplot.show(*args, **kw)>"
      ]
     },
     "execution_count": 49,
     "metadata": {},
     "output_type": "execute_result"
    },
    {
     "data": {
      "image/png": "[encoded data removed]",
      "text/plain": [
       "<Figure size 1296x432 with 1 Axes>"
      ]
     },
     "metadata": {},
     "output_type": "display_data"
    }
   ],
   "source": [
    "sns.catplot(y='price',x=var,data= df.sort_values('price',ascending=False),kind=\"boxen\",height=6, aspect=3)\n",
    "plt.show"
   ]
  },
  {
   "cell_type": "code",
   "execution_count": null,
   "metadata": {},
   "outputs": [],
   "source": []
  },
  {
   "cell_type": "markdown",
   "metadata": {},
   "source": [
    "#### 6.odmeter"
   ]
  },
  {
   "cell_type": "markdown",
   "metadata": {},
   "source": [
    "Đây là thuộc tính thể hiện số lượng km đã đi của xe "
   ]
  },
  {
   "cell_type": "code",
   "execution_count": 50,
   "metadata": {},
   "outputs": [
    {
     "data": {
      "text/html": [
       "<div>\n",
       "<style scoped>\n",
       "    .dataframe tbody tr th:only-of-type {\n",
       "        vertical-align: middle;\n",
       "    }\n",
       "\n",
       "    .dataframe tbody tr th {\n",
       "        vertical-align: top;\n",
       "    }\n",
       "\n",
       "    .dataframe thead th {\n",
       "        text-align: right;\n",
       "    }\n",
       "</style>\n",
       "<table border=\"1\" class=\"dataframe\">\n",
       "  <thead>\n",
       "    <tr style=\"text-align: right;\">\n",
       "      <th></th>\n",
       "      <th>odometer</th>\n",
       "    </tr>\n",
       "  </thead>\n",
       "  <tbody>\n",
       "    <tr>\n",
       "      <th>count</th>\n",
       "      <td>29967.000000</td>\n",
       "    </tr>\n",
       "    <tr>\n",
       "      <th>mean</th>\n",
       "      <td>252881.652384</td>\n",
       "    </tr>\n",
       "    <tr>\n",
       "      <th>std</th>\n",
       "      <td>131392.224232</td>\n",
       "    </tr>\n",
       "    <tr>\n",
       "      <th>min</th>\n",
       "      <td>1.000000</td>\n",
       "    </tr>\n",
       "    <tr>\n",
       "      <th>25%</th>\n",
       "      <td>163000.000000</td>\n",
       "    </tr>\n",
       "    <tr>\n",
       "      <th>50%</th>\n",
       "      <td>250000.000000</td>\n",
       "    </tr>\n",
       "    <tr>\n",
       "      <th>75%</th>\n",
       "      <td>326426.000000</td>\n",
       "    </tr>\n",
       "    <tr>\n",
       "      <th>max</th>\n",
       "      <td>1000000.000000</td>\n",
       "    </tr>\n",
       "  </tbody>\n",
       "</table>\n",
       "</div>"
      ],
      "text/plain": [
       "             odometer\n",
       "count    29967.000000\n",
       "mean    252881.652384\n",
       "std     131392.224232\n",
       "min          1.000000\n",
       "25%     163000.000000\n",
       "50%     250000.000000\n",
       "75%     326426.000000\n",
       "max    1000000.000000"
      ]
     },
     "execution_count": 50,
     "metadata": {},
     "output_type": "execute_result"
    }
   ],
   "source": [
    "df[['odometer']].describe()"
   ]
  },
  {
   "cell_type": "code",
   "execution_count": 51,
   "metadata": {},
   "outputs": [
    {
     "data": {
      "text/plain": [
       "<matplotlib.collections.PathCollection at 0x249c20e3588>"
      ]
     },
     "execution_count": 51,
     "metadata": {},
     "output_type": "execute_result"
    },
    {
     "data": {
      "image/png": "[encoded data removed]",
      "text/plain": [
       "<Figure size 432x288 with 1 Axes>"
      ]
     },
     "metadata": {},
     "output_type": "display_data"
    }
   ],
   "source": [
    "plt.scatter(x=df.odometer,y=df.price)"
   ]
  },
  {
   "cell_type": "code",
   "execution_count": 52,
   "metadata": {},
   "outputs": [
    {
     "data": {
      "text/plain": [
       "<matplotlib.axes._subplots.AxesSubplot at 0x249c21123c8>"
      ]
     },
     "execution_count": 52,
     "metadata": {},
     "output_type": "execute_result"
    },
    {
     "data": {
      "image/png": "[encoded data removed]",
      "text/plain": [
       "<Figure size 432x288 with 1 Axes>"
      ]
     },
     "metadata": {},
     "output_type": "display_data"
    }
   ],
   "source": [
    "sns.distplot(df.odometer)"
   ]
  },
  {
   "cell_type": "code",
   "execution_count": 53,
   "metadata": {},
   "outputs": [
    {
     "name": "stdout",
     "output_type": "stream",
     "text": [
      "0    0.034907\n",
      "dtype: float64\n",
      "0    1.552627\n",
      "dtype: float64\n"
     ]
    },
    {
     "data": {
      "text/plain": [
       "<matplotlib.axes._subplots.AxesSubplot at 0x249c2156648>"
      ]
     },
     "execution_count": 53,
     "metadata": {},
     "output_type": "execute_result"
    },
    {
     "data": {
      "image/png": "[encoded data removed]",
      "text/plain": [
       "<Figure size 432x288 with 1 Axes>"
      ]
     },
     "metadata": {},
     "output_type": "display_data"
    }
   ],
   "source": [
    "a,max_log_odo = stats.boxcox(df['odometer'])[:2]\n",
    "a = pd.DataFrame(a)\n",
    "print(a.skew())\n",
    "print(a.kurt())\n",
    "sns.distplot(a)"
   ]
  },
  {
   "cell_type": "markdown",
   "metadata": {},
   "source": [
    "#### 7.year"
   ]
  },
  {
   "cell_type": "code",
   "execution_count": 54,
   "metadata": {},
   "outputs": [],
   "source": [
    "import datetime\n",
    "now = datetime.datetime.now()\n",
    "year  = pd.DataFrame(df['year'].apply(lambda x : now.year - x))\n"
   ]
  },
  {
   "cell_type": "code",
   "execution_count": 55,
   "metadata": {},
   "outputs": [
    {
     "data": {
      "text/html": [
       "<div>\n",
       "<style scoped>\n",
       "    .dataframe tbody tr th:only-of-type {\n",
       "        vertical-align: middle;\n",
       "    }\n",
       "\n",
       "    .dataframe tbody tr th {\n",
       "        vertical-align: top;\n",
       "    }\n",
       "\n",
       "    .dataframe thead th {\n",
       "        text-align: right;\n",
       "    }\n",
       "</style>\n",
       "<table border=\"1\" class=\"dataframe\">\n",
       "  <thead>\n",
       "    <tr style=\"text-align: right;\">\n",
       "      <th></th>\n",
       "      <th>year</th>\n",
       "    </tr>\n",
       "  </thead>\n",
       "  <tbody>\n",
       "    <tr>\n",
       "      <th>count</th>\n",
       "      <td>29967.000000</td>\n",
       "    </tr>\n",
       "    <tr>\n",
       "      <th>mean</th>\n",
       "      <td>16.871592</td>\n",
       "    </tr>\n",
       "    <tr>\n",
       "      <th>std</th>\n",
       "      <td>7.514648</td>\n",
       "    </tr>\n",
       "    <tr>\n",
       "      <th>min</th>\n",
       "      <td>1.000000</td>\n",
       "    </tr>\n",
       "    <tr>\n",
       "      <th>25%</th>\n",
       "      <td>11.000000</td>\n",
       "    </tr>\n",
       "    <tr>\n",
       "      <th>50%</th>\n",
       "      <td>17.000000</td>\n",
       "    </tr>\n",
       "    <tr>\n",
       "      <th>75%</th>\n",
       "      <td>22.000000</td>\n",
       "    </tr>\n",
       "    <tr>\n",
       "      <th>max</th>\n",
       "      <td>60.000000</td>\n",
       "    </tr>\n",
       "  </tbody>\n",
       "</table>\n",
       "</div>"
      ],
      "text/plain": [
       "               year\n",
       "count  29967.000000\n",
       "mean      16.871592\n",
       "std        7.514648\n",
       "min        1.000000\n",
       "25%       11.000000\n",
       "50%       17.000000\n",
       "75%       22.000000\n",
       "max       60.000000"
      ]
     },
     "execution_count": 55,
     "metadata": {},
     "output_type": "execute_result"
    }
   ],
   "source": [
    "year.describe()"
   ]
  },
  {
   "cell_type": "code",
   "execution_count": 56,
   "metadata": {},
   "outputs": [
    {
     "data": {
      "text/plain": [
       "<matplotlib.collections.PathCollection at 0x249c27b3f08>"
      ]
     },
     "execution_count": 56,
     "metadata": {},
     "output_type": "execute_result"
    },
    {
     "data": {
      "image/png": "[encoded data removed]",
      "text/plain": [
       "<Figure size 432x288 with 1 Axes>"
      ]
     },
     "metadata": {},
     "output_type": "display_data"
    }
   ],
   "source": [
    "plt.scatter(x=year,y=df.price)"
   ]
  },
  {
   "cell_type": "code",
   "execution_count": 57,
   "metadata": {},
   "outputs": [
    {
     "data": {
      "text/plain": [
       "<matplotlib.axes._subplots.AxesSubplot at 0x249c27c2fc8>"
      ]
     },
     "execution_count": 57,
     "metadata": {},
     "output_type": "execute_result"
    },
    {
     "data": {
      "image/png": "[encoded data removed]",
      "text/plain": [
       "<Figure size 432x288 with 1 Axes>"
      ]
     },
     "metadata": {},
     "output_type": "display_data"
    }
   ],
   "source": [
    "sns.distplot(year)"
   ]
  },
  {
   "cell_type": "code",
   "execution_count": 58,
   "metadata": {},
   "outputs": [
    {
     "name": "stdout",
     "output_type": "stream",
     "text": [
      "year    0.197887\n",
      "dtype: float64\n",
      "year   -0.415021\n",
      "dtype: float64\n"
     ]
    }
   ],
   "source": [
    "print(year.skew())\n",
    "print(year.kurt())"
   ]
  },
  {
   "cell_type": "markdown",
   "metadata": {},
   "source": [
    "#### 8. engineFuel"
   ]
  },
  {
   "cell_type": "code",
   "execution_count": 59,
   "metadata": {},
   "outputs": [
    {
     "data": {
      "text/plain": [
       "gasoline         19066\n",
       "diesel           10693\n",
       "hybrid-petrol      198\n",
       "electric             9\n",
       "hybrid-diesel        1\n",
       "Name: engineFuel, dtype: int64"
      ]
     },
     "execution_count": 59,
     "metadata": {},
     "output_type": "execute_result"
    }
   ],
   "source": [
    "var = 'engineFuel'\n",
    "df[var].value_counts()"
   ]
  },
  {
   "cell_type": "code",
   "execution_count": 60,
   "metadata": {},
   "outputs": [
    {
     "data": {
      "text/plain": [
       "<function matplotlib.pyplot.show(*args, **kw)>"
      ]
     },
     "execution_count": 60,
     "metadata": {},
     "output_type": "execute_result"
    },
    {
     "data": {
      "image/png": "[encoded data removed]",
      "text/plain": [
       "<Figure size 1296x432 with 1 Axes>"
      ]
     },
     "metadata": {},
     "output_type": "display_data"
    }
   ],
   "source": [
    "sns.catplot(y='price',x=var,data= df.sort_values('price',ascending=False),kind=\"boxen\",height=6, aspect=3)\n",
    "plt.show"
   ]
  },
  {
   "cell_type": "code",
   "execution_count": 61,
   "metadata": {},
   "outputs": [
    {
     "data": {
      "text/html": [
       "<div>\n",
       "<style scoped>\n",
       "    .dataframe tbody tr th:only-of-type {\n",
       "        vertical-align: middle;\n",
       "    }\n",
       "\n",
       "    .dataframe tbody tr th {\n",
       "        vertical-align: top;\n",
       "    }\n",
       "\n",
       "    .dataframe thead th {\n",
       "        text-align: right;\n",
       "    }\n",
       "</style>\n",
       "<table border=\"1\" class=\"dataframe\">\n",
       "  <thead>\n",
       "    <tr style=\"text-align: right;\">\n",
       "      <th></th>\n",
       "      <th>engineFuel_diesel</th>\n",
       "      <th>engineFuel_electric</th>\n",
       "      <th>engineFuel_gasoline</th>\n",
       "      <th>engineFuel_hybrid-petrol</th>\n",
       "    </tr>\n",
       "  </thead>\n",
       "  <tbody>\n",
       "    <tr>\n",
       "      <th>0</th>\n",
       "      <td>0</td>\n",
       "      <td>0</td>\n",
       "      <td>1</td>\n",
       "      <td>0</td>\n",
       "    </tr>\n",
       "    <tr>\n",
       "      <th>1</th>\n",
       "      <td>1</td>\n",
       "      <td>0</td>\n",
       "      <td>0</td>\n",
       "      <td>0</td>\n",
       "    </tr>\n",
       "    <tr>\n",
       "      <th>2</th>\n",
       "      <td>1</td>\n",
       "      <td>0</td>\n",
       "      <td>0</td>\n",
       "      <td>0</td>\n",
       "    </tr>\n",
       "    <tr>\n",
       "      <th>3</th>\n",
       "      <td>1</td>\n",
       "      <td>0</td>\n",
       "      <td>0</td>\n",
       "      <td>0</td>\n",
       "    </tr>\n",
       "    <tr>\n",
       "      <th>4</th>\n",
       "      <td>0</td>\n",
       "      <td>0</td>\n",
       "      <td>1</td>\n",
       "      <td>0</td>\n",
       "    </tr>\n",
       "    <tr>\n",
       "      <th>...</th>\n",
       "      <td>...</td>\n",
       "      <td>...</td>\n",
       "      <td>...</td>\n",
       "      <td>...</td>\n",
       "    </tr>\n",
       "    <tr>\n",
       "      <th>29962</th>\n",
       "      <td>0</td>\n",
       "      <td>0</td>\n",
       "      <td>1</td>\n",
       "      <td>0</td>\n",
       "    </tr>\n",
       "    <tr>\n",
       "      <th>29963</th>\n",
       "      <td>0</td>\n",
       "      <td>0</td>\n",
       "      <td>1</td>\n",
       "      <td>0</td>\n",
       "    </tr>\n",
       "    <tr>\n",
       "      <th>29964</th>\n",
       "      <td>0</td>\n",
       "      <td>0</td>\n",
       "      <td>1</td>\n",
       "      <td>0</td>\n",
       "    </tr>\n",
       "    <tr>\n",
       "      <th>29965</th>\n",
       "      <td>1</td>\n",
       "      <td>0</td>\n",
       "      <td>0</td>\n",
       "      <td>0</td>\n",
       "    </tr>\n",
       "    <tr>\n",
       "      <th>29966</th>\n",
       "      <td>0</td>\n",
       "      <td>0</td>\n",
       "      <td>1</td>\n",
       "      <td>0</td>\n",
       "    </tr>\n",
       "  </tbody>\n",
       "</table>\n",
       "<p>29967 rows × 4 columns</p>\n",
       "</div>"
      ],
      "text/plain": [
       "       engineFuel_diesel  engineFuel_electric  engineFuel_gasoline  \\\n",
       "0                      0                    0                    1   \n",
       "1                      1                    0                    0   \n",
       "2                      1                    0                    0   \n",
       "3                      1                    0                    0   \n",
       "4                      0                    0                    1   \n",
       "...                  ...                  ...                  ...   \n",
       "29962                  0                    0                    1   \n",
       "29963                  0                    0                    1   \n",
       "29964                  0                    0                    1   \n",
       "29965                  1                    0                    0   \n",
       "29966                  0                    0                    1   \n",
       "\n",
       "       engineFuel_hybrid-petrol  \n",
       "0                             0  \n",
       "1                             0  \n",
       "2                             0  \n",
       "3                             0  \n",
       "4                             0  \n",
       "...                         ...  \n",
       "29962                         0  \n",
       "29963                         0  \n",
       "29964                         0  \n",
       "29965                         0  \n",
       "29966                         0  \n",
       "\n",
       "[29967 rows x 4 columns]"
      ]
     },
     "execution_count": 61,
     "metadata": {},
     "output_type": "execute_result"
    }
   ],
   "source": [
    "var = 'engineFuel'\n",
    "engineFuel = df[[var]]\n",
    "engineFuel = pd.get_dummies(engineFuel).drop('engineFuel_hybrid-diesel',axis = 1)\n",
    "engineFuel"
   ]
  },
  {
   "cell_type": "markdown",
   "metadata": {},
   "source": [
    "#### 9. engineType"
   ]
  },
  {
   "cell_type": "code",
   "execution_count": 62,
   "metadata": {},
   "outputs": [
    {
     "data": {
      "text/plain": [
       "gasoline    19264\n",
       "diesel      10694\n",
       "electric        9\n",
       "Name: engineType, dtype: int64"
      ]
     },
     "execution_count": 62,
     "metadata": {},
     "output_type": "execute_result"
    }
   ],
   "source": [
    "\n",
    "var = 'engineType'\n",
    "\n",
    "df[var].value_counts()\n"
   ]
  },
  {
   "cell_type": "code",
   "execution_count": 63,
   "metadata": {},
   "outputs": [
    {
     "data": {
      "text/plain": [
       "<function matplotlib.pyplot.show(*args, **kw)>"
      ]
     },
     "execution_count": 63,
     "metadata": {},
     "output_type": "execute_result"
    },
    {
     "data": {
      "image/png": "[encoded data removed]",
      "text/plain": [
       "<Figure size 1296x432 with 1 Axes>"
      ]
     },
     "metadata": {},
     "output_type": "display_data"
    }
   ],
   "source": [
    "sns.catplot(y='price',x=var,data= df.sort_values('price',ascending=False),kind=\"boxen\",height=6, aspect=3)\n",
    "plt.show"
   ]
  },
  {
   "cell_type": "markdown",
   "metadata": {},
   "source": [
    "#### 10. engineCapacity"
   ]
  },
  {
   "cell_type": "code",
   "execution_count": 64,
   "metadata": {},
   "outputs": [
    {
     "data": {
      "text/plain": [
       "<matplotlib.collections.PathCollection at 0x249c3c9b608>"
      ]
     },
     "execution_count": 64,
     "metadata": {},
     "output_type": "execute_result"
    },
    {
     "data": {
      "image/png": "[encoded data removed]",
      "text/plain": [
       "<Figure size 432x288 with 1 Axes>"
      ]
     },
     "metadata": {},
     "output_type": "display_data"
    }
   ],
   "source": [
    "plt.scatter(x=df.engineCapacity,y=df.price)"
   ]
  },
  {
   "cell_type": "code",
   "execution_count": 65,
   "metadata": {},
   "outputs": [
    {
     "data": {
      "text/plain": [
       "<matplotlib.axes._subplots.AxesSubplot at 0x249c2e84148>"
      ]
     },
     "execution_count": 65,
     "metadata": {},
     "output_type": "execute_result"
    },
    {
     "data": {
      "image/png": "[encoded data removed]",
      "text/plain": [
       "<Figure size 432x288 with 1 Axes>"
      ]
     },
     "metadata": {},
     "output_type": "display_data"
    }
   ],
   "source": [
    "sns.distplot(df.engineCapacity)"
   ]
  },
  {
   "cell_type": "code",
   "execution_count": 66,
   "metadata": {},
   "outputs": [
    {
     "data": {
      "text/plain": [
       "array([['Ford', 'Econoline', 'automatic', 'black', 259104, 1996,\n",
       "        'gasoline', 'gasoline', 7.5, 'minibus', 'rear', 11, False, True,\n",
       "        False, False, False, False, False, False, False, True, 10000.0]],\n",
       "      dtype=object)"
      ]
     },
     "execution_count": 66,
     "metadata": {},
     "output_type": "execute_result"
    }
   ],
   "source": [
    "df[(df.engineCapacity >=7)  & (df.price <= 10000)].values"
   ]
  },
  {
   "cell_type": "markdown",
   "metadata": {},
   "source": [
    "#### 11. bodyType"
   ]
  },
  {
   "cell_type": "code",
   "execution_count": 67,
   "metadata": {},
   "outputs": [
    {
     "data": {
      "text/plain": [
       "sedan        9886\n",
       "hatchback    6132\n",
       "universal    4430\n",
       "suv          3861\n",
       "minivan      2807\n",
       "minibus      1083\n",
       "van           637\n",
       "coupe         517\n",
       "liftback      449\n",
       "pickup         91\n",
       "cabriolet      63\n",
       "limousine      11\n",
       "Name: bodyType, dtype: int64"
      ]
     },
     "execution_count": 67,
     "metadata": {},
     "output_type": "execute_result"
    }
   ],
   "source": [
    "var = 'bodyType'\n",
    "df[var].value_counts()\n",
    "\n"
   ]
  },
  {
   "cell_type": "code",
   "execution_count": 68,
   "metadata": {},
   "outputs": [
    {
     "data": {
      "text/plain": [
       "<function matplotlib.pyplot.show(*args, **kw)>"
      ]
     },
     "execution_count": 68,
     "metadata": {},
     "output_type": "execute_result"
    },
    {
     "data": {
      "image/png": "[encoded data removed]",
      "text/plain": [
       "<Figure size 1296x432 with 1 Axes>"
      ]
     },
     "metadata": {},
     "output_type": "display_data"
    }
   ],
   "source": [
    "sns.catplot(y='price',x=var,data= df.sort_values('price',ascending=False),kind=\"boxen\",height=6, aspect=3)\n",
    "plt.show"
   ]
  },
  {
   "cell_type": "code",
   "execution_count": 69,
   "metadata": {},
   "outputs": [],
   "source": [
    "bodyType = df[[var]]\n",
    "bodyType = pd.get_dummies(bodyType,drop_first= True)"
   ]
  },
  {
   "cell_type": "markdown",
   "metadata": {},
   "source": [
    "#### 12. Drivetrain"
   ]
  },
  {
   "cell_type": "code",
   "execution_count": 70,
   "metadata": {},
   "outputs": [
    {
     "data": {
      "text/plain": [
       "front    21914\n",
       "all       4029\n",
       "rear      4024\n",
       "Name: drivetrain, dtype: int64"
      ]
     },
     "execution_count": 70,
     "metadata": {},
     "output_type": "execute_result"
    }
   ],
   "source": [
    "var = 'drivetrain'\n",
    "df[var].value_counts()\n"
   ]
  },
  {
   "cell_type": "code",
   "execution_count": 71,
   "metadata": {},
   "outputs": [
    {
     "data": {
      "text/plain": [
       "<function matplotlib.pyplot.show(*args, **kw)>"
      ]
     },
     "execution_count": 71,
     "metadata": {},
     "output_type": "execute_result"
    },
    {
     "data": {
      "image/png": "[encoded data removed]",
      "text/plain": [
       "<Figure size 1296x432 with 1 Axes>"
      ]
     },
     "metadata": {},
     "output_type": "display_data"
    }
   ],
   "source": [
    "sns.catplot(y='price',x=var,data= df.sort_values('price',ascending=False),kind=\"boxen\",height=6, aspect=3)\n",
    "plt.show"
   ]
  },
  {
   "cell_type": "code",
   "execution_count": 72,
   "metadata": {},
   "outputs": [],
   "source": [
    "drivetrain = df[[var]]\n",
    "drivetrain = pd.get_dummies(drivetrain)"
   ]
  },
  {
   "cell_type": "markdown",
   "metadata": {},
   "source": [
    "# New feature"
   ]
  },
  {
   "cell_type": "code",
   "execution_count": 73,
   "metadata": {},
   "outputs": [],
   "source": [
    "now = datetime.datetime.now()\n",
    "age = df['year'].apply(lambda x : now.year - x)"
   ]
  },
  {
   "cell_type": "code",
   "execution_count": 74,
   "metadata": {},
   "outputs": [],
   "source": [
    "km_year = df['odometer']/age"
   ]
  },
  {
   "cell_type": "code",
   "execution_count": 75,
   "metadata": {},
   "outputs": [
    {
     "data": {
      "text/plain": [
       "<matplotlib.axes._subplots.AxesSubplot at 0x249c36ca088>"
      ]
     },
     "execution_count": 75,
     "metadata": {},
     "output_type": "execute_result"
    },
    {
     "data": {
      "image/png": "[encoded data removed]",
      "text/plain": [
       "<Figure size 432x288 with 1 Axes>"
      ]
     },
     "metadata": {},
     "output_type": "display_data"
    }
   ],
   "source": [
    "sns.distplot(km_year)"
   ]
  },
  {
   "cell_type": "code",
   "execution_count": 76,
   "metadata": {},
   "outputs": [
    {
     "data": {
      "text/plain": [
       "<matplotlib.collections.PathCollection at 0x249c2fc8648>"
      ]
     },
     "execution_count": 76,
     "metadata": {},
     "output_type": "execute_result"
    },
    {
     "data": {
      "image/png": "[encoded data removed]",
      "text/plain": [
       "<Figure size 432x288 with 1 Axes>"
      ]
     },
     "metadata": {},
     "output_type": "display_data"
    }
   ],
   "source": [
    "plt.scatter(x=km_year,y=df.price)"
   ]
  },
  {
   "cell_type": "markdown",
   "metadata": {},
   "source": [
    "# Build Model"
   ]
  },
  {
   "cell_type": "code",
   "execution_count": 77,
   "metadata": {},
   "outputs": [
    {
     "name": "stderr",
     "output_type": "stream",
     "text": [
      "C:\\Users\\Admin\\anaconda3\\lib\\site-packages\\ipykernel_launcher.py:108: DataConversionWarning: A column-vector y was passed when a 1d array was expected. Please change the shape of y to (n_samples,), for example using ravel().\n"
     ]
    },
    {
     "name": "stdout",
     "output_type": "stream",
     "text": [
      "Accuracy on Traing set:  0.9886007792749382\n",
      "Accuracy on Testing set:  0.9164806806416637\n",
      "\t\tError Table\n",
      "Mean Absolute Error      :  1020.7377576741823\n",
      "Mean Squared  Error      :  3111692.245589426\n",
      "Root Mean Squared  Error :  1763.9989358243463\n",
      "R Squared Error          :  0.9130832394017256\n"
     ]
    }
   ],
   "source": [
    "# Cell này dùng để test trước khi làm D:\n",
    "from scipy import stats\n",
    "import datetime\n",
    "test = df.copy()\n",
    "\n",
    "# price \n",
    "test['price'],max_log = stats.boxcox(test['price'])[:2]\n",
    "\n",
    "# manufacturer \n",
    "manufacturer = test[[\"manufacturer\"]]\n",
    "manufacturer = pd.get_dummies(manufacturer,drop_first= True)\n",
    "manufacturer.head()\n",
    "\n",
    "# transmission\n",
    "var = 'transmission'\n",
    "Transmission = test[[var]]\n",
    "Transmission = pd.get_dummies(Transmission,drop_first= True)\n",
    "\n",
    "# color\n",
    "var = 'color'\n",
    "#test.drop([\"color\"],axis=1,inplace=True)\n",
    "color = test[[var]]\n",
    "color = pd.get_dummies(color,drop_first= True)\n",
    "\n",
    "\n",
    "\n",
    "# engine Fuel\n",
    "var = 'engineFuel'\n",
    "engineFuel = test[[var]]\n",
    "engineFuel = pd.get_dummies(engineFuel,drop_first =True)#.drop('engineFuel_hybrid-diesel',axis = 1)\n",
    "\n",
    "\n",
    "\n",
    "var = 'engineType'\n",
    "engineType = test[[var]]\n",
    "engineType = pd.get_dummies(engineType)\n",
    "\n",
    "#body type\n",
    "var = 'bodyType'\n",
    "bodyType = test[[var]]\n",
    "bodyType = pd.get_dummies(bodyType,drop_first= True)\n",
    "\n",
    "\n",
    "\n",
    "# drivertrain\n",
    "var = 'drivetrain'\n",
    "drivetrain = test[[var]]\n",
    "drivetrain = pd.get_dummies(drivetrain)\n",
    "\n",
    "# year \n",
    "\n",
    "now = datetime.datetime.now()\n",
    "test['year'] = test['year'].apply(lambda x : now.year - x)\n",
    "\n",
    "# model \n",
    "# model = pd.DataFrame(test.groupby(\"model\").mean()['price'])\n",
    "# model['model'] = model.index\n",
    "# def convert(x):\n",
    "#     if 0<x<=5000:\n",
    "#         return 'low'\n",
    "#     elif 5000<x<=20000:\n",
    "#         return 'medium'\n",
    "#     else :\n",
    "#         return 'high'    \n",
    "\n",
    "# model['kind'] = model.price.apply(convert)\n",
    "# a = dict(zip(model.model, model.kind))\n",
    "# test.model = df.model.apply(lambda x: a[x])\n",
    "# model  = pd.get_dummies(test.model)\n",
    "\n",
    "var = 'model'\n",
    "model = test[[var]]\n",
    "model = pd.get_dummies(model,drop_first =True)\n",
    "#model_names = test[var].value_counts()[test[var].value_counts() <= 10].index.tolist()\n",
    "#model_names = ['model_' + model for model in model_names]\n",
    "#model.drop(model_names ,axis=1,inplace=True)\n",
    "\n",
    "\n",
    "test = pd.concat([test,Transmission,drivetrain,bodyType,engineType,manufacturer,color,engineFuel,model],axis=1)\n",
    "test['km_per_year2'] = (test['odometer']/ test['year'])**2\n",
    "\n",
    "test.drop([\"model\",\"manufacturer\",\"transmission\",\"engineType\",\"bodyType\",\"drivetrain\",\"model\",\"engineFuel\",\"color\"],axis=1,inplace=True)\n",
    "\n",
    "\n",
    "#test['odometer'],max_log_odo = stats.boxcox(test['odometer'])[:2]\n",
    "\n",
    "\n",
    "X = test.drop([\"price\",],axis=1)\n",
    "y = test.loc[:,['price']]\n",
    "\n",
    "\n",
    "X['year_2'] =X['year']**2\n",
    "X['year_3'] = X['year']**3\n",
    "\n",
    "\n",
    "\n",
    "\n",
    "from sklearn.model_selection import train_test_split\n",
    "X_train, X_test, y_train, y_test = train_test_split(X, y, test_size = 0.2, random_state = 2)\n",
    "from sklearn import linear_model\n",
    "from sklearn.preprocessing import MinMaxScaler\n",
    "from sklearn.pipeline import Pipeline\n",
    "from sklearn.ensemble import RandomForestRegressor\n",
    "\n",
    "\n",
    "\n",
    "linear_reg = RandomForestRegressor()\n",
    "linear_reg.fit(X_train, y_train)\n",
    "\n",
    "y_pred= linear_reg.predict(X_test)\n",
    "print(\"Accuracy on Traing set: \",linear_reg.score(X_train,y_train))\n",
    "print(\"Accuracy on Testing set: \",linear_reg.score(X_test,y_test))\n",
    "\n",
    "from scipy.special import boxcox, inv_boxcox\n",
    "y_pred = inv_boxcox(y_pred,max_log)\n",
    "y_test = inv_boxcox(y_test,max_log)\n",
    "\n",
    "from sklearn import metrics\n",
    "from sklearn.metrics import mean_squared_error, mean_absolute_error\n",
    "\n",
    "\n",
    "\n",
    "print(\"\\t\\tError Table\")\n",
    "print('Mean Absolute Error      : ', metrics.mean_absolute_error((y_test) , (y_pred)))\n",
    "print('Mean Squared  Error      : ', metrics.mean_squared_error((y_test) , (y_pred)))\n",
    "print('Root Mean Squared  Error : ', np.sqrt(metrics.mean_squared_error((y_test) , (y_pred))))\n",
    "print('R Squared Error          : ', metrics.r2_score(y_test, y_pred))\n",
    "\n",
    "\n",
    "\n",
    "\n"
   ]
  },
  {
   "cell_type": "code",
   "execution_count": 78,
   "metadata": {},
   "outputs": [
    {
     "data": {
      "text/plain": [
       "(array([], dtype=int64),)"
      ]
     },
     "execution_count": 78,
     "metadata": {},
     "output_type": "execute_result"
    }
   ],
   "source": [
    "np.where(~np.isfinite(y_pred))"
   ]
  },
  {
   "cell_type": "code",
   "execution_count": 79,
   "metadata": {},
   "outputs": [
    {
     "data": {
      "text/plain": [
       "0.861700330848187"
      ]
     },
     "execution_count": 79,
     "metadata": {},
     "output_type": "execute_result"
    }
   ],
   "source": [
    "0.861700330848187"
   ]
  },
  {
   "cell_type": "code",
   "execution_count": 80,
   "metadata": {},
   "outputs": [
    {
     "data": {
      "text/plain": [
       "0.08704574277807464"
      ]
     },
     "execution_count": 80,
     "metadata": {},
     "output_type": "execute_result"
    }
   ],
   "source": [
    "  0.08704574277807464"
   ]
  },
  {
   "cell_type": "code",
   "execution_count": 81,
   "metadata": {},
   "outputs": [
    {
     "data": {
      "text/html": [
       "<div>\n",
       "<style scoped>\n",
       "    .dataframe tbody tr th:only-of-type {\n",
       "        vertical-align: middle;\n",
       "    }\n",
       "\n",
       "    .dataframe tbody tr th {\n",
       "        vertical-align: top;\n",
       "    }\n",
       "\n",
       "    .dataframe thead th {\n",
       "        text-align: right;\n",
       "    }\n",
       "</style>\n",
       "<table border=\"1\" class=\"dataframe\">\n",
       "  <thead>\n",
       "    <tr style=\"text-align: right;\">\n",
       "      <th></th>\n",
       "      <th>odometer</th>\n",
       "      <th>year</th>\n",
       "      <th>engineCapacity</th>\n",
       "      <th>photos</th>\n",
       "      <th>feature_0</th>\n",
       "      <th>feature_1</th>\n",
       "      <th>feature_2</th>\n",
       "      <th>feature_3</th>\n",
       "      <th>feature_4</th>\n",
       "      <th>feature_5</th>\n",
       "      <th>...</th>\n",
       "      <th>model_i20</th>\n",
       "      <th>model_i3</th>\n",
       "      <th>model_i30</th>\n",
       "      <th>model_i40</th>\n",
       "      <th>model_ix20</th>\n",
       "      <th>model_ix35</th>\n",
       "      <th>model_ix55</th>\n",
       "      <th>km_per_year2</th>\n",
       "      <th>year_2</th>\n",
       "      <th>year_3</th>\n",
       "    </tr>\n",
       "  </thead>\n",
       "  <tbody>\n",
       "    <tr>\n",
       "      <th>0</th>\n",
       "      <td>48000</td>\n",
       "      <td>6</td>\n",
       "      <td>2.0</td>\n",
       "      <td>1</td>\n",
       "      <td>False</td>\n",
       "      <td>True</td>\n",
       "      <td>False</td>\n",
       "      <td>False</td>\n",
       "      <td>False</td>\n",
       "      <td>True</td>\n",
       "      <td>...</td>\n",
       "      <td>0</td>\n",
       "      <td>0</td>\n",
       "      <td>0</td>\n",
       "      <td>1</td>\n",
       "      <td>0</td>\n",
       "      <td>0</td>\n",
       "      <td>0</td>\n",
       "      <td>6.400000e+07</td>\n",
       "      <td>36</td>\n",
       "      <td>216</td>\n",
       "    </tr>\n",
       "    <tr>\n",
       "      <th>1</th>\n",
       "      <td>320000</td>\n",
       "      <td>20</td>\n",
       "      <td>1.9</td>\n",
       "      <td>13</td>\n",
       "      <td>False</td>\n",
       "      <td>True</td>\n",
       "      <td>False</td>\n",
       "      <td>False</td>\n",
       "      <td>False</td>\n",
       "      <td>False</td>\n",
       "      <td>...</td>\n",
       "      <td>0</td>\n",
       "      <td>0</td>\n",
       "      <td>0</td>\n",
       "      <td>0</td>\n",
       "      <td>0</td>\n",
       "      <td>0</td>\n",
       "      <td>0</td>\n",
       "      <td>2.560000e+08</td>\n",
       "      <td>400</td>\n",
       "      <td>8000</td>\n",
       "    </tr>\n",
       "    <tr>\n",
       "      <th>2</th>\n",
       "      <td>164000</td>\n",
       "      <td>9</td>\n",
       "      <td>2.0</td>\n",
       "      <td>14</td>\n",
       "      <td>False</td>\n",
       "      <td>True</td>\n",
       "      <td>False</td>\n",
       "      <td>True</td>\n",
       "      <td>False</td>\n",
       "      <td>False</td>\n",
       "      <td>...</td>\n",
       "      <td>0</td>\n",
       "      <td>0</td>\n",
       "      <td>0</td>\n",
       "      <td>0</td>\n",
       "      <td>0</td>\n",
       "      <td>0</td>\n",
       "      <td>0</td>\n",
       "      <td>3.320494e+08</td>\n",
       "      <td>81</td>\n",
       "      <td>729</td>\n",
       "    </tr>\n",
       "    <tr>\n",
       "      <th>3</th>\n",
       "      <td>385672</td>\n",
       "      <td>22</td>\n",
       "      <td>2.5</td>\n",
       "      <td>1</td>\n",
       "      <td>False</td>\n",
       "      <td>True</td>\n",
       "      <td>True</td>\n",
       "      <td>False</td>\n",
       "      <td>False</td>\n",
       "      <td>False</td>\n",
       "      <td>...</td>\n",
       "      <td>0</td>\n",
       "      <td>0</td>\n",
       "      <td>0</td>\n",
       "      <td>0</td>\n",
       "      <td>0</td>\n",
       "      <td>0</td>\n",
       "      <td>0</td>\n",
       "      <td>3.073200e+08</td>\n",
       "      <td>484</td>\n",
       "      <td>10648</td>\n",
       "    </tr>\n",
       "    <tr>\n",
       "      <th>4</th>\n",
       "      <td>215652</td>\n",
       "      <td>15</td>\n",
       "      <td>2.4</td>\n",
       "      <td>12</td>\n",
       "      <td>False</td>\n",
       "      <td>False</td>\n",
       "      <td>False</td>\n",
       "      <td>False</td>\n",
       "      <td>False</td>\n",
       "      <td>False</td>\n",
       "      <td>...</td>\n",
       "      <td>0</td>\n",
       "      <td>0</td>\n",
       "      <td>0</td>\n",
       "      <td>0</td>\n",
       "      <td>0</td>\n",
       "      <td>0</td>\n",
       "      <td>0</td>\n",
       "      <td>2.066924e+08</td>\n",
       "      <td>225</td>\n",
       "      <td>3375</td>\n",
       "    </tr>\n",
       "    <tr>\n",
       "      <th>...</th>\n",
       "      <td>...</td>\n",
       "      <td>...</td>\n",
       "      <td>...</td>\n",
       "      <td>...</td>\n",
       "      <td>...</td>\n",
       "      <td>...</td>\n",
       "      <td>...</td>\n",
       "      <td>...</td>\n",
       "      <td>...</td>\n",
       "      <td>...</td>\n",
       "      <td>...</td>\n",
       "      <td>...</td>\n",
       "      <td>...</td>\n",
       "      <td>...</td>\n",
       "      <td>...</td>\n",
       "      <td>...</td>\n",
       "      <td>...</td>\n",
       "      <td>...</td>\n",
       "      <td>...</td>\n",
       "      <td>...</td>\n",
       "      <td>...</td>\n",
       "    </tr>\n",
       "    <tr>\n",
       "      <th>29962</th>\n",
       "      <td>252000</td>\n",
       "      <td>12</td>\n",
       "      <td>2.4</td>\n",
       "      <td>6</td>\n",
       "      <td>False</td>\n",
       "      <td>True</td>\n",
       "      <td>True</td>\n",
       "      <td>False</td>\n",
       "      <td>True</td>\n",
       "      <td>True</td>\n",
       "      <td>...</td>\n",
       "      <td>0</td>\n",
       "      <td>0</td>\n",
       "      <td>0</td>\n",
       "      <td>0</td>\n",
       "      <td>0</td>\n",
       "      <td>0</td>\n",
       "      <td>0</td>\n",
       "      <td>4.410000e+08</td>\n",
       "      <td>144</td>\n",
       "      <td>1728</td>\n",
       "    </tr>\n",
       "    <tr>\n",
       "      <th>29963</th>\n",
       "      <td>290000</td>\n",
       "      <td>23</td>\n",
       "      <td>1.8</td>\n",
       "      <td>9</td>\n",
       "      <td>True</td>\n",
       "      <td>False</td>\n",
       "      <td>False</td>\n",
       "      <td>False</td>\n",
       "      <td>False</td>\n",
       "      <td>False</td>\n",
       "      <td>...</td>\n",
       "      <td>0</td>\n",
       "      <td>0</td>\n",
       "      <td>0</td>\n",
       "      <td>0</td>\n",
       "      <td>0</td>\n",
       "      <td>0</td>\n",
       "      <td>0</td>\n",
       "      <td>1.589792e+08</td>\n",
       "      <td>529</td>\n",
       "      <td>12167</td>\n",
       "    </tr>\n",
       "    <tr>\n",
       "      <th>29964</th>\n",
       "      <td>250000</td>\n",
       "      <td>27</td>\n",
       "      <td>2.0</td>\n",
       "      <td>7</td>\n",
       "      <td>False</td>\n",
       "      <td>False</td>\n",
       "      <td>False</td>\n",
       "      <td>False</td>\n",
       "      <td>False</td>\n",
       "      <td>False</td>\n",
       "      <td>...</td>\n",
       "      <td>0</td>\n",
       "      <td>0</td>\n",
       "      <td>0</td>\n",
       "      <td>0</td>\n",
       "      <td>0</td>\n",
       "      <td>0</td>\n",
       "      <td>0</td>\n",
       "      <td>8.573388e+07</td>\n",
       "      <td>729</td>\n",
       "      <td>19683</td>\n",
       "    </tr>\n",
       "    <tr>\n",
       "      <th>29965</th>\n",
       "      <td>267000</td>\n",
       "      <td>18</td>\n",
       "      <td>1.7</td>\n",
       "      <td>6</td>\n",
       "      <td>False</td>\n",
       "      <td>True</td>\n",
       "      <td>False</td>\n",
       "      <td>False</td>\n",
       "      <td>False</td>\n",
       "      <td>False</td>\n",
       "      <td>...</td>\n",
       "      <td>0</td>\n",
       "      <td>0</td>\n",
       "      <td>0</td>\n",
       "      <td>0</td>\n",
       "      <td>0</td>\n",
       "      <td>0</td>\n",
       "      <td>0</td>\n",
       "      <td>2.200278e+08</td>\n",
       "      <td>324</td>\n",
       "      <td>5832</td>\n",
       "    </tr>\n",
       "    <tr>\n",
       "      <th>29966</th>\n",
       "      <td>360000</td>\n",
       "      <td>30</td>\n",
       "      <td>1.3</td>\n",
       "      <td>4</td>\n",
       "      <td>True</td>\n",
       "      <td>False</td>\n",
       "      <td>False</td>\n",
       "      <td>False</td>\n",
       "      <td>False</td>\n",
       "      <td>False</td>\n",
       "      <td>...</td>\n",
       "      <td>0</td>\n",
       "      <td>0</td>\n",
       "      <td>0</td>\n",
       "      <td>0</td>\n",
       "      <td>0</td>\n",
       "      <td>0</td>\n",
       "      <td>0</td>\n",
       "      <td>1.440000e+08</td>\n",
       "      <td>900</td>\n",
       "      <td>27000</td>\n",
       "    </tr>\n",
       "  </tbody>\n",
       "</table>\n",
       "<p>29967 rows × 1090 columns</p>\n",
       "</div>"
      ],
      "text/plain": [
       "       odometer  year  engineCapacity  photos  feature_0  feature_1  \\\n",
       "0         48000     6             2.0       1      False       True   \n",
       "1        320000    20             1.9      13      False       True   \n",
       "2        164000     9             2.0      14      False       True   \n",
       "3        385672    22             2.5       1      False       True   \n",
       "4        215652    15             2.4      12      False      False   \n",
       "...         ...   ...             ...     ...        ...        ...   \n",
       "29962    252000    12             2.4       6      False       True   \n",
       "29963    290000    23             1.8       9       True      False   \n",
       "29964    250000    27             2.0       7      False      False   \n",
       "29965    267000    18             1.7       6      False       True   \n",
       "29966    360000    30             1.3       4       True      False   \n",
       "\n",
       "       feature_2  feature_3  feature_4  feature_5  ...  model_i20  model_i3  \\\n",
       "0          False      False      False       True  ...          0         0   \n",
       "1          False      False      False      False  ...          0         0   \n",
       "2          False       True      False      False  ...          0         0   \n",
       "3           True      False      False      False  ...          0         0   \n",
       "4          False      False      False      False  ...          0         0   \n",
       "...          ...        ...        ...        ...  ...        ...       ...   \n",
       "29962       True      False       True       True  ...          0         0   \n",
       "29963      False      False      False      False  ...          0         0   \n",
       "29964      False      False      False      False  ...          0         0   \n",
       "29965      False      False      False      False  ...          0         0   \n",
       "29966      False      False      False      False  ...          0         0   \n",
       "\n",
       "       model_i30  model_i40  model_ix20  model_ix35  model_ix55  km_per_year2  \\\n",
       "0              0          1           0           0           0  6.400000e+07   \n",
       "1              0          0           0           0           0  2.560000e+08   \n",
       "2              0          0           0           0           0  3.320494e+08   \n",
       "3              0          0           0           0           0  3.073200e+08   \n",
       "4              0          0           0           0           0  2.066924e+08   \n",
       "...          ...        ...         ...         ...         ...           ...   \n",
       "29962          0          0           0           0           0  4.410000e+08   \n",
       "29963          0          0           0           0           0  1.589792e+08   \n",
       "29964          0          0           0           0           0  8.573388e+07   \n",
       "29965          0          0           0           0           0  2.200278e+08   \n",
       "29966          0          0           0           0           0  1.440000e+08   \n",
       "\n",
       "       year_2  year_3  \n",
       "0          36     216  \n",
       "1         400    8000  \n",
       "2          81     729  \n",
       "3         484   10648  \n",
       "4         225    3375  \n",
       "...       ...     ...  \n",
       "29962     144    1728  \n",
       "29963     529   12167  \n",
       "29964     729   19683  \n",
       "29965     324    5832  \n",
       "29966     900   27000  \n",
       "\n",
       "[29967 rows x 1090 columns]"
      ]
     },
     "execution_count": 81,
     "metadata": {},
     "output_type": "execute_result"
    }
   ],
   "source": [
    "X"
   ]
  },
  {
   "cell_type": "code",
   "execution_count": 82,
   "metadata": {},
   "outputs": [
    {
     "data": {
      "text/plain": [
       "<matplotlib.axes._subplots.AxesSubplot at 0x249c2ccc288>"
      ]
     },
     "execution_count": 82,
     "metadata": {},
     "output_type": "execute_result"
    },
    {
     "data": {
      "image/png": "[encoded data removed]",
      "text/plain": [
       "<Figure size 432x288 with 1 Axes>"
      ]
     },
     "metadata": {},
     "output_type": "display_data"
    }
   ],
   "source": [
    "sns.distplot(y_pred)"
   ]
  },
  {
   "cell_type": "code",
   "execution_count": null,
   "metadata": {},
   "outputs": [],
   "source": []
  }
 ],
 "metadata": {
  "kernelspec": {
   "display_name": "Python 3",
   "language": "python",
   "name": "python3"
  },
  "language_info": {
   "codemirror_mode": {
    "name": "ipython",
    "version": 3
   },
   "file_extension": ".py",
   "mimetype": "text/x-python",
   "name": "python",
   "nbconvert_exporter": "python",
   "pygments_lexer": "ipython3",
   "version": "3.7.6"
  }
 },
 "nbformat": 4,
 "nbformat_minor": 4
}
